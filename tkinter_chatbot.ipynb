{
 "cells": [
  {
   "cell_type": "code",
   "execution_count": 1,
   "id": "77adfc42",
   "metadata": {},
   "outputs": [],
   "source": [
    "from tkinter import *\n",
    "from tkinter.ttk import *\n",
    "import tkinter.font as font\n",
    "from tkinter import filedialog\n",
    "import os\n",
    "from PIL import ImageTk, Image\n",
    "import tensorflow as tf\n",
    "import cv2\n",
    "from keras.utils import np_utils\n",
    "from keras.datasets import mnist\n",
    "from keras.models import Sequential\n",
    "from keras.layers import Dense, Activation\n",
    "import numpy as np\n",
    "from numpy import argmax\n",
    "from keras.models import load_model\n",
    "import PIL.Image\n",
    "import tkinter as tk"
   ]
  },
  {
   "cell_type": "code",
   "execution_count": 2,
   "id": "6784dd89",
   "metadata": {},
   "outputs": [],
   "source": [
    "import warnings\n",
    "warnings.filterwarnings(action='ignore')\n",
    "import re\n",
    "import pymongo\n",
    "import pandas as pd\n",
    "from konlpy.tag import Okt\n",
    "import numpy as np\n",
    "from tqdm import tqdm\n",
    "from sklearn.preprocessing import LabelEncoder\n",
    "from sklearn.model_selection import train_test_split\n",
    "from tensorflow.keras.preprocessing.text import Tokenizer\n",
    "from tensorflow.keras.preprocessing.sequence import pad_sequences\n",
    "from tensorflow.keras.layers import *\n",
    "from tensorflow.keras.models import Sequential\n",
    "from tensorflow.keras.callbacks import EarlyStopping, ModelCheckpoint\n",
    "from tensorflow.keras import datasets, layers, models, optimizers"
   ]
  },
  {
   "cell_type": "code",
   "execution_count": 3,
   "id": "24d0611a",
   "metadata": {},
   "outputs": [],
   "source": [
    "model2=models.load_model('./Model/best_model.h6/')"
   ]
  },
  {
   "cell_type": "code",
   "execution_count": 4,
   "id": "f3ec1884",
   "metadata": {},
   "outputs": [
    {
     "name": "stdout",
     "output_type": "stream",
     "text": [
      "구매 목록에 대해 질문하셨군요!\n",
      "---1--- runway: 구매 목록에 대해 질문하셨군요!\n"
     ]
    },
    {
     "name": "stderr",
     "output_type": "stream",
     "text": [
      "Exception in Tkinter callback\n",
      "Traceback (most recent call last):\n",
      "  File \"C:\\Users\\hi\\Anaconda3\\lib\\tkinter\\__init__.py\", line 1702, in __call__\n",
      "    return self.func(*args)\n",
      "  File \"C:\\Users\\hi\\AppData\\Local\\Temp\\ipykernel_13852\\3818118233.py\", line 17, in confirm\n",
      "    Output.insert(END,id_input(input_text.get()) + '\\n')\n",
      "TypeError: id_input() takes 0 positional arguments but 1 was given\n"
     ]
    },
    {
     "name": "stdout",
     "output_type": "stream",
     "text": [
      "구매 목록에 대해 질문하셨군요!\n",
      "---1--- runway: 구매 목록에 대해 질문하셨군요!\n"
     ]
    },
    {
     "name": "stderr",
     "output_type": "stream",
     "text": [
      "Exception in Tkinter callback\n",
      "Traceback (most recent call last):\n",
      "  File \"C:\\Users\\hi\\Anaconda3\\lib\\tkinter\\__init__.py\", line 1702, in __call__\n",
      "    return self.func(*args)\n",
      "  File \"C:\\Users\\hi\\AppData\\Local\\Temp\\ipykernel_13852\\3818118233.py\", line 17, in confirm\n",
      "    Output.insert(END,id_input(input_text.get()) + '\\n')\n",
      "TypeError: id_input() takes 0 positional arguments but 1 was given\n"
     ]
    }
   ],
   "source": [
    "window = Tk()\n",
    "\n",
    "window.title('런웨이와 챗봇상담')\n",
    "window.geometry(\"500x900\")\n",
    "window.resizable(False, True)\n",
    "\n",
    "chat_data=[]\n",
    "\n",
    "def pressed():\n",
    "    label.configure(text=\"버튼을 누름\")\n",
    "\n",
    "def confirm():\n",
    "    in_text = \"user : \" + input_text.get()\n",
    "    chat_data.append(in_text)\n",
    "    Output.insert(END,in_text + '\\n')\n",
    "    Output.insert(END,category_predict(input_text.get()) + '\\n')\n",
    "    print(chat_data)\n",
    "    \n",
    "def category_predict(new_sentence):\n",
    "    okt = Okt()\n",
    "    # stopwords 명시\n",
    "    max_len = 10\n",
    "    stopwords = pd.read_csv(\"https://raw.githubusercontent.com/yoonkt200/FastCampusDataset/master/korean_stopwords.txt\").values.tolist()\n",
    "    stopwords = sum(stopwords, [])\n",
    "    tokenizer = Tokenizer(4729)\n",
    "    new_sentence = re.sub(r\"[^ㄱ-ㅎ ㅏ-ㅣ가-힣]\",\"\", new_sentence)\n",
    "    new_sentence = okt.morphs(new_sentence, stem=True)#토큰화\n",
    "    new_sentence = [word for word in new_sentence if not word in stopwords]#불용어제거\n",
    "    encoded = tokenizer.texts_to_sequences([new_sentence])#정수인코딩\n",
    "    pad_new = pad_sequences(encoded, maxlen=max_len)#패딩\n",
    "    score = model2.predict(pad_new)#예측\n",
    "    #상품추천:1\n",
    "    #구매목록:0\n",
    "    #의류문의:2\n",
    "    out_x = np.where(score<0.5, \"구매목록 내용\",(1.5 < score,\"상품추천이군요~\",\"의류문의군요~\"))\n",
    "    out_category = np.argmax(out_x)\n",
    "    inputs_text = input_text.get()\n",
    "    if out_category == 0:\n",
    "        out_category = \"구매 목록\"\n",
    "    elif out_category == 1:\n",
    "        out_category = \"상품 추천\"\n",
    "    elif out_category == 2:\n",
    "        out_category = \"의류 문의\"\n",
    "    else:\n",
    "        pass\n",
    "    chat_bot= \"runway: \"+out_category + \"에 대해 질문하셨군요!\"\n",
    "    print(out_category + \"에 대해 질문하셨군요!\")\n",
    "    print('---1---', chat_bot)\n",
    "    return chat_bot\n",
    "    \n",
    "## -----------------런웨이 말하는 부분\n",
    "path=\"C:/Users/hi/Desktop/DeepLearning/image/runway.png\"\n",
    "if path == '':exit()\n",
    "image=Image.open(path)\n",
    "height=50\n",
    "width=70\n",
    "canvas=Canvas(window, height=500, width=500)\n",
    "image=image.resize((height,width),PIL.Image.ANTIALIAS)\n",
    "photo=ImageTk.PhotoImage(image)\n",
    "label2=Label(window, image=photo) #라벨 생성, 라벨에는 앞서 선언한 이미지가 들어감.\n",
    "label2.pack()  #runway image\n",
    "\n",
    "## -----------------채팅 내용칸\n",
    "frame2 = Frame(window) \n",
    "frame2.pack(side=tk.TOP)\n",
    "Output = Text(frame2, height = 40,width =100,bg = \"light cyan\")\n",
    "Output.configure(font=(\"Courier\", 12, \"italic\"))\n",
    "Output.grid(column=0, row=0)\n",
    "\n",
    "\n",
    "## -----------------채팅 입력칸\n",
    "frame1 = Frame(window)\n",
    "frame1.pack(side=tk.BOTTOM)\n",
    "input_text = Entry(frame1, width=60)\n",
    "input_text.grid(column=0, row=2)\n",
    "button = Button(frame1, text=\"확인\", command=confirm)\n",
    "button.grid(column=1, row=2)\n",
    "\n",
    "window.mainloop()"
   ]
  }
 ],
 "metadata": {
  "kernelspec": {
   "display_name": "Python 3 (ipykernel)",
   "language": "python",
   "name": "python3"
  },
  "language_info": {
   "codemirror_mode": {
    "name": "ipython",
    "version": 3
   },
   "file_extension": ".py",
   "mimetype": "text/x-python",
   "name": "python",
   "nbconvert_exporter": "python",
   "pygments_lexer": "ipython3",
   "version": "3.7.0"
  }
 },
 "nbformat": 4,
 "nbformat_minor": 5
}

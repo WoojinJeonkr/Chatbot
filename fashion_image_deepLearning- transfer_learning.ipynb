{
 "cells": [
  {
   "cell_type": "code",
   "execution_count": null,
   "metadata": {},
   "outputs": [],
   "source": [
    "import os.path\n",
    "import cv2\n",
    "import numpy as np\n",
    "import pandas as pd\n",
    "import matplotlib.pyplot as plt\n",
    "import tensorflow as tf\n",
    "import seaborn as sns\n",
    "\n",
    "from glob import glob\n",
    "\n",
    "from sklearn.model_selection import train_test_split\n",
    "from sklearn.metrics import classification_report,accuracy_score\n",
    "from tensorflow.keras.preprocessing.text import text_to_word_sequence\n",
    "from sklearn.preprocessing import LabelEncoder"
   ]
  },
  {
   "cell_type": "code",
   "execution_count": null,
   "metadata": {},
   "outputs": [],
   "source": [
    "print(os.getcwd()) "
   ]
  },
  {
   "cell_type": "code",
   "execution_count": null,
   "metadata": {},
   "outputs": [],
   "source": [
    "base_dir = os.chdir(os.getcwd() + \"/img-fashion\")\n",
    "print(os.getcwd())"
   ]
  },
  {
   "cell_type": "code",
   "execution_count": null,
   "metadata": {},
   "outputs": [],
   "source": [
    "data_list = glob('*.jpg')\n",
    "print('파일 개수 >> ', len(data_list))\n",
    "print('파일 목록 타입 >> ', type(data_list))"
   ]
  },
  {
   "cell_type": "code",
   "execution_count": null,
   "metadata": {},
   "outputs": [],
   "source": [
    "token = text_to_word_sequence(data_list[0])\n",
    "print(token)"
   ]
  },
  {
   "cell_type": "code",
   "execution_count": null,
   "metadata": {},
   "outputs": [],
   "source": [
    "label = []\n",
    "for x in data_list:\n",
    "    token = text_to_word_sequence(x)\n",
    "    label.append(token[0])\n",
    "print(len(label))"
   ]
  },
  {
   "cell_type": "code",
   "execution_count": null,
   "metadata": {},
   "outputs": [],
   "source": [
    "items = label\n",
    "encoder = LabelEncoder()\n",
    "label = encoder.fit_transform(items)\n",
    "label"
   ]
  },
  {
   "cell_type": "code",
   "execution_count": null,
   "metadata": {},
   "outputs": [],
   "source": [
    "data_height = 150\n",
    "data_width = 150\n",
    "channel_n = 3"
   ]
  },
  {
   "cell_type": "code",
   "execution_count": 9,
   "metadata": {},
   "outputs": [],
   "source": [
    "def make_file(dat_height, data_width, channel_n, data_list_len):\n",
    "    label = []\n",
    "    images = np.zeros((data_list_len, dat_height, data_width, channel_n))\n",
    "    \n",
    "    for i, image in enumerate(data_list):\n",
    "        \n",
    "        token = text_to_word_sequence(image)\n",
    "        label.append(token[0])\n",
    "        \n",
    "        image = cv2.imread(image)\n",
    "        image = cv2.resize(image, (dat_height, data_width)) / 255\n",
    "        \n",
    "        images[i, :, :, :] = image\n",
    "    label = np.array(label)\n",
    "    return (label, images)    "
   ]
  },
  {
   "cell_type": "code",
   "execution_count": 10,
   "metadata": {},
   "outputs": [],
   "source": [
    "label, images = make_file(data_height, data_width, channel_n, len(data_list))"
   ]
  },
  {
   "cell_type": "code",
   "execution_count": 11,
   "metadata": {},
   "outputs": [
    {
     "data": {
      "text/plain": [
       "(array([0, 0, 0, ..., 7, 7, 7], dtype=int64), 7652)"
      ]
     },
     "execution_count": 11,
     "metadata": {},
     "output_type": "execute_result"
    }
   ],
   "source": [
    "items = label\n",
    "encoder = LabelEncoder()\n",
    "label = encoder.fit_transform(items)\n",
    "label, len(label) "
   ]
  },
  {
   "cell_type": "code",
   "execution_count": 12,
   "metadata": {},
   "outputs": [
    {
     "name": "stdout",
     "output_type": "stream",
     "text": [
      "(6121, 150, 150, 3) (1531, 150, 150, 3)\n"
     ]
    }
   ],
   "source": [
    "x = images\n",
    "y = label\n",
    "\n",
    "X_train, X_test, y_train, y_test = train_test_split(x, \n",
    "                                                    y, \n",
    "                                                    test_size= 0.2,\n",
    "                                                    random_state=30\n",
    "                                                   )\n",
    "print(X_train.shape, X_test.shape)"
   ]
  },
  {
   "cell_type": "code",
   "execution_count": 13,
   "metadata": {},
   "outputs": [],
   "source": [
    "from tensorflow.keras.layers import *\n",
    "from tensorflow.keras.callbacks import EarlyStopping, ModelCheckpoint\n",
    "from tensorflow.keras.models import Sequential\n",
    "from tensorflow.keras.applications import ResNet50"
   ]
  },
  {
   "cell_type": "code",
   "execution_count": 14,
   "metadata": {},
   "outputs": [
    {
     "name": "stderr",
     "output_type": "stream",
     "text": [
      "ERROR:root:Internal Python error in the inspect module.\n",
      "Below is the traceback from this internal error.\n",
      "\n"
     ]
    },
    {
     "name": "stdout",
     "output_type": "stream",
     "text": [
      "Traceback (most recent call last):\n",
      "  File \"C:\\Users\\hi\\Anaconda3\\lib\\site-packages\\IPython\\core\\interactiveshell.py\", line 2961, in run_code\n",
      "    exec(code_obj, self.user_global_ns, self.user_ns)\n",
      "  File \"<ipython-input-14-aa21a617ab3d>\", line 2, in <module>\n",
      "    input_shape=[data_height, data_width, channel_n], classes=8)\n",
      "  File \"C:\\Users\\hi\\Anaconda3\\lib\\site-packages\\tensorflow_core\\python\\keras\\applications\\__init__.py\", line 46, in wrapper\n",
      "    return base_fun(*args, **kwargs)\n",
      "  File \"C:\\Users\\hi\\Anaconda3\\lib\\site-packages\\tensorflow_core\\python\\keras\\applications\\resnet.py\", line 33, in ResNet50\n",
      "    return resnet.ResNet50(*args, **kwargs)\n",
      "  File \"C:\\Users\\hi\\Anaconda3\\lib\\site-packages\\keras_applications\\resnet_common.py\", line 435, in ResNet50\n",
      "    **kwargs)\n",
      "  File \"C:\\Users\\hi\\Anaconda3\\lib\\site-packages\\keras_applications\\resnet_common.py\", line 411, in ResNet\n",
      "    model.load_weights(weights_path)\n",
      "  File \"C:\\Users\\hi\\Anaconda3\\lib\\site-packages\\tensorflow_core\\python\\keras\\engine\\training.py\", line 234, in load_weights\n",
      "    return super(Model, self).load_weights(filepath, by_name, skip_mismatch)\n",
      "  File \"C:\\Users\\hi\\Anaconda3\\lib\\site-packages\\tensorflow_core\\python\\keras\\engine\\network.py\", line 1222, in load_weights\n",
      "    hdf5_format.load_weights_from_hdf5_group(f, self.layers)\n",
      "  File \"C:\\Users\\hi\\Anaconda3\\lib\\site-packages\\tensorflow_core\\python\\keras\\saving\\hdf5_format.py\", line 651, in load_weights_from_hdf5_group\n",
      "    original_keras_version = f.attrs['keras_version'].decode('utf8')\n",
      "AttributeError: 'str' object has no attribute 'decode'\n",
      "\n",
      "During handling of the above exception, another exception occurred:\n",
      "\n",
      "Traceback (most recent call last):\n",
      "  File \"C:\\Users\\hi\\Anaconda3\\lib\\site-packages\\IPython\\core\\interactiveshell.py\", line 1863, in showtraceback\n",
      "    stb = value._render_traceback_()\n",
      "AttributeError: 'AttributeError' object has no attribute '_render_traceback_'\n",
      "\n",
      "During handling of the above exception, another exception occurred:\n",
      "\n",
      "Traceback (most recent call last):\n",
      "  File \"C:\\Users\\hi\\Anaconda3\\lib\\site-packages\\IPython\\core\\ultratb.py\", line 1095, in get_records\n",
      "    return _fixed_getinnerframes(etb, number_of_lines_of_context, tb_offset)\n",
      "  File \"C:\\Users\\hi\\Anaconda3\\lib\\site-packages\\IPython\\core\\ultratb.py\", line 311, in wrapped\n",
      "    return f(*args, **kwargs)\n",
      "  File \"C:\\Users\\hi\\Anaconda3\\lib\\site-packages\\IPython\\core\\ultratb.py\", line 345, in _fixed_getinnerframes\n",
      "    records = fix_frame_records_filenames(inspect.getinnerframes(etb, context))\n",
      "  File \"C:\\Users\\hi\\Anaconda3\\lib\\inspect.py\", line 1495, in getinnerframes\n",
      "    frameinfo = (tb.tb_frame,) + getframeinfo(tb, context)\n",
      "  File \"C:\\Users\\hi\\Anaconda3\\lib\\inspect.py\", line 1453, in getframeinfo\n",
      "    filename = getsourcefile(frame) or getfile(frame)\n",
      "  File \"C:\\Users\\hi\\Anaconda3\\lib\\inspect.py\", line 696, in getsourcefile\n",
      "    if getattr(getmodule(object, filename), '__loader__', None) is not None:\n",
      "  File \"C:\\Users\\hi\\Anaconda3\\lib\\inspect.py\", line 733, in getmodule\n",
      "    if ismodule(module) and hasattr(module, '__file__'):\n",
      "  File \"C:\\Users\\hi\\Anaconda3\\lib\\site-packages\\tensorflow\\__init__.py\", line 50, in __getattr__\n",
      "    module = self._load()\n",
      "  File \"C:\\Users\\hi\\Anaconda3\\lib\\site-packages\\tensorflow\\__init__.py\", line 44, in _load\n",
      "    module = _importlib.import_module(self.__name__)\n",
      "  File \"C:\\Users\\hi\\Anaconda3\\lib\\importlib\\__init__.py\", line 127, in import_module\n",
      "    return _bootstrap._gcd_import(name[level:], package, level)\n",
      "  File \"<frozen importlib._bootstrap>\", line 1006, in _gcd_import\n",
      "  File \"<frozen importlib._bootstrap>\", line 983, in _find_and_load\n",
      "  File \"<frozen importlib._bootstrap>\", line 965, in _find_and_load_unlocked\n",
      "ModuleNotFoundError: No module named 'tensorflow_core.estimator'\n"
     ]
    },
    {
     "ename": "AttributeError",
     "evalue": "'str' object has no attribute 'decode'",
     "output_type": "error",
     "traceback": [
      "\u001b[1;31m---------------------------------------------------------------------------\u001b[0m"
     ]
    }
   ],
   "source": [
    "cnn_base = ResNet50(include_top=False, weights='imagenet',\n",
    "                   input_shape=[data_height, data_width, channel_n], classes=8)"
   ]
  },
  {
   "cell_type": "code",
   "execution_count": 15,
   "metadata": {
    "scrolled": true
   },
   "outputs": [
    {
     "name": "stderr",
     "output_type": "stream",
     "text": [
      "ERROR:root:Internal Python error in the inspect module.\n",
      "Below is the traceback from this internal error.\n",
      "\n"
     ]
    },
    {
     "name": "stdout",
     "output_type": "stream",
     "text": [
      "Traceback (most recent call last):\n",
      "  File \"C:\\Users\\hi\\Anaconda3\\lib\\site-packages\\IPython\\core\\interactiveshell.py\", line 2961, in run_code\n",
      "    exec(code_obj, self.user_global_ns, self.user_ns)\n",
      "  File \"<ipython-input-15-411e68e91816>\", line 14, in <module>\n",
      "    model.add(cnn_base)\n",
      "NameError: name 'cnn_base' is not defined\n",
      "\n",
      "During handling of the above exception, another exception occurred:\n",
      "\n",
      "Traceback (most recent call last):\n",
      "  File \"C:\\Users\\hi\\Anaconda3\\lib\\site-packages\\IPython\\core\\interactiveshell.py\", line 1863, in showtraceback\n",
      "    stb = value._render_traceback_()\n",
      "AttributeError: 'NameError' object has no attribute '_render_traceback_'\n",
      "\n",
      "During handling of the above exception, another exception occurred:\n",
      "\n",
      "Traceback (most recent call last):\n",
      "  File \"C:\\Users\\hi\\Anaconda3\\lib\\site-packages\\IPython\\core\\ultratb.py\", line 1095, in get_records\n",
      "    return _fixed_getinnerframes(etb, number_of_lines_of_context, tb_offset)\n",
      "  File \"C:\\Users\\hi\\Anaconda3\\lib\\site-packages\\IPython\\core\\ultratb.py\", line 311, in wrapped\n",
      "    return f(*args, **kwargs)\n",
      "  File \"C:\\Users\\hi\\Anaconda3\\lib\\site-packages\\IPython\\core\\ultratb.py\", line 345, in _fixed_getinnerframes\n",
      "    records = fix_frame_records_filenames(inspect.getinnerframes(etb, context))\n",
      "  File \"C:\\Users\\hi\\Anaconda3\\lib\\inspect.py\", line 1495, in getinnerframes\n",
      "    frameinfo = (tb.tb_frame,) + getframeinfo(tb, context)\n",
      "  File \"C:\\Users\\hi\\Anaconda3\\lib\\inspect.py\", line 1453, in getframeinfo\n",
      "    filename = getsourcefile(frame) or getfile(frame)\n",
      "  File \"C:\\Users\\hi\\Anaconda3\\lib\\inspect.py\", line 696, in getsourcefile\n",
      "    if getattr(getmodule(object, filename), '__loader__', None) is not None:\n",
      "  File \"C:\\Users\\hi\\Anaconda3\\lib\\inspect.py\", line 733, in getmodule\n",
      "    if ismodule(module) and hasattr(module, '__file__'):\n",
      "  File \"C:\\Users\\hi\\Anaconda3\\lib\\site-packages\\tensorflow\\__init__.py\", line 50, in __getattr__\n",
      "    module = self._load()\n",
      "  File \"C:\\Users\\hi\\Anaconda3\\lib\\site-packages\\tensorflow\\__init__.py\", line 44, in _load\n",
      "    module = _importlib.import_module(self.__name__)\n",
      "  File \"C:\\Users\\hi\\Anaconda3\\lib\\importlib\\__init__.py\", line 127, in import_module\n",
      "    return _bootstrap._gcd_import(name[level:], package, level)\n",
      "  File \"<frozen importlib._bootstrap>\", line 1006, in _gcd_import\n",
      "  File \"<frozen importlib._bootstrap>\", line 983, in _find_and_load\n",
      "  File \"<frozen importlib._bootstrap>\", line 965, in _find_and_load_unlocked\n",
      "ModuleNotFoundError: No module named 'tensorflow_core.estimator'\n"
     ]
    },
    {
     "ename": "NameError",
     "evalue": "name 'cnn_base' is not defined",
     "output_type": "error",
     "traceback": [
      "\u001b[1;31m---------------------------------------------------------------------------\u001b[0m"
     ]
    }
   ],
   "source": [
    "model = Sequential()\n",
    "### 특성추출 레이어를 쌓아준다.\n",
    "\n",
    "# model.add(Conv2D(32, (3, 3), activation='relu', input_shape=(data_height, data_width, channel_n)))\n",
    "# model.add(MaxPool2D((2, 2)))\n",
    "# model.add(Conv2D(64, (3, 3), activation='relu'))\n",
    "# model.add(MaxPool2D((2, 2)))\n",
    "# model.add(Conv2D(64, (3, 3), activation='relu'))\n",
    "\n",
    "### 딥러닝 학습 레이어를 쌓아준다.\n",
    "### 입력--히든--출력 순서대로 쌓아준다.\n",
    "### 입력(1개)-- 1차원이여야함.\n",
    "\n",
    "model.add(cnn_base) \n",
    "model.add(Flatten()) ## 이미지 데이터를 1차원으로 만들어주는 객체 \n",
    "### 히든\n",
    "model.add(Dense(128, activation='relu'))\n",
    "# model.add(Dropout(rate=0.3))\n",
    "model.add(Dense(64, activation='relu'))\n",
    "# model.add(Dropout(rate=0.3))\n",
    "model.add(Dense(32, activation='relu'))\n",
    "# model.add(Dropout(rate=0.3))\n",
    "model.add(Dense(12, activation='relu'))\n",
    "# model.add(Dropout(rate=0.3))\n",
    "model.add(Dense(5, activation='relu'))\n",
    "# model.add(Dropout(rate=0.3))\n",
    "\n",
    "### 출력(1개)— 딥러닝하는 학습의 종류에 따라 다르게 써주어야 함.!!\n",
    "### 이진 분류인 경우(1, sigmoid)\n",
    "### 다중 분류인 경우(n, softmax)\n",
    "### 회귀인 경우(1, linear)\n",
    "model.add(Dense(8, activation='softmax'))\n",
    "model.summary()"
   ]
  },
  {
   "cell_type": "code",
   "execution_count": 16,
   "metadata": {},
   "outputs": [],
   "source": [
    "es = EarlyStopping(monitor='val_loss', patience=5, restore_best_weights=True)\n",
    "cp = ModelCheckpoint('fashion_cnn_1.h5')"
   ]
  },
  {
   "cell_type": "code",
   "execution_count": 17,
   "metadata": {},
   "outputs": [
    {
     "name": "stderr",
     "output_type": "stream",
     "text": [
      "ERROR:root:Internal Python error in the inspect module.\n",
      "Below is the traceback from this internal error.\n",
      "\n"
     ]
    },
    {
     "name": "stdout",
     "output_type": "stream",
     "text": [
      "Traceback (most recent call last):\n",
      "  File \"C:\\Users\\hi\\Anaconda3\\lib\\site-packages\\IPython\\core\\interactiveshell.py\", line 2961, in run_code\n",
      "    exec(code_obj, self.user_global_ns, self.user_ns)\n",
      "  File \"<ipython-input-17-d5e77bf0c861>\", line 4, in <module>\n",
      "    model.summary()\n",
      "  File \"C:\\Users\\hi\\Anaconda3\\lib\\site-packages\\tensorflow_core\\python\\keras\\engine\\network.py\", line 1302, in summary\n",
      "    raise ValueError('This model has not yet been built. '\n",
      "ValueError: This model has not yet been built. Build the model first by calling `build()` or calling `fit()` with some data, or specify an `input_shape` argument in the first layer(s) for automatic build.\n",
      "\n",
      "During handling of the above exception, another exception occurred:\n",
      "\n",
      "Traceback (most recent call last):\n",
      "  File \"C:\\Users\\hi\\Anaconda3\\lib\\site-packages\\IPython\\core\\interactiveshell.py\", line 1863, in showtraceback\n",
      "    stb = value._render_traceback_()\n",
      "AttributeError: 'ValueError' object has no attribute '_render_traceback_'\n",
      "\n",
      "During handling of the above exception, another exception occurred:\n",
      "\n",
      "Traceback (most recent call last):\n",
      "  File \"C:\\Users\\hi\\Anaconda3\\lib\\site-packages\\IPython\\core\\ultratb.py\", line 1095, in get_records\n",
      "    return _fixed_getinnerframes(etb, number_of_lines_of_context, tb_offset)\n",
      "  File \"C:\\Users\\hi\\Anaconda3\\lib\\site-packages\\IPython\\core\\ultratb.py\", line 311, in wrapped\n",
      "    return f(*args, **kwargs)\n",
      "  File \"C:\\Users\\hi\\Anaconda3\\lib\\site-packages\\IPython\\core\\ultratb.py\", line 345, in _fixed_getinnerframes\n",
      "    records = fix_frame_records_filenames(inspect.getinnerframes(etb, context))\n",
      "  File \"C:\\Users\\hi\\Anaconda3\\lib\\inspect.py\", line 1495, in getinnerframes\n",
      "    frameinfo = (tb.tb_frame,) + getframeinfo(tb, context)\n",
      "  File \"C:\\Users\\hi\\Anaconda3\\lib\\inspect.py\", line 1453, in getframeinfo\n",
      "    filename = getsourcefile(frame) or getfile(frame)\n",
      "  File \"C:\\Users\\hi\\Anaconda3\\lib\\inspect.py\", line 696, in getsourcefile\n",
      "    if getattr(getmodule(object, filename), '__loader__', None) is not None:\n",
      "  File \"C:\\Users\\hi\\Anaconda3\\lib\\inspect.py\", line 733, in getmodule\n",
      "    if ismodule(module) and hasattr(module, '__file__'):\n",
      "  File \"C:\\Users\\hi\\Anaconda3\\lib\\site-packages\\tensorflow\\__init__.py\", line 50, in __getattr__\n",
      "    module = self._load()\n",
      "  File \"C:\\Users\\hi\\Anaconda3\\lib\\site-packages\\tensorflow\\__init__.py\", line 44, in _load\n",
      "    module = _importlib.import_module(self.__name__)\n",
      "  File \"C:\\Users\\hi\\Anaconda3\\lib\\importlib\\__init__.py\", line 127, in import_module\n",
      "    return _bootstrap._gcd_import(name[level:], package, level)\n",
      "  File \"<frozen importlib._bootstrap>\", line 1006, in _gcd_import\n",
      "  File \"<frozen importlib._bootstrap>\", line 983, in _find_and_load\n",
      "  File \"<frozen importlib._bootstrap>\", line 965, in _find_and_load_unlocked\n",
      "ModuleNotFoundError: No module named 'tensorflow_core.estimator'\n"
     ]
    },
    {
     "ename": "ValueError",
     "evalue": "This model has not yet been built. Build the model first by calling `build()` or calling `fit()` with some data, or specify an `input_shape` argument in the first layer(s) for automatic build.",
     "output_type": "error",
     "traceback": [
      "\u001b[1;31m---------------------------------------------------------------------------\u001b[0m"
     ]
    }
   ],
   "source": [
    "model.compile(optimizer = 'adam', \n",
    "            loss = 'sparse_categorical_crossentropy', \n",
    "            metrics = ['accuracy'])\n",
    "model.summary()"
   ]
  },
  {
   "cell_type": "code",
   "execution_count": 29,
   "metadata": {},
   "outputs": [
    {
     "name": "stdout",
     "output_type": "stream",
     "text": [
      "Epoch 1/100\n"
     ]
    },
    {
     "name": "stderr",
     "output_type": "stream",
     "text": [
      "C:\\Users\\hi\\Anaconda3\\lib\\site-packages\\keras\\engine\\functional.py:1410: CustomMaskWarning: Custom mask layers require a config and must override get_config. When loading, the custom mask layer must be passed to the custom_objects argument.\n",
      "  layer_config = serialize_layer_fn(layer)\n"
     ]
    },
    {
     "name": "stdout",
     "output_type": "stream",
     "text": [
      "192/192 - 798s - loss: 2.2547 - accuracy: 0.1258 - val_loss: 2.0791 - val_accuracy: 0.1365 - 798s/epoch - 4s/step\n",
      "Epoch 2/100\n",
      "192/192 - 712s - loss: 2.0722 - accuracy: 0.1461 - val_loss: 2.0786 - val_accuracy: 0.1261 - 712s/epoch - 4s/step\n",
      "Epoch 3/100\n",
      "192/192 - 686s - loss: 2.0314 - accuracy: 0.1732 - val_loss: 2.0603 - val_accuracy: 0.1803 - 686s/epoch - 4s/step\n",
      "Epoch 4/100\n",
      "192/192 - 687s - loss: 1.9585 - accuracy: 0.2101 - val_loss: 1.8313 - val_accuracy: 0.2861 - 687s/epoch - 4s/step\n",
      "Epoch 5/100\n",
      "192/192 - 689s - loss: 1.9242 - accuracy: 0.2168 - val_loss: 1.7790 - val_accuracy: 0.3044 - 689s/epoch - 4s/step\n",
      "Epoch 6/100\n",
      "192/192 - 687s - loss: 1.8959 - accuracy: 0.2320 - val_loss: 1.7060 - val_accuracy: 0.3312 - 687s/epoch - 4s/step\n",
      "Epoch 7/100\n",
      "192/192 - 688s - loss: 1.8508 - accuracy: 0.2567 - val_loss: 1.6623 - val_accuracy: 0.3808 - 688s/epoch - 4s/step\n",
      "Epoch 8/100\n",
      "192/192 - 689s - loss: 1.8354 - accuracy: 0.2892 - val_loss: 2.1071 - val_accuracy: 0.1450 - 689s/epoch - 4s/step\n",
      "Epoch 9/100\n",
      "192/192 - 710s - loss: 1.7830 - accuracy: 0.3233 - val_loss: 1.7177 - val_accuracy: 0.3958 - 710s/epoch - 4s/step\n",
      "Epoch 10/100\n",
      "192/192 - 709s - loss: 1.7604 - accuracy: 0.3431 - val_loss: 1.7293 - val_accuracy: 0.3932 - 709s/epoch - 4s/step\n",
      "Epoch 11/100\n",
      "192/192 - 729s - loss: 1.7071 - accuracy: 0.3635 - val_loss: 1.5558 - val_accuracy: 0.4860 - 729s/epoch - 4s/step\n",
      "Epoch 12/100\n",
      "192/192 - 694s - loss: 1.6748 - accuracy: 0.3656 - val_loss: 1.6185 - val_accuracy: 0.4200 - 694s/epoch - 4s/step\n",
      "Epoch 13/100\n",
      "192/192 - 691s - loss: 1.6278 - accuracy: 0.3741 - val_loss: 1.6639 - val_accuracy: 0.4670 - 691s/epoch - 4s/step\n",
      "Epoch 14/100\n",
      "192/192 - 729s - loss: 1.5935 - accuracy: 0.4019 - val_loss: 1.5269 - val_accuracy: 0.4853 - 729s/epoch - 4s/step\n",
      "Epoch 15/100\n",
      "192/192 - 737s - loss: 1.5641 - accuracy: 0.4057 - val_loss: 2.0700 - val_accuracy: 0.4755 - 737s/epoch - 4s/step\n",
      "Epoch 16/100\n",
      "192/192 - 722s - loss: 1.6127 - accuracy: 0.3900 - val_loss: 1.5436 - val_accuracy: 0.4749 - 722s/epoch - 4s/step\n",
      "Epoch 17/100\n",
      "192/192 - 695s - loss: 1.5597 - accuracy: 0.4151 - val_loss: 1.4645 - val_accuracy: 0.4860 - 695s/epoch - 4s/step\n",
      "Epoch 18/100\n",
      "192/192 - 687s - loss: 1.5510 - accuracy: 0.4305 - val_loss: 1.5297 - val_accuracy: 0.5206 - 687s/epoch - 4s/step\n",
      "Epoch 19/100\n",
      "192/192 - 696s - loss: 1.5790 - accuracy: 0.4385 - val_loss: 1.4771 - val_accuracy: 0.5003 - 696s/epoch - 4s/step\n",
      "Epoch 20/100\n",
      "192/192 - 733s - loss: 1.5045 - accuracy: 0.4455 - val_loss: 3.2959 - val_accuracy: 0.3266 - 733s/epoch - 4s/step\n",
      "Epoch 21/100\n",
      "192/192 - 766s - loss: 1.6636 - accuracy: 0.4039 - val_loss: 1.7731 - val_accuracy: 0.3155 - 766s/epoch - 4s/step\n",
      "Epoch 22/100\n",
      "192/192 - 734s - loss: 1.5890 - accuracy: 0.4236 - val_loss: 1.8422 - val_accuracy: 0.3390 - 734s/epoch - 4s/step\n"
     ]
    }
   ],
   "source": [
    "cnn_history = model.fit( X_train, \n",
    "                       y_train,                \n",
    "                       batch_size=32,\n",
    "                       epochs=100,\n",
    "                       validation_data = (X_test, y_test),\n",
    "                       callbacks = [es, cp],\n",
    "                       verbose=2\n",
    "                       )"
   ]
  },
  {
   "cell_type": "code",
   "execution_count": 30,
   "metadata": {},
   "outputs": [
    {
     "name": "stdout",
     "output_type": "stream",
     "text": [
      "48/48 [==============================] - ETA: 30s - loss: 1.5793 - accuracy: 0.468 - ETA: 30s - loss: 1.4831 - accuracy: 0.453 - ETA: 29s - loss: 1.4308 - accuracy: 0.458 - ETA: 29s - loss: 1.3805 - accuracy: 0.500 - ETA: 28s - loss: 1.3917 - accuracy: 0.500 - ETA: 27s - loss: 1.4231 - accuracy: 0.500 - ETA: 26s - loss: 1.4075 - accuracy: 0.504 - ETA: 26s - loss: 1.3996 - accuracy: 0.507 - ETA: 25s - loss: 1.3925 - accuracy: 0.510 - ETA: 24s - loss: 1.4741 - accuracy: 0.512 - ETA: 24s - loss: 1.4961 - accuracy: 0.497 - ETA: 23s - loss: 1.5033 - accuracy: 0.487 - ETA: 23s - loss: 1.5031 - accuracy: 0.480 - ETA: 22s - loss: 1.4975 - accuracy: 0.477 - ETA: 22s - loss: 1.4983 - accuracy: 0.475 - ETA: 21s - loss: 1.4958 - accuracy: 0.474 - ETA: 20s - loss: 1.5083 - accuracy: 0.472 - ETA: 20s - loss: 1.5072 - accuracy: 0.474 - ETA: 19s - loss: 1.4969 - accuracy: 0.480 - ETA: 18s - loss: 1.5017 - accuracy: 0.476 - ETA: 18s - loss: 1.4791 - accuracy: 0.486 - ETA: 17s - loss: 1.4736 - accuracy: 0.487 - ETA: 16s - loss: 1.4777 - accuracy: 0.482 - ETA: 16s - loss: 1.4719 - accuracy: 0.485 - ETA: 15s - loss: 1.4746 - accuracy: 0.490 - ETA: 14s - loss: 1.4697 - accuracy: 0.490 - ETA: 14s - loss: 1.4655 - accuracy: 0.483 - ETA: 13s - loss: 1.4657 - accuracy: 0.484 - ETA: 12s - loss: 1.4674 - accuracy: 0.483 - ETA: 12s - loss: 1.4741 - accuracy: 0.483 - ETA: 11s - loss: 1.4745 - accuracy: 0.482 - ETA: 10s - loss: 1.4772 - accuracy: 0.483 - ETA: 10s - loss: 1.4792 - accuracy: 0.481 - ETA: 9s - loss: 1.4770 - accuracy: 0.479 - ETA: 8s - loss: 1.4822 - accuracy: 0.47 - ETA: 8s - loss: 1.4782 - accuracy: 0.48 - ETA: 7s - loss: 1.4692 - accuracy: 0.48 - ETA: 6s - loss: 1.4625 - accuracy: 0.48 - ETA: 6s - loss: 1.4606 - accuracy: 0.48 - ETA: 5s - loss: 1.4621 - accuracy: 0.48 - ETA: 4s - loss: 1.4613 - accuracy: 0.48 - ETA: 4s - loss: 1.4656 - accuracy: 0.49 - ETA: 3s - loss: 1.4667 - accuracy: 0.49 - ETA: 2s - loss: 1.4679 - accuracy: 0.49 - ETA: 1s - loss: 1.4703 - accuracy: 0.48 - ETA: 1s - loss: 1.4673 - accuracy: 0.48 - ETA: 0s - loss: 1.4670 - accuracy: 0.48 - ETA: 0s - loss: 1.4645 - accuracy: 0.48 - 32s 664ms/step - loss: 1.4645 - accuracy: 0.4860\n"
     ]
    },
    {
     "data": {
      "text/plain": [
       "[1.4645174741744995, 0.4859568774700165]"
      ]
     },
     "execution_count": 30,
     "metadata": {},
     "output_type": "execute_result"
    }
   ],
   "source": [
    "test_result = model.evaluate(X_test, y_test)\n",
    "test_result"
   ]
  },
  {
   "cell_type": "code",
   "execution_count": 31,
   "metadata": {},
   "outputs": [
    {
     "name": "stdout",
     "output_type": "stream",
     "text": [
      "test acc:  48.6\n"
     ]
    }
   ],
   "source": [
    "print('test acc: ', round(test_result[1]*100, 2))"
   ]
  },
  {
   "cell_type": "code",
   "execution_count": 32,
   "metadata": {},
   "outputs": [
    {
     "data": {
      "text/plain": [
       "<matplotlib.legend.Legend at 0x1ed802d1b38>"
      ]
     },
     "execution_count": 32,
     "metadata": {},
     "output_type": "execute_result"
    },
    {
     "data": {
      "image/png": "[encoded data removed]",
      "text/plain": [
       "<Figure size 864x288 with 2 Axes>"
      ]
     },
     "metadata": {
      "needs_background": "light"
     },
     "output_type": "display_data"
    }
   ],
   "source": [
    "plt.figure(figsize=(12, 4))\n",
    "\n",
    "plt.subplot(1, 2, 1) ## 1행2열의 도표, 1열\n",
    "plt.plot(cnn_history.history['accuracy'])\n",
    "plt.plot(cnn_history.history['val_accuracy'])\n",
    "plt.title('model acc')\n",
    "plt.xlabel('epoch')\n",
    "plt.ylabel('acc')\n",
    "plt.legend(['train_acc','test_acc'])\n",
    "\n",
    "plt.subplot(1, 2, 2) ## 1행2열의 도표, 2열\n",
    "plt.plot(cnn_history.history['loss'])\n",
    "plt.plot(cnn_history.history['val_loss'])\n",
    "plt.title('model loss')\n",
    "plt.xlabel('epoch')\n",
    "plt.ylabel('loss')\n",
    "plt.legend(['train_loss','test_loss'])"
   ]
  }
 ],
 "metadata": {
  "kernelspec": {
   "display_name": "Python 3 (ipykernel)",
   "language": "python",
   "name": "python3"
  },
  "language_info": {
   "codemirror_mode": {
    "name": "ipython",
    "version": 3
   },
   "file_extension": ".py",
   "mimetype": "text/x-python",
   "name": "python",
   "nbconvert_exporter": "python",
   "pygments_lexer": "ipython3",
   "version": "3.7.0"
  }
 },
 "nbformat": 4,
 "nbformat_minor": 2
}

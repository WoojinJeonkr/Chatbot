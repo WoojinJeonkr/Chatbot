{
 "cells": [
  {
   "cell_type": "code",
   "execution_count": 1,
   "metadata": {},
   "outputs": [],
   "source": [
    "import os.path\n",
    "import cv2\n",
    "import numpy as np\n",
    "import pandas as pd\n",
    "import matplotlib.pyplot as plt\n",
    "import tensorflow as tf\n",
    "import seaborn as sns\n",
    "\n",
    "from glob import glob\n",
    "\n",
    "from sklearn.model_selection import train_test_split\n",
    "from sklearn.metrics import classification_report,accuracy_score\n",
    "from tensorflow.keras.preprocessing.text import text_to_word_sequence\n",
    "from sklearn.preprocessing import LabelEncoder"
   ]
  },
  {
   "cell_type": "code",
   "execution_count": 2,
   "metadata": {},
   "outputs": [
    {
     "name": "stdout",
     "output_type": "stream",
     "text": [
      "C:\\Users\\hi\\Desktop\\DeepLearning\n"
     ]
    }
   ],
   "source": [
    "print(os.getcwd()) "
   ]
  },
  {
   "cell_type": "code",
   "execution_count": 3,
   "metadata": {},
   "outputs": [
    {
     "name": "stdout",
     "output_type": "stream",
     "text": [
      "C:\\Users\\hi\\Desktop\\DeepLearning\\img-fashion\n"
     ]
    }
   ],
   "source": [
    "# 파일 경로 재설정\n",
    "base_dir = os.chdir(os.getcwd() + \"/img-fashion\")\n",
    "print(os.getcwd())"
   ]
  },
  {
   "cell_type": "code",
   "execution_count": 4,
   "metadata": {
    "scrolled": true
   },
   "outputs": [
    {
     "name": "stdout",
     "output_type": "stream",
     "text": [
      "파일 개수 >>  7652\n",
      "파일 목록 타입 >>  <class 'list'>\n"
     ]
    }
   ],
   "source": [
    "data_list = glob('*.jpg')\n",
    "print('파일 개수 >> ', len(data_list))\n",
    "print('파일 목록 타입 >> ', type(data_list))"
   ]
  },
  {
   "cell_type": "code",
   "execution_count": 5,
   "metadata": {},
   "outputs": [
    {
     "name": "stdout",
     "output_type": "stream",
     "text": [
      "['blouse', '1', 'jpg']\n"
     ]
    }
   ],
   "source": [
    "token = text_to_word_sequence(data_list[0])\n",
    "print(token)"
   ]
  },
  {
   "cell_type": "code",
   "execution_count": 6,
   "metadata": {},
   "outputs": [
    {
     "name": "stdout",
     "output_type": "stream",
     "text": [
      "7652\n"
     ]
    }
   ],
   "source": [
    "label = []\n",
    "for x in data_list:\n",
    "    token = text_to_word_sequence(x)\n",
    "    label.append(token[0])\n",
    "print(len(label))"
   ]
  },
  {
   "cell_type": "code",
   "execution_count": 7,
   "metadata": {},
   "outputs": [
    {
     "data": {
      "text/plain": [
       "array([0, 0, 0, ..., 7, 7, 7], dtype=int64)"
      ]
     },
     "execution_count": 7,
     "metadata": {},
     "output_type": "execute_result"
    }
   ],
   "source": [
    "items = label\n",
    "encoder = LabelEncoder()\n",
    "label = encoder.fit_transform(items)\n",
    "label"
   ]
  },
  {
   "cell_type": "code",
   "execution_count": 8,
   "metadata": {},
   "outputs": [],
   "source": [
    "data_height = 150\n",
    "data_width = 150\n",
    "channel_n = 3"
   ]
  },
  {
   "cell_type": "code",
   "execution_count": 9,
   "metadata": {},
   "outputs": [],
   "source": [
    "def make_file(dat_height, data_width, channel_n, data_list_len):\n",
    "    label = []\n",
    "    images = np.zeros((data_list_len, dat_height, data_width, channel_n))\n",
    "    \n",
    "    for i, image in enumerate(data_list):\n",
    "        \n",
    "        token = text_to_word_sequence(image)\n",
    "        label.append(token[0])\n",
    "        \n",
    "        image = cv2.imread(image)\n",
    "        image = cv2.resize(image, (dat_height, data_width)) / 255\n",
    "        \n",
    "        images[i, :, :, :] = image\n",
    "    label = np.array(label)\n",
    "    return (label, images)    "
   ]
  },
  {
   "cell_type": "code",
   "execution_count": 10,
   "metadata": {},
   "outputs": [],
   "source": [
    "label, images = make_file(data_height, data_width, channel_n, len(data_list))"
   ]
  },
  {
   "cell_type": "code",
   "execution_count": 11,
   "metadata": {},
   "outputs": [
    {
     "data": {
      "text/plain": [
       "(array([0, 0, 0, ..., 7, 7, 7], dtype=int64), 7652)"
      ]
     },
     "execution_count": 11,
     "metadata": {},
     "output_type": "execute_result"
    }
   ],
   "source": [
    "items = label\n",
    "encoder = LabelEncoder()\n",
    "label = encoder.fit_transform(items)\n",
    "label, len(label) "
   ]
  },
  {
   "cell_type": "code",
   "execution_count": 12,
   "metadata": {},
   "outputs": [
    {
     "name": "stdout",
     "output_type": "stream",
     "text": [
      "(6121, 150, 150, 3) (1531, 150, 150, 3)\n"
     ]
    }
   ],
   "source": [
    "x = images\n",
    "y = label\n",
    "\n",
    "X_train, X_test, y_train, y_test = train_test_split(x, \n",
    "                                                    y, \n",
    "                                                    test_size= 0.2,\n",
    "                                                    random_state=55\n",
    "                                                   )\n",
    "print(X_train.shape, X_test.shape)"
   ]
  },
  {
   "cell_type": "code",
   "execution_count": 13,
   "metadata": {},
   "outputs": [],
   "source": [
    "## 딥러닝 모델을 만들어보자.\n",
    "from tensorflow.keras.layers import *\n",
    "from tensorflow.keras.models import Sequential\n",
    "from tensorflow.keras.callbacks import EarlyStopping, ModelCheckpoint\n",
    "from tensorflow.keras import datasets, layers, models"
   ]
  },
  {
   "cell_type": "code",
   "execution_count": 14,
   "metadata": {
    "scrolled": true
   },
   "outputs": [
    {
     "name": "stdout",
     "output_type": "stream",
     "text": [
      "Model: \"sequential\"\n",
      "_________________________________________________________________\n",
      " Layer (type)                Output Shape              Param #   \n",
      "=================================================================\n",
      " conv2d (Conv2D)             (None, 148, 148, 32)      896       \n",
      "                                                                 \n",
      " max_pooling2d (MaxPooling2D  (None, 74, 74, 32)       0         \n",
      " )                                                               \n",
      "                                                                 \n",
      " conv2d_1 (Conv2D)           (None, 72, 72, 32)        9248      \n",
      "                                                                 \n",
      " max_pooling2d_1 (MaxPooling  (None, 36, 36, 32)       0         \n",
      " 2D)                                                             \n",
      "                                                                 \n",
      " conv2d_2 (Conv2D)           (None, 34, 34, 64)        18496     \n",
      "                                                                 \n",
      " max_pooling2d_2 (MaxPooling  (None, 17, 17, 64)       0         \n",
      " 2D)                                                             \n",
      "                                                                 \n",
      " flatten (Flatten)           (None, 18496)             0         \n",
      "                                                                 \n",
      " dense (Dense)               (None, 128)               2367616   \n",
      "                                                                 \n",
      " dense_1 (Dense)             (None, 64)                8256      \n",
      "                                                                 \n",
      " dense_2 (Dense)             (None, 32)                2080      \n",
      "                                                                 \n",
      " dense_3 (Dense)             (None, 16)                528       \n",
      "                                                                 \n",
      " dropout (Dropout)           (None, 16)                0         \n",
      "                                                                 \n",
      " dense_4 (Dense)             (None, 8)                 136       \n",
      "                                                                 \n",
      "=================================================================\n",
      "Total params: 2,407,256\n",
      "Trainable params: 2,407,256\n",
      "Non-trainable params: 0\n",
      "_________________________________________________________________\n"
     ]
    }
   ],
   "source": [
    "model = models.Sequential()\n",
    "## 특성추출 레이어를 쌓아준다.\n",
    "model.add(Conv2D(32,(3, 3), activation='relu', input_shape=(data_height, data_width, 3)))\n",
    "model.add(MaxPool2D((2,2)))#최대값으로 요약\n",
    "model.add(Conv2D(32,(3, 3), activation='relu', input_shape=(data_height, data_width, 3)))\n",
    "model.add(MaxPool2D((2,2)))#최대값으로 요약\n",
    "model.add(Conv2D(64,(3, 3), activation='relu'))\n",
    "model.add(MaxPool2D((2,2)))#최대값으로 요약\n",
    "\n",
    "## 딥러닝 학습 레이어를 쌓아준다.\n",
    "## 입력 -- 히든 -- 출력 순서대로 쌓아준다.\n",
    "## 입력(1개)--1차원이어야함\n",
    "model.add(Flatten())#이미지 데이터를 1차원으로 만들어주는 객체\n",
    "## 히든(N개)\n",
    "model.add(Dense(128, activation='relu'))\n",
    "model.add(Dense(64, activation='relu'))\n",
    "model.add(Dense(32, activation='relu'))\n",
    "model.add(Dense(16, activation='relu'))\n",
    "model.add(Dropout(rate=0.5))#오버피팅 되는 것을 막기 위해 공부한거 드랍아웃 해줌\n",
    "\n",
    "## 출력(1개)--딥러닝으로 하는 학습의 종류에 따라 다르게 써주어야 함!\n",
    "## 이진 분류인경우(1, sigmoid)\n",
    "## 다중 분류인경우(1, softmax)\n",
    "## 회귀인 경우(1, linear)\n",
    "model.add(Dense(8, activation='softmax'))\n",
    "model.summary()"
   ]
  },
  {
   "cell_type": "code",
   "execution_count": 15,
   "metadata": {},
   "outputs": [],
   "source": [
    "# Compiling the CNN\n",
    "model.compile(optimizer='adam',\n",
    "             loss='sparse_categorical_crossentropy',\n",
    "             metrics=['accuracy'])"
   ]
  },
  {
   "cell_type": "code",
   "execution_count": 16,
   "metadata": {},
   "outputs": [],
   "source": [
    "es = EarlyStopping(monitor='val_loss', patience=5, restore_best_weights=True)\n",
    "cp = ModelCheckpoint('fashion_cnn_1.h5')"
   ]
  },
  {
   "cell_type": "code",
   "execution_count": 17,
   "metadata": {},
   "outputs": [
    {
     "name": "stdout",
     "output_type": "stream",
     "text": [
      "Epoch 1/30\n",
      "123/123 - 27s - loss: 1.9647 - accuracy: 0.2232 - val_loss: 1.7128 - val_accuracy: 0.4624 - 27s/epoch - 216ms/step\n",
      "Epoch 2/30\n",
      "123/123 - 26s - loss: 1.6710 - accuracy: 0.3588 - val_loss: 1.5661 - val_accuracy: 0.4278 - 26s/epoch - 210ms/step\n",
      "Epoch 3/30\n",
      "123/123 - 26s - loss: 1.5341 - accuracy: 0.4187 - val_loss: 1.4130 - val_accuracy: 0.5095 - 26s/epoch - 215ms/step\n",
      "Epoch 4/30\n",
      "123/123 - 26s - loss: 1.4415 - accuracy: 0.4463 - val_loss: 1.2907 - val_accuracy: 0.5663 - 26s/epoch - 212ms/step\n",
      "Epoch 5/30\n",
      "123/123 - 26s - loss: 1.3502 - accuracy: 0.4833 - val_loss: 1.2131 - val_accuracy: 0.5859 - 26s/epoch - 214ms/step\n",
      "Epoch 6/30\n",
      "123/123 - 26s - loss: 1.2606 - accuracy: 0.5297 - val_loss: 1.1520 - val_accuracy: 0.5761 - 26s/epoch - 208ms/step\n",
      "Epoch 7/30\n",
      "123/123 - 27s - loss: 1.1733 - accuracy: 0.5517 - val_loss: 1.0267 - val_accuracy: 0.6525 - 27s/epoch - 215ms/step\n",
      "Epoch 8/30\n",
      "123/123 - 26s - loss: 1.0814 - accuracy: 0.5803 - val_loss: 0.9867 - val_accuracy: 0.6453 - 26s/epoch - 209ms/step\n",
      "Epoch 9/30\n",
      "123/123 - 29s - loss: 0.9991 - accuracy: 0.6236 - val_loss: 0.9916 - val_accuracy: 0.6571 - 29s/epoch - 235ms/step\n",
      "Epoch 10/30\n",
      "123/123 - 26s - loss: 0.9188 - accuracy: 0.6383 - val_loss: 1.0019 - val_accuracy: 0.6551 - 26s/epoch - 210ms/step\n",
      "Epoch 11/30\n",
      "123/123 - 27s - loss: 0.8928 - accuracy: 0.6448 - val_loss: 1.0721 - val_accuracy: 0.6649 - 27s/epoch - 215ms/step\n",
      "Epoch 12/30\n",
      "123/123 - 26s - loss: 0.8257 - accuracy: 0.6656 - val_loss: 1.0462 - val_accuracy: 0.6617 - 26s/epoch - 210ms/step\n",
      "Epoch 13/30\n",
      "123/123 - 25s - loss: 0.7820 - accuracy: 0.6809 - val_loss: 1.1054 - val_accuracy: 0.6649 - 25s/epoch - 206ms/step\n"
     ]
    }
   ],
   "source": [
    "cnn_history = model.fit( X_train, \n",
    "                       y_train,                \n",
    "                       batch_size=50,\n",
    "                       epochs=30,\n",
    "                       validation_data = (X_test, y_test),\n",
    "                       callbacks = [es, cp],\n",
    "                       verbose=2\n",
    "                       )"
   ]
  },
  {
   "cell_type": "code",
   "execution_count": 18,
   "metadata": {},
   "outputs": [
    {
     "name": "stdout",
     "output_type": "stream",
     "text": [
      "48/48 [==============================] - 2s 34ms/step - loss: 0.9867 - accuracy: 0.6453\n"
     ]
    },
    {
     "data": {
      "text/plain": [
       "[0.9867267608642578, 0.6453298330307007]"
      ]
     },
     "execution_count": 18,
     "metadata": {},
     "output_type": "execute_result"
    }
   ],
   "source": [
    "test_result = model.evaluate(X_test, y_test)\n",
    "test_result"
   ]
  },
  {
   "cell_type": "code",
   "execution_count": 19,
   "metadata": {},
   "outputs": [
    {
     "name": "stdout",
     "output_type": "stream",
     "text": [
      "test acc:  64.53\n"
     ]
    }
   ],
   "source": [
    "print('test acc: ', round(test_result[1]*100, 2))"
   ]
  },
  {
   "cell_type": "code",
   "execution_count": 20,
   "metadata": {},
   "outputs": [
    {
     "data": {
      "text/plain": [
       "<matplotlib.legend.Legend at 0x23b40ad5828>"
      ]
     },
     "execution_count": 20,
     "metadata": {},
     "output_type": "execute_result"
    },
    {
     "data": {
      "image/png": "[encoded data removed]",
      "text/plain": [
       "<Figure size 864x288 with 2 Axes>"
      ]
     },
     "metadata": {
      "needs_background": "light"
     },
     "output_type": "display_data"
    }
   ],
   "source": [
    "plt.figure(figsize=(12, 4))\n",
    "\n",
    "plt.subplot(1, 2, 1) ## 1행2열의 도표, 1열\n",
    "plt.plot(cnn_history.history['accuracy'])\n",
    "plt.plot(cnn_history.history['val_accuracy'])\n",
    "plt.title('model acc')\n",
    "plt.xlabel('epoch')\n",
    "plt.ylabel('acc')\n",
    "plt.legend(['train_acc','test_acc'])\n",
    "\n",
    "plt.subplot(1, 2, 2) ## 1행2열의 도표, 2열\n",
    "plt.plot(cnn_history.history['loss'])\n",
    "plt.plot(cnn_history.history['val_loss'])\n",
    "plt.title('model loss')\n",
    "plt.xlabel('epoch')\n",
    "plt.ylabel('loss')\n",
    "plt.legend(['train_loss','test_loss'])"
   ]
  },
  {
   "cell_type": "code",
   "execution_count": 21,
   "metadata": {},
   "outputs": [],
   "source": [
    "## 모델 시각화\n",
    "from IPython.display import SVG\n",
    "from keras.utils.vis_utils import model_to_dot"
   ]
  },
  {
   "cell_type": "code",
   "execution_count": 24,
   "metadata": {
    "scrolled": false
   },
   "outputs": [
    {
     "data": {
      "image/svg+xml": [
       "<svg height=\"1024pt\" viewBox=\"0.00 0.00 426.00 1134.00\" width=\"385pt\" xmlns=\"http://www.w3.org/2000/svg\" xmlns:xlink=\"http://www.w3.org/1999/xlink\">\n",
       "<g class=\"graph\" id=\"graph0\" transform=\"scale(0.902778 0.902778) rotate(0) translate(4 1130)\">\n",
       "<title>G</title>\n",
       "<polygon fill=\"white\" points=\"-4,4 -4,-1130 422,-1130 422,4 -4,4\" stroke=\"none\"/>\n",
       "<!-- 2442859342144 -->\n",
       "<g class=\"node\" id=\"node1\"><title>2442859342144</title>\n",
       "<polygon fill=\"none\" points=\"0,-1079.5 0,-1125.5 418,-1125.5 418,-1079.5 0,-1079.5\" stroke=\"black\"/>\n",
       "<text font-family=\"Times New Roman,serif\" font-size=\"14.00\" text-anchor=\"middle\" x=\"47\" y=\"-1110.3\">conv2d_input</text>\n",
       "<polyline fill=\"none\" points=\"0,-1102.5 94,-1102.5 \" stroke=\"black\"/>\n",
       "<text font-family=\"Times New Roman,serif\" font-size=\"14.00\" text-anchor=\"middle\" x=\"47\" y=\"-1087.3\">InputLayer</text>\n",
       "<polyline fill=\"none\" points=\"94,-1079.5 94,-1125.5 \" stroke=\"black\"/>\n",
       "<text font-family=\"Times New Roman,serif\" font-size=\"14.00\" text-anchor=\"middle\" x=\"122\" y=\"-1110.3\">input:</text>\n",
       "<polyline fill=\"none\" points=\"94,-1102.5 150,-1102.5 \" stroke=\"black\"/>\n",
       "<text font-family=\"Times New Roman,serif\" font-size=\"14.00\" text-anchor=\"middle\" x=\"122\" y=\"-1087.3\">output:</text>\n",
       "<polyline fill=\"none\" points=\"150,-1079.5 150,-1125.5 \" stroke=\"black\"/>\n",
       "<text font-family=\"Times New Roman,serif\" font-size=\"14.00\" text-anchor=\"middle\" x=\"217\" y=\"-1098.8\">[(None, 150, 150, 3)]</text>\n",
       "<polyline fill=\"none\" points=\"284,-1079.5 284,-1125.5 \" stroke=\"black\"/>\n",
       "<text font-family=\"Times New Roman,serif\" font-size=\"14.00\" text-anchor=\"middle\" x=\"351\" y=\"-1098.8\">[(None, 150, 150, 3)]</text>\n",
       "</g>\n",
       "<!-- 2442858789968 -->\n",
       "<g class=\"node\" id=\"node2\"><title>2442858789968</title>\n",
       "<polygon fill=\"none\" points=\"20.5,-996.5 20.5,-1042.5 397.5,-1042.5 397.5,-996.5 20.5,-996.5\" stroke=\"black\"/>\n",
       "<text font-family=\"Times New Roman,serif\" font-size=\"14.00\" text-anchor=\"middle\" x=\"52.5\" y=\"-1027.3\">conv2d</text>\n",
       "<polyline fill=\"none\" points=\"20.5,-1019.5 84.5,-1019.5 \" stroke=\"black\"/>\n",
       "<text font-family=\"Times New Roman,serif\" font-size=\"14.00\" text-anchor=\"middle\" x=\"52.5\" y=\"-1004.3\">Conv2D</text>\n",
       "<polyline fill=\"none\" points=\"84.5,-996.5 84.5,-1042.5 \" stroke=\"black\"/>\n",
       "<text font-family=\"Times New Roman,serif\" font-size=\"14.00\" text-anchor=\"middle\" x=\"112.5\" y=\"-1027.3\">input:</text>\n",
       "<polyline fill=\"none\" points=\"84.5,-1019.5 140.5,-1019.5 \" stroke=\"black\"/>\n",
       "<text font-family=\"Times New Roman,serif\" font-size=\"14.00\" text-anchor=\"middle\" x=\"112.5\" y=\"-1004.3\">output:</text>\n",
       "<polyline fill=\"none\" points=\"140.5,-996.5 140.5,-1042.5 \" stroke=\"black\"/>\n",
       "<text font-family=\"Times New Roman,serif\" font-size=\"14.00\" text-anchor=\"middle\" x=\"203\" y=\"-1015.8\">(None, 150, 150, 3)</text>\n",
       "<polyline fill=\"none\" points=\"265.5,-996.5 265.5,-1042.5 \" stroke=\"black\"/>\n",
       "<text font-family=\"Times New Roman,serif\" font-size=\"14.00\" text-anchor=\"middle\" x=\"331.5\" y=\"-1015.8\">(None, 148, 148, 32)</text>\n",
       "</g>\n",
       "<!-- 2442859342144&#45;&gt;2442858789968 -->\n",
       "<g class=\"edge\" id=\"edge1\"><title>2442859342144-&gt;2442858789968</title>\n",
       "<path d=\"M209,-1079.37C209,-1071.15 209,-1061.66 209,-1052.73\" fill=\"none\" stroke=\"black\"/>\n",
       "<polygon fill=\"black\" points=\"212.5,-1052.61 209,-1042.61 205.5,-1052.61 212.5,-1052.61\" stroke=\"black\"/>\n",
       "</g>\n",
       "<!-- 2442859340632 -->\n",
       "<g class=\"node\" id=\"node3\"><title>2442859340632</title>\n",
       "<polygon fill=\"none\" points=\"3.5,-913.5 3.5,-959.5 414.5,-959.5 414.5,-913.5 3.5,-913.5\" stroke=\"black\"/>\n",
       "<text font-family=\"Times New Roman,serif\" font-size=\"14.00\" text-anchor=\"middle\" x=\"55.5\" y=\"-944.3\">max_pooling2d</text>\n",
       "<polyline fill=\"none\" points=\"3.5,-936.5 107.5,-936.5 \" stroke=\"black\"/>\n",
       "<text font-family=\"Times New Roman,serif\" font-size=\"14.00\" text-anchor=\"middle\" x=\"55.5\" y=\"-921.3\">MaxPooling2D</text>\n",
       "<polyline fill=\"none\" points=\"107.5,-913.5 107.5,-959.5 \" stroke=\"black\"/>\n",
       "<text font-family=\"Times New Roman,serif\" font-size=\"14.00\" text-anchor=\"middle\" x=\"135.5\" y=\"-944.3\">input:</text>\n",
       "<polyline fill=\"none\" points=\"107.5,-936.5 163.5,-936.5 \" stroke=\"black\"/>\n",
       "<text font-family=\"Times New Roman,serif\" font-size=\"14.00\" text-anchor=\"middle\" x=\"135.5\" y=\"-921.3\">output:</text>\n",
       "<polyline fill=\"none\" points=\"163.5,-913.5 163.5,-959.5 \" stroke=\"black\"/>\n",
       "<text font-family=\"Times New Roman,serif\" font-size=\"14.00\" text-anchor=\"middle\" x=\"229.5\" y=\"-932.8\">(None, 148, 148, 32)</text>\n",
       "<polyline fill=\"none\" points=\"295.5,-913.5 295.5,-959.5 \" stroke=\"black\"/>\n",
       "<text font-family=\"Times New Roman,serif\" font-size=\"14.00\" text-anchor=\"middle\" x=\"355\" y=\"-932.8\">(None, 74, 74, 32)</text>\n",
       "</g>\n",
       "<!-- 2442858789968&#45;&gt;2442859340632 -->\n",
       "<g class=\"edge\" id=\"edge2\"><title>2442858789968-&gt;2442859340632</title>\n",
       "<path d=\"M209,-996.366C209,-988.152 209,-978.658 209,-969.725\" fill=\"none\" stroke=\"black\"/>\n",
       "<polygon fill=\"black\" points=\"212.5,-969.607 209,-959.607 205.5,-969.607 212.5,-969.607\" stroke=\"black\"/>\n",
       "</g>\n",
       "<!-- 2451124241408 -->\n",
       "<g class=\"node\" id=\"node4\"><title>2451124241408</title>\n",
       "<polygon fill=\"none\" points=\"25.5,-830.5 25.5,-876.5 392.5,-876.5 392.5,-830.5 25.5,-830.5\" stroke=\"black\"/>\n",
       "<text font-family=\"Times New Roman,serif\" font-size=\"14.00\" text-anchor=\"middle\" x=\"62\" y=\"-861.3\">conv2d_1</text>\n",
       "<polyline fill=\"none\" points=\"25.5,-853.5 98.5,-853.5 \" stroke=\"black\"/>\n",
       "<text font-family=\"Times New Roman,serif\" font-size=\"14.00\" text-anchor=\"middle\" x=\"62\" y=\"-838.3\">Conv2D</text>\n",
       "<polyline fill=\"none\" points=\"98.5,-830.5 98.5,-876.5 \" stroke=\"black\"/>\n",
       "<text font-family=\"Times New Roman,serif\" font-size=\"14.00\" text-anchor=\"middle\" x=\"126.5\" y=\"-861.3\">input:</text>\n",
       "<polyline fill=\"none\" points=\"98.5,-853.5 154.5,-853.5 \" stroke=\"black\"/>\n",
       "<text font-family=\"Times New Roman,serif\" font-size=\"14.00\" text-anchor=\"middle\" x=\"126.5\" y=\"-838.3\">output:</text>\n",
       "<polyline fill=\"none\" points=\"154.5,-830.5 154.5,-876.5 \" stroke=\"black\"/>\n",
       "<text font-family=\"Times New Roman,serif\" font-size=\"14.00\" text-anchor=\"middle\" x=\"214\" y=\"-849.8\">(None, 74, 74, 32)</text>\n",
       "<polyline fill=\"none\" points=\"273.5,-830.5 273.5,-876.5 \" stroke=\"black\"/>\n",
       "<text font-family=\"Times New Roman,serif\" font-size=\"14.00\" text-anchor=\"middle\" x=\"333\" y=\"-849.8\">(None, 72, 72, 32)</text>\n",
       "</g>\n",
       "<!-- 2442859340632&#45;&gt;2451124241408 -->\n",
       "<g class=\"edge\" id=\"edge3\"><title>2442859340632-&gt;2451124241408</title>\n",
       "<path d=\"M209,-913.366C209,-905.152 209,-895.658 209,-886.725\" fill=\"none\" stroke=\"black\"/>\n",
       "<polygon fill=\"black\" points=\"212.5,-886.607 209,-876.607 205.5,-886.607 212.5,-886.607\" stroke=\"black\"/>\n",
       "</g>\n",
       "<!-- 2451124475776 -->\n",
       "<g class=\"node\" id=\"node5\"><title>2451124475776</title>\n",
       "<polygon fill=\"none\" points=\"3,-747.5 3,-793.5 415,-793.5 415,-747.5 3,-747.5\" stroke=\"black\"/>\n",
       "<text font-family=\"Times New Roman,serif\" font-size=\"14.00\" text-anchor=\"middle\" x=\"62\" y=\"-778.3\">max_pooling2d_1</text>\n",
       "<polyline fill=\"none\" points=\"3,-770.5 121,-770.5 \" stroke=\"black\"/>\n",
       "<text font-family=\"Times New Roman,serif\" font-size=\"14.00\" text-anchor=\"middle\" x=\"62\" y=\"-755.3\">MaxPooling2D</text>\n",
       "<polyline fill=\"none\" points=\"121,-747.5 121,-793.5 \" stroke=\"black\"/>\n",
       "<text font-family=\"Times New Roman,serif\" font-size=\"14.00\" text-anchor=\"middle\" x=\"149\" y=\"-778.3\">input:</text>\n",
       "<polyline fill=\"none\" points=\"121,-770.5 177,-770.5 \" stroke=\"black\"/>\n",
       "<text font-family=\"Times New Roman,serif\" font-size=\"14.00\" text-anchor=\"middle\" x=\"149\" y=\"-755.3\">output:</text>\n",
       "<polyline fill=\"none\" points=\"177,-747.5 177,-793.5 \" stroke=\"black\"/>\n",
       "<text font-family=\"Times New Roman,serif\" font-size=\"14.00\" text-anchor=\"middle\" x=\"236.5\" y=\"-766.8\">(None, 72, 72, 32)</text>\n",
       "<polyline fill=\"none\" points=\"296,-747.5 296,-793.5 \" stroke=\"black\"/>\n",
       "<text font-family=\"Times New Roman,serif\" font-size=\"14.00\" text-anchor=\"middle\" x=\"355.5\" y=\"-766.8\">(None, 36, 36, 32)</text>\n",
       "</g>\n",
       "<!-- 2451124241408&#45;&gt;2451124475776 -->\n",
       "<g class=\"edge\" id=\"edge4\"><title>2451124241408-&gt;2451124475776</title>\n",
       "<path d=\"M209,-830.366C209,-822.152 209,-812.658 209,-803.725\" fill=\"none\" stroke=\"black\"/>\n",
       "<polygon fill=\"black\" points=\"212.5,-803.607 209,-793.607 205.5,-803.607 212.5,-803.607\" stroke=\"black\"/>\n",
       "</g>\n",
       "<!-- 2451124577336 -->\n",
       "<g class=\"node\" id=\"node6\"><title>2451124577336</title>\n",
       "<polygon fill=\"none\" points=\"25.5,-664.5 25.5,-710.5 392.5,-710.5 392.5,-664.5 25.5,-664.5\" stroke=\"black\"/>\n",
       "<text font-family=\"Times New Roman,serif\" font-size=\"14.00\" text-anchor=\"middle\" x=\"62\" y=\"-695.3\">conv2d_2</text>\n",
       "<polyline fill=\"none\" points=\"25.5,-687.5 98.5,-687.5 \" stroke=\"black\"/>\n",
       "<text font-family=\"Times New Roman,serif\" font-size=\"14.00\" text-anchor=\"middle\" x=\"62\" y=\"-672.3\">Conv2D</text>\n",
       "<polyline fill=\"none\" points=\"98.5,-664.5 98.5,-710.5 \" stroke=\"black\"/>\n",
       "<text font-family=\"Times New Roman,serif\" font-size=\"14.00\" text-anchor=\"middle\" x=\"126.5\" y=\"-695.3\">input:</text>\n",
       "<polyline fill=\"none\" points=\"98.5,-687.5 154.5,-687.5 \" stroke=\"black\"/>\n",
       "<text font-family=\"Times New Roman,serif\" font-size=\"14.00\" text-anchor=\"middle\" x=\"126.5\" y=\"-672.3\">output:</text>\n",
       "<polyline fill=\"none\" points=\"154.5,-664.5 154.5,-710.5 \" stroke=\"black\"/>\n",
       "<text font-family=\"Times New Roman,serif\" font-size=\"14.00\" text-anchor=\"middle\" x=\"214\" y=\"-683.8\">(None, 36, 36, 32)</text>\n",
       "<polyline fill=\"none\" points=\"273.5,-664.5 273.5,-710.5 \" stroke=\"black\"/>\n",
       "<text font-family=\"Times New Roman,serif\" font-size=\"14.00\" text-anchor=\"middle\" x=\"333\" y=\"-683.8\">(None, 34, 34, 64)</text>\n",
       "</g>\n",
       "<!-- 2451124475776&#45;&gt;2451124577336 -->\n",
       "<g class=\"edge\" id=\"edge5\"><title>2451124475776-&gt;2451124577336</title>\n",
       "<path d=\"M209,-747.366C209,-739.152 209,-729.658 209,-720.725\" fill=\"none\" stroke=\"black\"/>\n",
       "<polygon fill=\"black\" points=\"212.5,-720.607 209,-710.607 205.5,-720.607 212.5,-720.607\" stroke=\"black\"/>\n",
       "</g>\n",
       "<!-- 2451124580136 -->\n",
       "<g class=\"node\" id=\"node7\"><title>2451124580136</title>\n",
       "<polygon fill=\"none\" points=\"3,-581.5 3,-627.5 415,-627.5 415,-581.5 3,-581.5\" stroke=\"black\"/>\n",
       "<text font-family=\"Times New Roman,serif\" font-size=\"14.00\" text-anchor=\"middle\" x=\"62\" y=\"-612.3\">max_pooling2d_2</text>\n",
       "<polyline fill=\"none\" points=\"3,-604.5 121,-604.5 \" stroke=\"black\"/>\n",
       "<text font-family=\"Times New Roman,serif\" font-size=\"14.00\" text-anchor=\"middle\" x=\"62\" y=\"-589.3\">MaxPooling2D</text>\n",
       "<polyline fill=\"none\" points=\"121,-581.5 121,-627.5 \" stroke=\"black\"/>\n",
       "<text font-family=\"Times New Roman,serif\" font-size=\"14.00\" text-anchor=\"middle\" x=\"149\" y=\"-612.3\">input:</text>\n",
       "<polyline fill=\"none\" points=\"121,-604.5 177,-604.5 \" stroke=\"black\"/>\n",
       "<text font-family=\"Times New Roman,serif\" font-size=\"14.00\" text-anchor=\"middle\" x=\"149\" y=\"-589.3\">output:</text>\n",
       "<polyline fill=\"none\" points=\"177,-581.5 177,-627.5 \" stroke=\"black\"/>\n",
       "<text font-family=\"Times New Roman,serif\" font-size=\"14.00\" text-anchor=\"middle\" x=\"236.5\" y=\"-600.8\">(None, 34, 34, 64)</text>\n",
       "<polyline fill=\"none\" points=\"296,-581.5 296,-627.5 \" stroke=\"black\"/>\n",
       "<text font-family=\"Times New Roman,serif\" font-size=\"14.00\" text-anchor=\"middle\" x=\"355.5\" y=\"-600.8\">(None, 17, 17, 64)</text>\n",
       "</g>\n",
       "<!-- 2451124577336&#45;&gt;2451124580136 -->\n",
       "<g class=\"edge\" id=\"edge6\"><title>2451124577336-&gt;2451124580136</title>\n",
       "<path d=\"M209,-664.366C209,-656.152 209,-646.658 209,-637.725\" fill=\"none\" stroke=\"black\"/>\n",
       "<polygon fill=\"black\" points=\"212.5,-637.607 209,-627.607 205.5,-637.607 212.5,-637.607\" stroke=\"black\"/>\n",
       "</g>\n",
       "<!-- 2451124578008 -->\n",
       "<g class=\"node\" id=\"node8\"><title>2451124578008</title>\n",
       "<polygon fill=\"none\" points=\"46,-498.5 46,-544.5 372,-544.5 372,-498.5 46,-498.5\" stroke=\"black\"/>\n",
       "<text font-family=\"Times New Roman,serif\" font-size=\"14.00\" text-anchor=\"middle\" x=\"73\" y=\"-529.3\">flatten</text>\n",
       "<polyline fill=\"none\" points=\"46,-521.5 100,-521.5 \" stroke=\"black\"/>\n",
       "<text font-family=\"Times New Roman,serif\" font-size=\"14.00\" text-anchor=\"middle\" x=\"73\" y=\"-506.3\">Flatten</text>\n",
       "<polyline fill=\"none\" points=\"100,-498.5 100,-544.5 \" stroke=\"black\"/>\n",
       "<text font-family=\"Times New Roman,serif\" font-size=\"14.00\" text-anchor=\"middle\" x=\"128\" y=\"-529.3\">input:</text>\n",
       "<polyline fill=\"none\" points=\"100,-521.5 156,-521.5 \" stroke=\"black\"/>\n",
       "<text font-family=\"Times New Roman,serif\" font-size=\"14.00\" text-anchor=\"middle\" x=\"128\" y=\"-506.3\">output:</text>\n",
       "<polyline fill=\"none\" points=\"156,-498.5 156,-544.5 \" stroke=\"black\"/>\n",
       "<text font-family=\"Times New Roman,serif\" font-size=\"14.00\" text-anchor=\"middle\" x=\"215.5\" y=\"-517.8\">(None, 17, 17, 64)</text>\n",
       "<polyline fill=\"none\" points=\"275,-498.5 275,-544.5 \" stroke=\"black\"/>\n",
       "<text font-family=\"Times New Roman,serif\" font-size=\"14.00\" text-anchor=\"middle\" x=\"323.5\" y=\"-517.8\">(None, 18496)</text>\n",
       "</g>\n",
       "<!-- 2451124580136&#45;&gt;2451124578008 -->\n",
       "<g class=\"edge\" id=\"edge7\"><title>2451124580136-&gt;2451124578008</title>\n",
       "<path d=\"M209,-581.366C209,-573.152 209,-563.658 209,-554.725\" fill=\"none\" stroke=\"black\"/>\n",
       "<polygon fill=\"black\" points=\"212.5,-554.607 209,-544.607 205.5,-554.607 212.5,-554.607\" stroke=\"black\"/>\n",
       "</g>\n",
       "<!-- 2451124643096 -->\n",
       "<g class=\"node\" id=\"node9\"><title>2451124643096</title>\n",
       "<polygon fill=\"none\" points=\"65.5,-415.5 65.5,-461.5 352.5,-461.5 352.5,-415.5 65.5,-415.5\" stroke=\"black\"/>\n",
       "<text font-family=\"Times New Roman,serif\" font-size=\"14.00\" text-anchor=\"middle\" x=\"91\" y=\"-446.3\">dense</text>\n",
       "<polyline fill=\"none\" points=\"65.5,-438.5 116.5,-438.5 \" stroke=\"black\"/>\n",
       "<text font-family=\"Times New Roman,serif\" font-size=\"14.00\" text-anchor=\"middle\" x=\"91\" y=\"-423.3\">Dense</text>\n",
       "<polyline fill=\"none\" points=\"116.5,-415.5 116.5,-461.5 \" stroke=\"black\"/>\n",
       "<text font-family=\"Times New Roman,serif\" font-size=\"14.00\" text-anchor=\"middle\" x=\"144.5\" y=\"-446.3\">input:</text>\n",
       "<polyline fill=\"none\" points=\"116.5,-438.5 172.5,-438.5 \" stroke=\"black\"/>\n",
       "<text font-family=\"Times New Roman,serif\" font-size=\"14.00\" text-anchor=\"middle\" x=\"144.5\" y=\"-423.3\">output:</text>\n",
       "<polyline fill=\"none\" points=\"172.5,-415.5 172.5,-461.5 \" stroke=\"black\"/>\n",
       "<text font-family=\"Times New Roman,serif\" font-size=\"14.00\" text-anchor=\"middle\" x=\"221\" y=\"-434.8\">(None, 18496)</text>\n",
       "<polyline fill=\"none\" points=\"269.5,-415.5 269.5,-461.5 \" stroke=\"black\"/>\n",
       "<text font-family=\"Times New Roman,serif\" font-size=\"14.00\" text-anchor=\"middle\" x=\"311\" y=\"-434.8\">(None, 128)</text>\n",
       "</g>\n",
       "<!-- 2451124578008&#45;&gt;2451124643096 -->\n",
       "<g class=\"edge\" id=\"edge8\"><title>2451124578008-&gt;2451124643096</title>\n",
       "<path d=\"M209,-498.366C209,-490.152 209,-480.658 209,-471.725\" fill=\"none\" stroke=\"black\"/>\n",
       "<polygon fill=\"black\" points=\"212.5,-471.607 209,-461.607 205.5,-471.607 212.5,-471.607\" stroke=\"black\"/>\n",
       "</g>\n",
       "<!-- 2451124619752 -->\n",
       "<g class=\"node\" id=\"node10\"><title>2451124619752</title>\n",
       "<polygon fill=\"none\" points=\"69.5,-332.5 69.5,-378.5 348.5,-378.5 348.5,-332.5 69.5,-332.5\" stroke=\"black\"/>\n",
       "<text font-family=\"Times New Roman,serif\" font-size=\"14.00\" text-anchor=\"middle\" x=\"101\" y=\"-363.3\">dense_1</text>\n",
       "<polyline fill=\"none\" points=\"69.5,-355.5 132.5,-355.5 \" stroke=\"black\"/>\n",
       "<text font-family=\"Times New Roman,serif\" font-size=\"14.00\" text-anchor=\"middle\" x=\"101\" y=\"-340.3\">Dense</text>\n",
       "<polyline fill=\"none\" points=\"132.5,-332.5 132.5,-378.5 \" stroke=\"black\"/>\n",
       "<text font-family=\"Times New Roman,serif\" font-size=\"14.00\" text-anchor=\"middle\" x=\"160.5\" y=\"-363.3\">input:</text>\n",
       "<polyline fill=\"none\" points=\"132.5,-355.5 188.5,-355.5 \" stroke=\"black\"/>\n",
       "<text font-family=\"Times New Roman,serif\" font-size=\"14.00\" text-anchor=\"middle\" x=\"160.5\" y=\"-340.3\">output:</text>\n",
       "<polyline fill=\"none\" points=\"188.5,-332.5 188.5,-378.5 \" stroke=\"black\"/>\n",
       "<text font-family=\"Times New Roman,serif\" font-size=\"14.00\" text-anchor=\"middle\" x=\"230\" y=\"-351.8\">(None, 128)</text>\n",
       "<polyline fill=\"none\" points=\"271.5,-332.5 271.5,-378.5 \" stroke=\"black\"/>\n",
       "<text font-family=\"Times New Roman,serif\" font-size=\"14.00\" text-anchor=\"middle\" x=\"310\" y=\"-351.8\">(None, 64)</text>\n",
       "</g>\n",
       "<!-- 2451124643096&#45;&gt;2451124619752 -->\n",
       "<g class=\"edge\" id=\"edge9\"><title>2451124643096-&gt;2451124619752</title>\n",
       "<path d=\"M209,-415.366C209,-407.152 209,-397.658 209,-388.725\" fill=\"none\" stroke=\"black\"/>\n",
       "<polygon fill=\"black\" points=\"212.5,-388.607 209,-378.607 205.5,-388.607 212.5,-388.607\" stroke=\"black\"/>\n",
       "</g>\n",
       "<!-- 2451124617456 -->\n",
       "<g class=\"node\" id=\"node11\"><title>2451124617456</title>\n",
       "<polygon fill=\"none\" points=\"72.5,-249.5 72.5,-295.5 345.5,-295.5 345.5,-249.5 72.5,-249.5\" stroke=\"black\"/>\n",
       "<text font-family=\"Times New Roman,serif\" font-size=\"14.00\" text-anchor=\"middle\" x=\"104\" y=\"-280.3\">dense_2</text>\n",
       "<polyline fill=\"none\" points=\"72.5,-272.5 135.5,-272.5 \" stroke=\"black\"/>\n",
       "<text font-family=\"Times New Roman,serif\" font-size=\"14.00\" text-anchor=\"middle\" x=\"104\" y=\"-257.3\">Dense</text>\n",
       "<polyline fill=\"none\" points=\"135.5,-249.5 135.5,-295.5 \" stroke=\"black\"/>\n",
       "<text font-family=\"Times New Roman,serif\" font-size=\"14.00\" text-anchor=\"middle\" x=\"163.5\" y=\"-280.3\">input:</text>\n",
       "<polyline fill=\"none\" points=\"135.5,-272.5 191.5,-272.5 \" stroke=\"black\"/>\n",
       "<text font-family=\"Times New Roman,serif\" font-size=\"14.00\" text-anchor=\"middle\" x=\"163.5\" y=\"-257.3\">output:</text>\n",
       "<polyline fill=\"none\" points=\"191.5,-249.5 191.5,-295.5 \" stroke=\"black\"/>\n",
       "<text font-family=\"Times New Roman,serif\" font-size=\"14.00\" text-anchor=\"middle\" x=\"230\" y=\"-268.8\">(None, 64)</text>\n",
       "<polyline fill=\"none\" points=\"268.5,-249.5 268.5,-295.5 \" stroke=\"black\"/>\n",
       "<text font-family=\"Times New Roman,serif\" font-size=\"14.00\" text-anchor=\"middle\" x=\"307\" y=\"-268.8\">(None, 32)</text>\n",
       "</g>\n",
       "<!-- 2451124619752&#45;&gt;2451124617456 -->\n",
       "<g class=\"edge\" id=\"edge10\"><title>2451124619752-&gt;2451124617456</title>\n",
       "<path d=\"M209,-332.366C209,-324.152 209,-314.658 209,-305.725\" fill=\"none\" stroke=\"black\"/>\n",
       "<polygon fill=\"black\" points=\"212.5,-305.607 209,-295.607 205.5,-305.607 212.5,-305.607\" stroke=\"black\"/>\n",
       "</g>\n",
       "<!-- 2451124695280 -->\n",
       "<g class=\"node\" id=\"node12\"><title>2451124695280</title>\n",
       "<polygon fill=\"none\" points=\"72.5,-166.5 72.5,-212.5 345.5,-212.5 345.5,-166.5 72.5,-166.5\" stroke=\"black\"/>\n",
       "<text font-family=\"Times New Roman,serif\" font-size=\"14.00\" text-anchor=\"middle\" x=\"104\" y=\"-197.3\">dense_3</text>\n",
       "<polyline fill=\"none\" points=\"72.5,-189.5 135.5,-189.5 \" stroke=\"black\"/>\n",
       "<text font-family=\"Times New Roman,serif\" font-size=\"14.00\" text-anchor=\"middle\" x=\"104\" y=\"-174.3\">Dense</text>\n",
       "<polyline fill=\"none\" points=\"135.5,-166.5 135.5,-212.5 \" stroke=\"black\"/>\n",
       "<text font-family=\"Times New Roman,serif\" font-size=\"14.00\" text-anchor=\"middle\" x=\"163.5\" y=\"-197.3\">input:</text>\n",
       "<polyline fill=\"none\" points=\"135.5,-189.5 191.5,-189.5 \" stroke=\"black\"/>\n",
       "<text font-family=\"Times New Roman,serif\" font-size=\"14.00\" text-anchor=\"middle\" x=\"163.5\" y=\"-174.3\">output:</text>\n",
       "<polyline fill=\"none\" points=\"191.5,-166.5 191.5,-212.5 \" stroke=\"black\"/>\n",
       "<text font-family=\"Times New Roman,serif\" font-size=\"14.00\" text-anchor=\"middle\" x=\"230\" y=\"-185.8\">(None, 32)</text>\n",
       "<polyline fill=\"none\" points=\"268.5,-166.5 268.5,-212.5 \" stroke=\"black\"/>\n",
       "<text font-family=\"Times New Roman,serif\" font-size=\"14.00\" text-anchor=\"middle\" x=\"307\" y=\"-185.8\">(None, 16)</text>\n",
       "</g>\n",
       "<!-- 2451124617456&#45;&gt;2451124695280 -->\n",
       "<g class=\"edge\" id=\"edge11\"><title>2451124617456-&gt;2451124695280</title>\n",
       "<path d=\"M209,-249.366C209,-241.152 209,-231.658 209,-222.725\" fill=\"none\" stroke=\"black\"/>\n",
       "<polygon fill=\"black\" points=\"212.5,-222.607 209,-212.607 205.5,-222.607 212.5,-222.607\" stroke=\"black\"/>\n",
       "</g>\n",
       "<!-- 2451124747120 -->\n",
       "<g class=\"node\" id=\"node13\"><title>2451124747120</title>\n",
       "<polygon fill=\"none\" points=\"72,-83.5 72,-129.5 346,-129.5 346,-83.5 72,-83.5\" stroke=\"black\"/>\n",
       "<text font-family=\"Times New Roman,serif\" font-size=\"14.00\" text-anchor=\"middle\" x=\"104\" y=\"-114.3\">dropout</text>\n",
       "<polyline fill=\"none\" points=\"72,-106.5 136,-106.5 \" stroke=\"black\"/>\n",
       "<text font-family=\"Times New Roman,serif\" font-size=\"14.00\" text-anchor=\"middle\" x=\"104\" y=\"-91.3\">Dropout</text>\n",
       "<polyline fill=\"none\" points=\"136,-83.5 136,-129.5 \" stroke=\"black\"/>\n",
       "<text font-family=\"Times New Roman,serif\" font-size=\"14.00\" text-anchor=\"middle\" x=\"164\" y=\"-114.3\">input:</text>\n",
       "<polyline fill=\"none\" points=\"136,-106.5 192,-106.5 \" stroke=\"black\"/>\n",
       "<text font-family=\"Times New Roman,serif\" font-size=\"14.00\" text-anchor=\"middle\" x=\"164\" y=\"-91.3\">output:</text>\n",
       "<polyline fill=\"none\" points=\"192,-83.5 192,-129.5 \" stroke=\"black\"/>\n",
       "<text font-family=\"Times New Roman,serif\" font-size=\"14.00\" text-anchor=\"middle\" x=\"230.5\" y=\"-102.8\">(None, 16)</text>\n",
       "<polyline fill=\"none\" points=\"269,-83.5 269,-129.5 \" stroke=\"black\"/>\n",
       "<text font-family=\"Times New Roman,serif\" font-size=\"14.00\" text-anchor=\"middle\" x=\"307.5\" y=\"-102.8\">(None, 16)</text>\n",
       "</g>\n",
       "<!-- 2451124695280&#45;&gt;2451124747120 -->\n",
       "<g class=\"edge\" id=\"edge12\"><title>2451124695280-&gt;2451124747120</title>\n",
       "<path d=\"M209,-166.366C209,-158.152 209,-148.658 209,-139.725\" fill=\"none\" stroke=\"black\"/>\n",
       "<polygon fill=\"black\" points=\"212.5,-139.607 209,-129.607 205.5,-139.607 212.5,-139.607\" stroke=\"black\"/>\n",
       "</g>\n",
       "<!-- 2451124745440 -->\n",
       "<g class=\"node\" id=\"node14\"><title>2451124745440</title>\n",
       "<polygon fill=\"none\" points=\"76,-0.5 76,-46.5 342,-46.5 342,-0.5 76,-0.5\" stroke=\"black\"/>\n",
       "<text font-family=\"Times New Roman,serif\" font-size=\"14.00\" text-anchor=\"middle\" x=\"107.5\" y=\"-31.3\">dense_4</text>\n",
       "<polyline fill=\"none\" points=\"76,-23.5 139,-23.5 \" stroke=\"black\"/>\n",
       "<text font-family=\"Times New Roman,serif\" font-size=\"14.00\" text-anchor=\"middle\" x=\"107.5\" y=\"-8.3\">Dense</text>\n",
       "<polyline fill=\"none\" points=\"139,-0.5 139,-46.5 \" stroke=\"black\"/>\n",
       "<text font-family=\"Times New Roman,serif\" font-size=\"14.00\" text-anchor=\"middle\" x=\"167\" y=\"-31.3\">input:</text>\n",
       "<polyline fill=\"none\" points=\"139,-23.5 195,-23.5 \" stroke=\"black\"/>\n",
       "<text font-family=\"Times New Roman,serif\" font-size=\"14.00\" text-anchor=\"middle\" x=\"167\" y=\"-8.3\">output:</text>\n",
       "<polyline fill=\"none\" points=\"195,-0.5 195,-46.5 \" stroke=\"black\"/>\n",
       "<text font-family=\"Times New Roman,serif\" font-size=\"14.00\" text-anchor=\"middle\" x=\"233.5\" y=\"-19.8\">(None, 16)</text>\n",
       "<polyline fill=\"none\" points=\"272,-0.5 272,-46.5 \" stroke=\"black\"/>\n",
       "<text font-family=\"Times New Roman,serif\" font-size=\"14.00\" text-anchor=\"middle\" x=\"307\" y=\"-19.8\">(None, 8)</text>\n",
       "</g>\n",
       "<!-- 2451124747120&#45;&gt;2451124745440 -->\n",
       "<g class=\"edge\" id=\"edge13\"><title>2451124747120-&gt;2451124745440</title>\n",
       "<path d=\"M209,-83.3664C209,-75.1516 209,-65.6579 209,-56.7252\" fill=\"none\" stroke=\"black\"/>\n",
       "<polygon fill=\"black\" points=\"212.5,-56.6068 209,-46.6068 205.5,-56.6069 212.5,-56.6068\" stroke=\"black\"/>\n",
       "</g>\n",
       "</g>\n",
       "</svg>"
      ],
      "text/plain": [
       "<IPython.core.display.SVG object>"
      ]
     },
     "execution_count": 24,
     "metadata": {},
     "output_type": "execute_result"
    }
   ],
   "source": [
    "%matplotlib inline\n",
    "SVG(model_to_dot(model, show_shapes=True, dpi=65).create(prog='dot', format='svg'))"
   ]
  },
  {
   "cell_type": "code",
   "execution_count": 25,
   "metadata": {},
   "outputs": [],
   "source": [
    "## 모델 저장\n",
    "from keras.models import load_model\n",
    "model.save('fashion_model.h5')"
   ]
  },
  {
   "cell_type": "code",
   "execution_count": 13,
   "metadata": {},
   "outputs": [],
   "source": [
    "from keras.models import load_model\n",
    "model = load_model('fashion_model.h5')"
   ]
  },
  {
   "cell_type": "code",
   "execution_count": 14,
   "metadata": {},
   "outputs": [
    {
     "data": {
      "text/plain": [
       "array([[6.91034794e-02, 6.50208890e-02, 1.31614432e-01, 1.41493589e-01,\n",
       "        7.88800269e-02, 4.04762685e-01, 7.41712004e-02, 3.49537060e-02],\n",
       "       [3.47558290e-01, 8.13990831e-03, 1.72695890e-01, 3.80113517e-04,\n",
       "        7.37064634e-04, 1.61936171e-02, 3.84684622e-01, 6.96104914e-02],\n",
       "       [1.22105349e-02, 5.09074450e-01, 4.23753411e-02, 4.55468334e-02,\n",
       "        2.11122609e-03, 3.78064901e-01, 5.51498914e-03, 5.10181068e-03],\n",
       "       [4.76161800e-02, 1.12026150e-03, 3.72642317e-05, 3.78495368e-09,\n",
       "        2.02644674e-08, 7.89000296e-07, 8.67034716e-04, 9.50358450e-01],\n",
       "       [1.63088173e-01, 1.61489472e-03, 5.05733132e-01, 4.44669044e-04,\n",
       "        1.18106995e-02, 2.97696982e-02, 2.64997929e-01, 2.25408506e-02],\n",
       "       [3.56169850e-01, 6.63307905e-02, 8.09908286e-02, 2.16403836e-03,\n",
       "        1.45635812e-03, 1.85326263e-02, 2.55516499e-01, 2.18839005e-01],\n",
       "       [4.78766933e-02, 8.65614593e-01, 2.32301708e-02, 6.74126204e-04,\n",
       "        2.10560785e-04, 3.18778008e-02, 1.05510829e-02, 1.99650135e-02],\n",
       "       [6.39954433e-02, 9.30469469e-06, 7.26379156e-01, 1.64414064e-06,\n",
       "        1.01195404e-03, 3.40982690e-03, 2.03619286e-01, 1.57332560e-03],\n",
       "       [5.98938167e-02, 1.59693009e-03, 2.41188682e-04, 1.32004729e-07,\n",
       "        3.09954771e-06, 1.52864086e-05, 1.48885034e-03, 9.36760724e-01],\n",
       "       [3.57979734e-04, 4.76781025e-07, 1.22296759e-08, 2.14252766e-14,\n",
       "        2.64245803e-09, 3.09419212e-10, 2.99187803e-08, 9.99641538e-01]],\n",
       "      dtype=float32)"
      ]
     },
     "execution_count": 14,
     "metadata": {},
     "output_type": "execute_result"
    }
   ],
   "source": [
    "final_result = model.predict(X_test)\n",
    "final_result[:10]"
   ]
  },
  {
   "cell_type": "code",
   "execution_count": 15,
   "metadata": {},
   "outputs": [],
   "source": [
    "y_list = y_test.tolist()"
   ]
  },
  {
   "cell_type": "code",
   "execution_count": 16,
   "metadata": {},
   "outputs": [
    {
     "name": "stdout",
     "output_type": "stream",
     "text": [
      "blouse:  214 개\n",
      "dress: 185 개\n",
      "jacket: 195 개\n",
      "pants: 177 개\n",
      "shorts: 190 개\n",
      "skirt: 201 개\n",
      "sweater: 178 개\n",
      "Tshirt 191 개\n"
     ]
    }
   ],
   "source": [
    "y_list_0 = y_list.count(0)\n",
    "print('blouse: ', y_list_0, '개')\n",
    "y_list_1 = y_list.count(1)\n",
    "print('dress:', y_list_1, '개')\n",
    "y_list_2 = y_list.count(2)\n",
    "print('jacket:', y_list_2, '개')\n",
    "y_list_3 = y_list.count(3)\n",
    "print('pants:', y_list_3, '개')\n",
    "y_list_4 = y_list.count(4)\n",
    "print('shorts:', y_list_4, '개')\n",
    "y_list_5 = y_list.count(5)\n",
    "print('skirt:', y_list_5, '개')\n",
    "y_list_6 = y_list.count(6)\n",
    "print('sweater:', y_list_6, '개')\n",
    "y_list_7 = y_list.count(7)\n",
    "print('Tshirt', y_list_7, '개')"
   ]
  },
  {
   "cell_type": "code",
   "execution_count": 43,
   "metadata": {},
   "outputs": [],
   "source": [
    "probability_model = tf.keras.Sequential([model, \n",
    "                                         tf.keras.layers.Softmax()])"
   ]
  },
  {
   "cell_type": "code",
   "execution_count": 45,
   "metadata": {},
   "outputs": [],
   "source": [
    "predictions = probability_model.predict(X_test)"
   ]
  },
  {
   "cell_type": "code",
   "execution_count": 46,
   "metadata": {},
   "outputs": [
    {
     "data": {
      "text/plain": [
       "array([0.11743015, 0.1169517 , 0.12500511, 0.12624618, 0.11858384,\n",
       "       0.1642686 , 0.11802676, 0.11348765], dtype=float32)"
      ]
     },
     "execution_count": 46,
     "metadata": {},
     "output_type": "execute_result"
    }
   ],
   "source": [
    "predictions[0]"
   ]
  },
  {
   "cell_type": "code",
   "execution_count": 47,
   "metadata": {},
   "outputs": [
    {
     "data": {
      "text/plain": [
       "5"
      ]
     },
     "execution_count": 47,
     "metadata": {},
     "output_type": "execute_result"
    }
   ],
   "source": [
    "np.argmax(predictions[0])"
   ]
  },
  {
   "cell_type": "code",
   "execution_count": 48,
   "metadata": {},
   "outputs": [
    {
     "data": {
      "text/plain": [
       "5"
      ]
     },
     "execution_count": 48,
     "metadata": {},
     "output_type": "execute_result"
    }
   ],
   "source": [
    "y_test[0]"
   ]
  },
  {
   "cell_type": "code",
   "execution_count": 64,
   "metadata": {},
   "outputs": [],
   "source": [
    "class_names = ['blouse', 'dress', 'jacket', 'pants', 'shorts',\n",
    "               'skirt', 'sweater', 'Tshirt']"
   ]
  },
  {
   "cell_type": "code",
   "execution_count": 82,
   "metadata": {},
   "outputs": [],
   "source": [
    "def plot_image(i, predictions_array, true_label, img):\n",
    "    true_label, img = true_label[i], img[i]\n",
    "    plt.grid(False)\n",
    "    plt.xticks([])\n",
    "    plt.yticks([])\n",
    "\n",
    "    plt.imshow(img, cmap=plt.cm.binary)\n",
    "\n",
    "    predicted_label = np.argmax(predictions_array)\n",
    "    if predicted_label == true_label:\n",
    "        color = 'blue'\n",
    "    else:\n",
    "        color = 'red'\n",
    "\n",
    "    plt.xlabel(\"'예측: {}'      실제: {}'\".format(class_names[predicted_label],\n",
    "                                class_names[true_label]),\n",
    "                                color=color)"
   ]
  },
  {
   "cell_type": "code",
   "execution_count": 79,
   "metadata": {},
   "outputs": [
    {
     "data": {
      "image/png": "[encoded data removed]",
      "text/plain": [
       "<Figure size 432x216 with 1 Axes>"
      ]
     },
     "metadata": {},
     "output_type": "display_data"
    }
   ],
   "source": [
    "i = 0\n",
    "plt.figure(figsize=(6,3))\n",
    "plt.subplot(1,2,1)\n",
    "plot_image(i, predictions[i], y_test, X_test)\n",
    "plt.show()"
   ]
  },
  {
   "cell_type": "code",
   "execution_count": 80,
   "metadata": {},
   "outputs": [
    {
     "data": {
      "image/png": "[encoded data removed]",
      "text/plain": [
       "<Figure size 432x216 with 1 Axes>"
      ]
     },
     "metadata": {},
     "output_type": "display_data"
    }
   ],
   "source": [
    "i = 12\n",
    "plt.figure(figsize=(6,3))\n",
    "plt.subplot(1,2,1)\n",
    "plot_image(i, predictions[i], y_test, X_test)\n",
    "plt.show()"
   ]
  },
  {
   "cell_type": "code",
   "execution_count": 81,
   "metadata": {},
   "outputs": [
    {
     "data": {
      "image/png": "[encoded data removed]",
      "text/plain": [
       "<Figure size 432x216 with 1 Axes>"
      ]
     },
     "metadata": {},
     "output_type": "display_data"
    }
   ],
   "source": [
    "i = 19\n",
    "plt.figure(figsize=(6,3))\n",
    "plt.subplot(1,2,1)\n",
    "plot_image(i, predictions[i], y_test, X_test)\n",
    "plt.show()"
   ]
  }
 ],
 "metadata": {
  "kernelspec": {
   "display_name": "Python 3 (ipykernel)",
   "language": "python",
   "name": "python3"
  },
  "language_info": {
   "codemirror_mode": {
    "name": "ipython",
    "version": 3
   },
   "file_extension": ".py",
   "mimetype": "text/x-python",
   "name": "python",
   "nbconvert_exporter": "python",
   "pygments_lexer": "ipython3",
   "version": "3.7.0"
  }
 },
 "nbformat": 4,
 "nbformat_minor": 2
}

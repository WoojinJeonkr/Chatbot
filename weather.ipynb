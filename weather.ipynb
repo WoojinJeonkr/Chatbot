{
 "cells": [
  {
   "cell_type": "code",
   "execution_count": 1,
   "id": "335df22b",
   "metadata": {},
   "outputs": [],
   "source": [
    "import requests\n",
    "import json\n",
    "import datetime"
   ]
  },
  {
   "cell_type": "code",
   "execution_count": 2,
   "id": "f17d9bd1",
   "metadata": {},
   "outputs": [],
   "source": [
    "vilage_weather_url = \"http://apis.data.go.kr/1360000/VilageFcstInfoService_2.0/getVilageFcst?\"\n",
    "service_key = \"ServiceKey\"\n",
    "\n",
    "today = datetime.datetime.today()\n",
    "base_date = today.strftime(\"%Y%m%d\")\n",
    "base_time = \"0800\"\n",
    "\n",
    "nx = \"60\"\n",
    "ny = \"128\"\n",
    "\n",
    "payload = \"serviceKey=\" + service_key + \"&\" + \\ \n",
    "    \"dataType=json\" + \"&\" + \\\n",
    "    \"base_date=\" + base_date + \"&\" +\\\n",
    "    \"base_time=\" + base_time + \"&\" +\\\n",
    "    \"nx=\" + nx + \"&\" +\\\n",
    "    \"ny=\" + ny"
   ]
  },
  {
   "cell_type": "code",
   "execution_count": 54,
   "id": "6fcd4a70",
   "metadata": {},
   "outputs": [
    {
     "data": {
      "text/plain": [
       "'1144'"
      ]
     },
     "execution_count": 54,
     "metadata": {},
     "output_type": "execute_result"
    }
   ],
   "source": [
    "n = today.strftime(\"%H:%M:%S\")\n",
    "n[0:2] + n[3:5]"
   ]
  },
  {
   "cell_type": "code",
   "execution_count": 3,
   "id": "5bf583a7",
   "metadata": {},
   "outputs": [],
   "source": [
    "res = requests.get(vilage_weather_url + payload)"
   ]
  },
  {
   "cell_type": "code",
   "execution_count": 4,
   "id": "aefddfa8",
   "metadata": {},
   "outputs": [],
   "source": [
    "items = res.json().get('response').get('body').get('items')"
   ]
  },
  {
   "cell_type": "code",
   "execution_count": 5,
   "id": "24a876b3",
   "metadata": {},
   "outputs": [
    {
     "data": {
      "text/plain": [
       "{'item': [{'baseDate': '20220617',\n",
       "   'baseTime': '0800',\n",
       "   'category': 'TMP',\n",
       "   'fcstDate': '20220617',\n",
       "   'fcstTime': '0900',\n",
       "   'fcstValue': '20',\n",
       "   'nx': 60,\n",
       "   'ny': 128},\n",
       "  {'baseDate': '20220617',\n",
       "   'baseTime': '0800',\n",
       "   'category': 'UUU',\n",
       "   'fcstDate': '20220617',\n",
       "   'fcstTime': '0900',\n",
       "   'fcstValue': '-0.5',\n",
       "   'nx': 60,\n",
       "   'ny': 128},\n",
       "  {'baseDate': '20220617',\n",
       "   'baseTime': '0800',\n",
       "   'category': 'VVV',\n",
       "   'fcstDate': '20220617',\n",
       "   'fcstTime': '0900',\n",
       "   'fcstValue': '1.7',\n",
       "   'nx': 60,\n",
       "   'ny': 128},\n",
       "  {'baseDate': '20220617',\n",
       "   'baseTime': '0800',\n",
       "   'category': 'VEC',\n",
       "   'fcstDate': '20220617',\n",
       "   'fcstTime': '0900',\n",
       "   'fcstValue': '161',\n",
       "   'nx': 60,\n",
       "   'ny': 128},\n",
       "  {'baseDate': '20220617',\n",
       "   'baseTime': '0800',\n",
       "   'category': 'WSD',\n",
       "   'fcstDate': '20220617',\n",
       "   'fcstTime': '0900',\n",
       "   'fcstValue': '1.8',\n",
       "   'nx': 60,\n",
       "   'ny': 128},\n",
       "  {'baseDate': '20220617',\n",
       "   'baseTime': '0800',\n",
       "   'category': 'SKY',\n",
       "   'fcstDate': '20220617',\n",
       "   'fcstTime': '0900',\n",
       "   'fcstValue': '4',\n",
       "   'nx': 60,\n",
       "   'ny': 128},\n",
       "  {'baseDate': '20220617',\n",
       "   'baseTime': '0800',\n",
       "   'category': 'PTY',\n",
       "   'fcstDate': '20220617',\n",
       "   'fcstTime': '0900',\n",
       "   'fcstValue': '0',\n",
       "   'nx': 60,\n",
       "   'ny': 128},\n",
       "  {'baseDate': '20220617',\n",
       "   'baseTime': '0800',\n",
       "   'category': 'POP',\n",
       "   'fcstDate': '20220617',\n",
       "   'fcstTime': '0900',\n",
       "   'fcstValue': '30',\n",
       "   'nx': 60,\n",
       "   'ny': 128},\n",
       "  {'baseDate': '20220617',\n",
       "   'baseTime': '0800',\n",
       "   'category': 'WAV',\n",
       "   'fcstDate': '20220617',\n",
       "   'fcstTime': '0900',\n",
       "   'fcstValue': '0',\n",
       "   'nx': 60,\n",
       "   'ny': 128},\n",
       "  {'baseDate': '20220617',\n",
       "   'baseTime': '0800',\n",
       "   'category': 'PCP',\n",
       "   'fcstDate': '20220617',\n",
       "   'fcstTime': '0900',\n",
       "   'fcstValue': '강수없음',\n",
       "   'nx': 60,\n",
       "   'ny': 128}]}"
      ]
     },
     "execution_count": 5,
     "metadata": {},
     "output_type": "execute_result"
    }
   ],
   "source": [
    "items"
   ]
  },
  {
   "cell_type": "code",
   "execution_count": 6,
   "id": "47afa714",
   "metadata": {},
   "outputs": [],
   "source": [
    "data = dict()\n",
    "data['date'] = base_date"
   ]
  },
  {
   "cell_type": "code",
   "execution_count": 7,
   "id": "72134bd7",
   "metadata": {},
   "outputs": [],
   "source": [
    "weather_data = dict()"
   ]
  },
  {
   "cell_type": "code",
   "execution_count": 12,
   "id": "a566a626",
   "metadata": {},
   "outputs": [],
   "source": [
    "for item in items['item']:\n",
    "    # 기온\n",
    "    if item['category'] == 'TMP':\n",
    "        weather_data['tmp'] = item['fcstValue']\n",
    "    \n",
    "    # 기상상태\n",
    "    if item['category'] == 'PTY':\n",
    "        \n",
    "        weather_code = item['fcstValue']\n",
    "        \n",
    "        if weather_code == '1':\n",
    "            weather_state = '비'\n",
    "        elif weather_code == '2':\n",
    "            weather_state = '비/눈'\n",
    "        elif weather_code == '3':\n",
    "            weather_state = '눈'\n",
    "        elif weather_code == '4':\n",
    "            weather_state = '소나기'\n",
    "        else:\n",
    "            weather_state = '맑음'\n",
    "        \n",
    "        weather_data['code'] = weather_code\n",
    "        weather_data['state'] = weather_state"
   ]
  },
  {
   "cell_type": "code",
   "execution_count": 13,
   "id": "725cfd6a",
   "metadata": {},
   "outputs": [
    {
     "data": {
      "text/plain": [
       "{'tmp': '20', 'code': '0', 'state': '맑음'}"
      ]
     },
     "execution_count": 13,
     "metadata": {},
     "output_type": "execute_result"
    }
   ],
   "source": [
    "data['weather'] = weather_data\n",
    "data['weather'] # {'tmp': '20', 'code': '0', 'state': '맑음'} # 9도 / 맑음"
   ]
  },
  {
   "cell_type": "code",
   "execution_count": 20,
   "id": "10e29ed9",
   "metadata": {},
   "outputs": [],
   "source": [
    "text = \"날씨 정보 (%s)  \" %(data['date']) + \"기온 : %s  \" %(data['weather']['tmp']) + \"기우 : %s\" %(data['weather']['state']) "
   ]
  },
  {
   "cell_type": "code",
   "execution_count": 21,
   "id": "4fb8225f",
   "metadata": {},
   "outputs": [
    {
     "data": {
      "text/plain": [
       "'날씨 정보 (20220617)  기온 : 20  기우 : 맑음'"
      ]
     },
     "execution_count": 21,
     "metadata": {},
     "output_type": "execute_result"
    }
   ],
   "source": [
    "text"
   ]
  },
  {
   "cell_type": "code",
   "execution_count": 55,
   "id": "fdf602bc",
   "metadata": {},
   "outputs": [],
   "source": [
    "def find_out_weather(time, nx, ny):\n",
    "    import requests\n",
    "    import json\n",
    "    import datetime\n",
    "    \n",
    "    vilage_weather_url = \"http://apis.data.go.kr/1360000/VilageFcstInfoService_2.0/getVilageFcst?\"\n",
    "    service_key = \"ServiceKey\"\n",
    "    \n",
    "    today = datetime.datetime.today()\n",
    "    base_date = today.strftime(\"%Y%m%d\")\n",
    "    time = today.strftime(\"%H:%M:%S\")\n",
    "    base_time = time\n",
    "    \n",
    "    payload = \"serviceKey=\" + service_key + \"&\" + \"dataType=json\" + \"&\" + \"base_date=\" + base_date + \"&\" + \"base_time=\" + base_time + \"&\" + \"nx=\" + str(nx) + \"&\" + \"ny=\" + str(ny)\n",
    "\n",
    "    data = dict()\n",
    "    data['date'] = base_date\n",
    "    \n",
    "    weather_data = dict()\n",
    "    \n",
    "    for item in items['item']:\n",
    "        \n",
    "        # 기온\n",
    "        if item['category'] == 'TMP':\n",
    "            weather_data['tmp'] = item['fcstValue']\n",
    "\n",
    "        # 기상상태\n",
    "        if item['category'] == 'PTY':\n",
    "\n",
    "            weather_code = item['fcstValue']\n",
    "\n",
    "            if weather_code == '1':\n",
    "                weather_state = '비'\n",
    "            elif weather_code == '2':\n",
    "                weather_state = '비/눈'\n",
    "            elif weather_code == '3':\n",
    "                weather_state = '눈'\n",
    "            elif weather_code == '4':\n",
    "                weather_state = '소나기'\n",
    "            else:\n",
    "                weather_state = '맑음'\n",
    "\n",
    "    weather_data['code'] = weather_code\n",
    "    weather_data['state'] = weather_state\n",
    "        \n",
    "    data['weather'] = weather_data\n",
    "    print(data['date'], '현재 기온은 ', data['weather']['tmp'], '도이며 현재 날씨는 ', data['weather']['state'])"
   ]
  },
  {
   "cell_type": "code",
   "execution_count": 59,
   "id": "e3d8eae5",
   "metadata": {},
   "outputs": [
    {
     "name": "stdout",
     "output_type": "stream",
     "text": [
      "20220617 현재 기온은  20 도이며 현재 날씨는  맑음\n"
     ]
    }
   ],
   "source": [
    "find_out_weather(\"0800\", 37, 126)"
   ]
  }
 ],
 "metadata": {
  "kernelspec": {
   "display_name": "Python 3 (ipykernel)",
   "language": "python",
   "name": "python3"
  },
  "language_info": {
   "codemirror_mode": {
    "name": "ipython",
    "version": 3
   },
   "file_extension": ".py",
   "mimetype": "text/x-python",
   "name": "python",
   "nbconvert_exporter": "python",
   "pygments_lexer": "ipython3",
   "version": "3.7.0"
  }
 },
 "nbformat": 4,
 "nbformat_minor": 5
}

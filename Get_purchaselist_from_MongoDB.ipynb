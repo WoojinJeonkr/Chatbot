{
 "cells": [
  {
   "cell_type": "code",
   "execution_count": 1,
   "id": "8e1b917e",
   "metadata": {},
   "outputs": [],
   "source": [
    "import pymongo\n",
    "import pandas as pd"
   ]
  },
  {
   "cell_type": "code",
   "execution_count": 2,
   "id": "37eece89",
   "metadata": {},
   "outputs": [
    {
     "data": {
      "text/plain": [
       "MongoClient(host=['localhost:27017'], document_class=dict, tz_aware=False, connect=True)"
      ]
     },
     "execution_count": 2,
     "metadata": {},
     "output_type": "execute_result"
    }
   ],
   "source": [
    "conn = pymongo.MongoClient()\n",
    "conn"
   ]
  },
  {
   "cell_type": "code",
   "execution_count": 3,
   "id": "f5d0f7df",
   "metadata": {},
   "outputs": [
    {
     "data": {
      "text/plain": [
       "Database(MongoClient(host=['localhost:27017'], document_class=dict, tz_aware=False, connect=True), 'chatbot')"
      ]
     },
     "execution_count": 3,
     "metadata": {},
     "output_type": "execute_result"
    }
   ],
   "source": [
    "chatbot = conn.chatbot\n",
    "chatbot"
   ]
  },
  {
   "cell_type": "code",
   "execution_count": 4,
   "id": "4108c5c3",
   "metadata": {},
   "outputs": [
    {
     "data": {
      "text/plain": [
       "Collection(Database(MongoClient(host=['localhost:27017'], document_class=dict, tz_aware=False, connect=True), 'chatbot'), 'PurchaseList')"
      ]
     },
     "execution_count": 4,
     "metadata": {},
     "output_type": "execute_result"
    }
   ],
   "source": [
    "purchaselist = chatbot.PurchaseList\n",
    "purchaselist"
   ]
  },
  {
   "cell_type": "code",
   "execution_count": 5,
   "id": "a30471f5",
   "metadata": {},
   "outputs": [],
   "source": [
    "docs = purchaselist.find({})"
   ]
  },
  {
   "cell_type": "code",
   "execution_count": 6,
   "id": "05caac96",
   "metadata": {},
   "outputs": [
    {
     "data": {
      "text/html": [
       "<div>\n",
       "<style scoped>\n",
       "    .dataframe tbody tr th:only-of-type {\n",
       "        vertical-align: middle;\n",
       "    }\n",
       "\n",
       "    .dataframe tbody tr th {\n",
       "        vertical-align: top;\n",
       "    }\n",
       "\n",
       "    .dataframe thead th {\n",
       "        text-align: right;\n",
       "    }\n",
       "</style>\n",
       "<table border=\"1\" class=\"dataframe\">\n",
       "  <thead>\n",
       "    <tr style=\"text-align: right;\">\n",
       "      <th></th>\n",
       "      <th>payment_date</th>\n",
       "      <th>payment_method</th>\n",
       "      <th>payment_total</th>\n",
       "      <th>user_id</th>\n",
       "      <th>purchase_product</th>\n",
       "    </tr>\n",
       "  </thead>\n",
       "  <tbody>\n",
       "    <tr>\n",
       "      <th>0</th>\n",
       "      <td>2022-04-19 23:29:00</td>\n",
       "      <td>무통장입금</td>\n",
       "      <td>49900</td>\n",
       "      <td>aaaaaa1234</td>\n",
       "      <td>[쿨탠다드] 우먼즈 피케 폴로 원피스 [블랙]</td>\n",
       "    </tr>\n",
       "    <tr>\n",
       "      <th>1</th>\n",
       "      <td>2022-04-19 23:44:00</td>\n",
       "      <td>무통장입금</td>\n",
       "      <td>49900</td>\n",
       "      <td>aaaaaa1234</td>\n",
       "      <td>[쿨탠다드] 우먼즈 피케 폴로 원피스 [네이비]</td>\n",
       "    </tr>\n",
       "    <tr>\n",
       "      <th>2</th>\n",
       "      <td>2022-04-19 23:48:00</td>\n",
       "      <td>신용카드</td>\n",
       "      <td>49900</td>\n",
       "      <td>admin</td>\n",
       "      <td>라이 맥시 롱 원피스 black[블랙]</td>\n",
       "    </tr>\n",
       "    <tr>\n",
       "      <th>3</th>\n",
       "      <td>2022-04-20 23:32:00</td>\n",
       "      <td>신용카드</td>\n",
       "      <td>49900</td>\n",
       "      <td>admin</td>\n",
       "      <td>여성 트위스트 셔츠 원피스 - 에스프레소 / DR254LF588495</td>\n",
       "    </tr>\n",
       "    <tr>\n",
       "      <th>4</th>\n",
       "      <td>2022-04-20 23:33:00</td>\n",
       "      <td>신용카드</td>\n",
       "      <td>39900</td>\n",
       "      <td>admin</td>\n",
       "      <td>여성 트위스트 원피스 - 레몬 글레이즈 / W221DR254LF588500</td>\n",
       "    </tr>\n",
       "    <tr>\n",
       "      <th>...</th>\n",
       "      <td>...</td>\n",
       "      <td>...</td>\n",
       "      <td>...</td>\n",
       "      <td>...</td>\n",
       "      <td>...</td>\n",
       "    </tr>\n",
       "    <tr>\n",
       "      <th>795</th>\n",
       "      <td>2022-04-19 23:48:00</td>\n",
       "      <td>무통장입금</td>\n",
       "      <td>49900</td>\n",
       "      <td>admin</td>\n",
       "      <td>(W) CGC 루즈핏 피케 원피스 네이비</td>\n",
       "    </tr>\n",
       "    <tr>\n",
       "      <th>796</th>\n",
       "      <td>2022-04-20 23:32:00</td>\n",
       "      <td>신용카드</td>\n",
       "      <td>49900</td>\n",
       "      <td>admin</td>\n",
       "      <td>블랙 골지 슬림핏 롱 원피스 (112571AC15)</td>\n",
       "    </tr>\n",
       "    <tr>\n",
       "      <th>797</th>\n",
       "      <td>2022-04-20 23:33:00</td>\n",
       "      <td>신용카드</td>\n",
       "      <td>49900</td>\n",
       "      <td>admin</td>\n",
       "      <td>블랙 골지 슬림핏 롱 원피스 (112571AC15)</td>\n",
       "    </tr>\n",
       "    <tr>\n",
       "      <th>798</th>\n",
       "      <td>2022-04-20 23:44:00</td>\n",
       "      <td>신용카드</td>\n",
       "      <td>49900</td>\n",
       "      <td>cncomchinaTreeflex</td>\n",
       "      <td>빅 카라 트위드 자켓 드레스 (퍼플)</td>\n",
       "    </tr>\n",
       "    <tr>\n",
       "      <th>799</th>\n",
       "      <td>2022-04-21 10:36:00</td>\n",
       "      <td>신용카드</td>\n",
       "      <td>49900</td>\n",
       "      <td>cncompeopleOtcom</td>\n",
       "      <td>[쿨탠다드] 우먼즈 피케 폴로 원피스 [블루 그레이]</td>\n",
       "    </tr>\n",
       "  </tbody>\n",
       "</table>\n",
       "<p>800 rows × 5 columns</p>\n",
       "</div>"
      ],
      "text/plain": [
       "            payment_date payment_method payment_total             user_id  \\\n",
       "0    2022-04-19 23:29:00          무통장입금         49900          aaaaaa1234   \n",
       "1    2022-04-19 23:44:00          무통장입금         49900          aaaaaa1234   \n",
       "2    2022-04-19 23:48:00           신용카드         49900               admin   \n",
       "3    2022-04-20 23:32:00           신용카드         49900               admin   \n",
       "4    2022-04-20 23:33:00           신용카드         39900               admin   \n",
       "..                   ...            ...           ...                 ...   \n",
       "795  2022-04-19 23:48:00          무통장입금         49900               admin   \n",
       "796  2022-04-20 23:32:00           신용카드         49900               admin   \n",
       "797  2022-04-20 23:33:00           신용카드         49900               admin   \n",
       "798  2022-04-20 23:44:00           신용카드         49900  cncomchinaTreeflex   \n",
       "799  2022-04-21 10:36:00           신용카드         49900    cncompeopleOtcom   \n",
       "\n",
       "                              purchase_product  \n",
       "0                    [쿨탠다드] 우먼즈 피케 폴로 원피스 [블랙]  \n",
       "1                   [쿨탠다드] 우먼즈 피케 폴로 원피스 [네이비]  \n",
       "2                        라이 맥시 롱 원피스 black[블랙]  \n",
       "3       여성 트위스트 셔츠 원피스 - 에스프레소 / DR254LF588495  \n",
       "4    여성 트위스트 원피스 - 레몬 글레이즈 / W221DR254LF588500  \n",
       "..                                         ...  \n",
       "795                     (W) CGC 루즈핏 피케 원피스 네이비  \n",
       "796               블랙 골지 슬림핏 롱 원피스 (112571AC15)  \n",
       "797               블랙 골지 슬림핏 롱 원피스 (112571AC15)  \n",
       "798                       빅 카라 트위드 자켓 드레스 (퍼플)  \n",
       "799              [쿨탠다드] 우먼즈 피케 폴로 원피스 [블루 그레이]  \n",
       "\n",
       "[800 rows x 5 columns]"
      ]
     },
     "execution_count": 6,
     "metadata": {},
     "output_type": "execute_result"
    }
   ],
   "source": [
    "# pymongo에 저장된 데이터 가져와서 데이터프레임으로 변환하기\n",
    "list = pd.DataFrame()\n",
    "for doc in docs:\n",
    "    df = pd.DataFrame(docs, columns={'user_id', 'purchase_product', 'payment_method', 'payment_total', 'payment_date'})\n",
    "    list = list.append(df)\n",
    "list"
   ]
  },
  {
   "cell_type": "code",
   "execution_count": 7,
   "id": "b2dd01fa",
   "metadata": {},
   "outputs": [
    {
     "data": {
      "text/html": [
       "<div>\n",
       "<style scoped>\n",
       "    .dataframe tbody tr th:only-of-type {\n",
       "        vertical-align: middle;\n",
       "    }\n",
       "\n",
       "    .dataframe tbody tr th {\n",
       "        vertical-align: top;\n",
       "    }\n",
       "\n",
       "    .dataframe thead th {\n",
       "        text-align: right;\n",
       "    }\n",
       "</style>\n",
       "<table border=\"1\" class=\"dataframe\">\n",
       "  <thead>\n",
       "    <tr style=\"text-align: right;\">\n",
       "      <th></th>\n",
       "      <th>payment_date</th>\n",
       "      <th>payment_method</th>\n",
       "      <th>payment_total</th>\n",
       "      <th>user_id</th>\n",
       "      <th>purchase_product</th>\n",
       "    </tr>\n",
       "  </thead>\n",
       "  <tbody>\n",
       "    <tr>\n",
       "      <th>2</th>\n",
       "      <td>2022-04-19 23:48:00</td>\n",
       "      <td>신용카드</td>\n",
       "      <td>49900</td>\n",
       "      <td>admin</td>\n",
       "      <td>라이 맥시 롱 원피스 black[블랙]</td>\n",
       "    </tr>\n",
       "    <tr>\n",
       "      <th>3</th>\n",
       "      <td>2022-04-20 23:32:00</td>\n",
       "      <td>신용카드</td>\n",
       "      <td>49900</td>\n",
       "      <td>admin</td>\n",
       "      <td>여성 트위스트 셔츠 원피스 - 에스프레소 / DR254LF588495</td>\n",
       "    </tr>\n",
       "    <tr>\n",
       "      <th>4</th>\n",
       "      <td>2022-04-20 23:33:00</td>\n",
       "      <td>신용카드</td>\n",
       "      <td>39900</td>\n",
       "      <td>admin</td>\n",
       "      <td>여성 트위스트 원피스 - 레몬 글레이즈 / W221DR254LF588500</td>\n",
       "    </tr>\n",
       "    <tr>\n",
       "      <th>701</th>\n",
       "      <td>2022-04-19 23:16:00</td>\n",
       "      <td>무통장입금</td>\n",
       "      <td>49900</td>\n",
       "      <td>admin</td>\n",
       "      <td>C 로고 후디 그레이</td>\n",
       "    </tr>\n",
       "    <tr>\n",
       "      <th>765</th>\n",
       "      <td>2022-04-19 23:29:00</td>\n",
       "      <td>신용카드</td>\n",
       "      <td>49900</td>\n",
       "      <td>admin</td>\n",
       "      <td>[쿨탠다드] 우먼즈 피케 폴로 원피스 [네이비]</td>\n",
       "    </tr>\n",
       "    <tr>\n",
       "      <th>795</th>\n",
       "      <td>2022-04-19 23:48:00</td>\n",
       "      <td>무통장입금</td>\n",
       "      <td>49900</td>\n",
       "      <td>admin</td>\n",
       "      <td>(W) CGC 루즈핏 피케 원피스 네이비</td>\n",
       "    </tr>\n",
       "    <tr>\n",
       "      <th>796</th>\n",
       "      <td>2022-04-20 23:32:00</td>\n",
       "      <td>신용카드</td>\n",
       "      <td>49900</td>\n",
       "      <td>admin</td>\n",
       "      <td>블랙 골지 슬림핏 롱 원피스 (112571AC15)</td>\n",
       "    </tr>\n",
       "    <tr>\n",
       "      <th>797</th>\n",
       "      <td>2022-04-20 23:33:00</td>\n",
       "      <td>신용카드</td>\n",
       "      <td>49900</td>\n",
       "      <td>admin</td>\n",
       "      <td>블랙 골지 슬림핏 롱 원피스 (112571AC15)</td>\n",
       "    </tr>\n",
       "  </tbody>\n",
       "</table>\n",
       "</div>"
      ],
      "text/plain": [
       "            payment_date payment_method payment_total user_id  \\\n",
       "2    2022-04-19 23:48:00           신용카드         49900   admin   \n",
       "3    2022-04-20 23:32:00           신용카드         49900   admin   \n",
       "4    2022-04-20 23:33:00           신용카드         39900   admin   \n",
       "701  2022-04-19 23:16:00          무통장입금         49900   admin   \n",
       "765  2022-04-19 23:29:00           신용카드         49900   admin   \n",
       "795  2022-04-19 23:48:00          무통장입금         49900   admin   \n",
       "796  2022-04-20 23:32:00           신용카드         49900   admin   \n",
       "797  2022-04-20 23:33:00           신용카드         49900   admin   \n",
       "\n",
       "                              purchase_product  \n",
       "2                        라이 맥시 롱 원피스 black[블랙]  \n",
       "3       여성 트위스트 셔츠 원피스 - 에스프레소 / DR254LF588495  \n",
       "4    여성 트위스트 원피스 - 레몬 글레이즈 / W221DR254LF588500  \n",
       "701                                C 로고 후디 그레이  \n",
       "765                 [쿨탠다드] 우먼즈 피케 폴로 원피스 [네이비]  \n",
       "795                     (W) CGC 루즈핏 피케 원피스 네이비  \n",
       "796               블랙 골지 슬림핏 롱 원피스 (112571AC15)  \n",
       "797               블랙 골지 슬림핏 롱 원피스 (112571AC15)  "
      ]
     },
     "execution_count": 7,
     "metadata": {},
     "output_type": "execute_result"
    }
   ],
   "source": [
    "# 특정 id에 대한 구매 목록 출력하기\n",
    "purchase_list = list[list['user_id']=='admin']\n",
    "purchase_list"
   ]
  },
  {
   "cell_type": "code",
   "execution_count": 8,
   "id": "cfca09e1",
   "metadata": {},
   "outputs": [
    {
     "name": "stdout",
     "output_type": "stream",
     "text": [
      "['라이 맥시 롱 원피스 black[블랙]', '여성 트위스트 셔츠 원피스 - 에스프레소 / DR254LF588495', '여성 트위스트 원피스 - 레몬 글레이즈 / W221DR254LF588500', 'C 로고 후디 그레이', '[쿨탠다드] 우먼즈 피케 폴로 원피스 [네이비]', ' (W) CGC 루즈핏 피케 원피스 네이비', ' 블랙 골지 슬림핏 롱 원피스 (112571AC15)', ' 블랙 골지 슬림핏 롱 원피스 (112571AC15)']\n"
     ]
    }
   ],
   "source": [
    "# 구매 상품 출력하기\n",
    "purchase_product = list[list['user_id']=='admin']['purchase_product']\n",
    "purchase_product_list = purchase_product.to_list()\n",
    "print(purchase_product_list)\n"
   ]
  },
  {
   "cell_type": "code",
   "execution_count": 9,
   "id": "1054e490",
   "metadata": {},
   "outputs": [
    {
     "name": "stdout",
     "output_type": "stream",
     "text": [
      "389200\n"
     ]
    }
   ],
   "source": [
    "# 총 구매 가격 출력하기\n",
    "purchase_tprice = list[list['user_id']=='admin']['payment_total'].astype(int).sum()\n",
    "print(purchase_tprice)"
   ]
  },
  {
   "cell_type": "code",
   "execution_count": 10,
   "id": "33019889",
   "metadata": {
    "scrolled": false
   },
   "outputs": [
    {
     "data": {
      "text/html": [
       "<div>\n",
       "<style scoped>\n",
       "    .dataframe tbody tr th:only-of-type {\n",
       "        vertical-align: middle;\n",
       "    }\n",
       "\n",
       "    .dataframe tbody tr th {\n",
       "        vertical-align: top;\n",
       "    }\n",
       "\n",
       "    .dataframe thead th {\n",
       "        text-align: right;\n",
       "    }\n",
       "</style>\n",
       "<table border=\"1\" class=\"dataframe\">\n",
       "  <thead>\n",
       "    <tr style=\"text-align: right;\">\n",
       "      <th></th>\n",
       "      <th>payment_date</th>\n",
       "      <th>payment_method</th>\n",
       "      <th>payment_total</th>\n",
       "      <th>user_id</th>\n",
       "      <th>purchase_product</th>\n",
       "    </tr>\n",
       "  </thead>\n",
       "  <tbody>\n",
       "    <tr>\n",
       "      <th>2</th>\n",
       "      <td>2022-04-19 23:48:00</td>\n",
       "      <td>신용카드</td>\n",
       "      <td>49900</td>\n",
       "      <td>admin</td>\n",
       "      <td>라이 맥시 롱 원피스 black[블랙]</td>\n",
       "    </tr>\n",
       "    <tr>\n",
       "      <th>701</th>\n",
       "      <td>2022-04-19 23:16:00</td>\n",
       "      <td>무통장입금</td>\n",
       "      <td>49900</td>\n",
       "      <td>admin</td>\n",
       "      <td>C 로고 후디 그레이</td>\n",
       "    </tr>\n",
       "    <tr>\n",
       "      <th>765</th>\n",
       "      <td>2022-04-19 23:29:00</td>\n",
       "      <td>신용카드</td>\n",
       "      <td>49900</td>\n",
       "      <td>admin</td>\n",
       "      <td>[쿨탠다드] 우먼즈 피케 폴로 원피스 [네이비]</td>\n",
       "    </tr>\n",
       "    <tr>\n",
       "      <th>795</th>\n",
       "      <td>2022-04-19 23:48:00</td>\n",
       "      <td>무통장입금</td>\n",
       "      <td>49900</td>\n",
       "      <td>admin</td>\n",
       "      <td>(W) CGC 루즈핏 피케 원피스 네이비</td>\n",
       "    </tr>\n",
       "  </tbody>\n",
       "</table>\n",
       "</div>"
      ],
      "text/plain": [
       "            payment_date payment_method payment_total user_id  \\\n",
       "2    2022-04-19 23:48:00           신용카드         49900   admin   \n",
       "701  2022-04-19 23:16:00          무통장입금         49900   admin   \n",
       "765  2022-04-19 23:29:00           신용카드         49900   admin   \n",
       "795  2022-04-19 23:48:00          무통장입금         49900   admin   \n",
       "\n",
       "               purchase_product  \n",
       "2         라이 맥시 롱 원피스 black[블랙]  \n",
       "701                 C 로고 후디 그레이  \n",
       "765  [쿨탠다드] 우먼즈 피케 폴로 원피스 [네이비]  \n",
       "795      (W) CGC 루즈핏 피케 원피스 네이비  "
      ]
     },
     "execution_count": 10,
     "metadata": {},
     "output_type": "execute_result"
    }
   ],
   "source": [
    "# 특정 id, 특정 시간에 따른 구매 목록 출력하기\n",
    "purchase_list = list[(list['user_id']=='admin') & (list['payment_date'].str.contains('2022-04-19'))]\n",
    "purchase_list"
   ]
  },
  {
   "cell_type": "code",
   "execution_count": 23,
   "id": "acc2e1b8",
   "metadata": {},
   "outputs": [
    {
     "data": {
      "text/html": [
       "<div>\n",
       "<style scoped>\n",
       "    .dataframe tbody tr th:only-of-type {\n",
       "        vertical-align: middle;\n",
       "    }\n",
       "\n",
       "    .dataframe tbody tr th {\n",
       "        vertical-align: top;\n",
       "    }\n",
       "\n",
       "    .dataframe thead th {\n",
       "        text-align: right;\n",
       "    }\n",
       "</style>\n",
       "<table border=\"1\" class=\"dataframe\">\n",
       "  <thead>\n",
       "    <tr style=\"text-align: right;\">\n",
       "      <th></th>\n",
       "      <th>payment_method</th>\n",
       "      <th>payment_total</th>\n",
       "    </tr>\n",
       "  </thead>\n",
       "  <tbody>\n",
       "    <tr>\n",
       "      <th>2</th>\n",
       "      <td>신용카드</td>\n",
       "      <td>49900</td>\n",
       "    </tr>\n",
       "    <tr>\n",
       "      <th>3</th>\n",
       "      <td>신용카드</td>\n",
       "      <td>49900</td>\n",
       "    </tr>\n",
       "    <tr>\n",
       "      <th>4</th>\n",
       "      <td>신용카드</td>\n",
       "      <td>39900</td>\n",
       "    </tr>\n",
       "    <tr>\n",
       "      <th>701</th>\n",
       "      <td>무통장입금</td>\n",
       "      <td>49900</td>\n",
       "    </tr>\n",
       "    <tr>\n",
       "      <th>765</th>\n",
       "      <td>신용카드</td>\n",
       "      <td>49900</td>\n",
       "    </tr>\n",
       "    <tr>\n",
       "      <th>795</th>\n",
       "      <td>무통장입금</td>\n",
       "      <td>49900</td>\n",
       "    </tr>\n",
       "    <tr>\n",
       "      <th>796</th>\n",
       "      <td>신용카드</td>\n",
       "      <td>49900</td>\n",
       "    </tr>\n",
       "    <tr>\n",
       "      <th>797</th>\n",
       "      <td>신용카드</td>\n",
       "      <td>49900</td>\n",
       "    </tr>\n",
       "  </tbody>\n",
       "</table>\n",
       "</div>"
      ],
      "text/plain": [
       "    payment_method  payment_total\n",
       "2             신용카드          49900\n",
       "3             신용카드          49900\n",
       "4             신용카드          39900\n",
       "701          무통장입금          49900\n",
       "765           신용카드          49900\n",
       "795          무통장입금          49900\n",
       "796           신용카드          49900\n",
       "797           신용카드          49900"
      ]
     },
     "execution_count": 23,
     "metadata": {},
     "output_type": "execute_result"
    }
   ],
   "source": [
    "# 결제 건수 조회하기\n",
    "list['payment_total'] = list['payment_total'].astype(int)\n",
    "A = list[list['user_id']=='admin'][['payment_method', 'payment_total']]\n",
    "A"
   ]
  },
  {
   "cell_type": "code",
   "execution_count": 31,
   "id": "6bac32f3",
   "metadata": {},
   "outputs": [
    {
     "name": "stdout",
     "output_type": "stream",
     "text": [
      "신용카드\n",
      "289400\n"
     ]
    }
   ],
   "source": [
    "print(A[A['payment_method'] == '신용카드']['payment_method'].unique()[0])\n",
    "print(A[A['payment_method'] == '신용카드']['payment_total'].sum())"
   ]
  },
  {
   "cell_type": "code",
   "execution_count": 32,
   "id": "1f2a8030",
   "metadata": {},
   "outputs": [
    {
     "name": "stdout",
     "output_type": "stream",
     "text": [
      "무통장입금\n",
      "99800\n"
     ]
    }
   ],
   "source": [
    "print(A[A['payment_method'] == '무통장입금']['payment_method'].unique()[0])\n",
    "print(A[A['payment_method'] == '무통장입금']['payment_total'].sum())"
   ]
  }
 ],
 "metadata": {
  "kernelspec": {
   "display_name": "Python 3 (ipykernel)",
   "language": "python",
   "name": "python3"
  },
  "language_info": {
   "codemirror_mode": {
    "name": "ipython",
    "version": 3
   },
   "file_extension": ".py",
   "mimetype": "text/x-python",
   "name": "python",
   "nbconvert_exporter": "python",
   "pygments_lexer": "ipython3",
   "version": "3.7.0"
  }
 },
 "nbformat": 4,
 "nbformat_minor": 5
}

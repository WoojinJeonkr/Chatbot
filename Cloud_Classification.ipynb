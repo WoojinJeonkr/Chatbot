{
 "cells": [
  {
   "cell_type": "code",
   "execution_count": 1,
   "id": "6367bb54",
   "metadata": {},
   "outputs": [],
   "source": [
    "import os.path\n",
    "import cv2\n",
    "import numpy as np\n",
    "import pandas as pd\n",
    "import matplotlib.pyplot as plt\n",
    "import tensorflow as tf\n",
    "import seaborn as sns\n",
    "\n",
    "from glob import glob\n",
    "\n",
    "from sklearn.model_selection import train_test_split\n",
    "from sklearn.metrics import classification_report,accuracy_score\n",
    "from tensorflow.keras.preprocessing.text import text_to_word_sequence\n",
    "from sklearn.preprocessing import LabelEncoder"
   ]
  },
  {
   "cell_type": "code",
   "execution_count": 2,
   "id": "8c545b59",
   "metadata": {},
   "outputs": [
    {
     "name": "stdout",
     "output_type": "stream",
     "text": [
      "C:\\Users\\hi\\Desktop\\DeepLearning\n"
     ]
    }
   ],
   "source": [
    "print(os.getcwd()) "
   ]
  },
  {
   "cell_type": "code",
   "execution_count": 3,
   "id": "a985da63",
   "metadata": {},
   "outputs": [
    {
     "name": "stdout",
     "output_type": "stream",
     "text": [
      "C:\\Users\\hi\\Desktop\\DeepLearning\\data\\chatbot_dataset\\cloud_data\\train\\cloud_train\n"
     ]
    }
   ],
   "source": [
    "# 파일 경로 재설정\n",
    "base_dir = os.chdir(os.getcwd() + \"/data/chatbot_dataset/cloud_data/train/cloud_train\")\n",
    "print(os.getcwd())"
   ]
  },
  {
   "cell_type": "code",
   "execution_count": 4,
   "id": "736739b6",
   "metadata": {},
   "outputs": [
    {
     "name": "stdout",
     "output_type": "stream",
     "text": [
      "파일 개수 >>  2323\n",
      "파일 목록 타입 >>  <class 'list'>\n"
     ]
    }
   ],
   "source": [
    "data_list = glob('*.jpg')\n",
    "print('파일 개수 >> ', len(data_list))\n",
    "print('파일 목록 타입 >> ', type(data_list))"
   ]
  },
  {
   "cell_type": "code",
   "execution_count": 5,
   "id": "a04fe528",
   "metadata": {},
   "outputs": [
    {
     "name": "stdout",
     "output_type": "stream",
     "text": [
      "['ac', 'n001', 'jpg']\n"
     ]
    }
   ],
   "source": [
    "token = text_to_word_sequence(data_list[0])\n",
    "print(token)"
   ]
  },
  {
   "cell_type": "code",
   "execution_count": 6,
   "id": "fe53d8ac",
   "metadata": {},
   "outputs": [
    {
     "name": "stdout",
     "output_type": "stream",
     "text": [
      "2323\n"
     ]
    }
   ],
   "source": [
    "label = []\n",
    "for x in data_list:\n",
    "    token = text_to_word_sequence(x)\n",
    "    label.append(token[0])\n",
    "print(len(label))"
   ]
  },
  {
   "cell_type": "code",
   "execution_count": 7,
   "id": "8fe265c9",
   "metadata": {},
   "outputs": [
    {
     "data": {
      "text/plain": [
       "array([ 0,  0,  0, ..., 10, 10, 10], dtype=int64)"
      ]
     },
     "execution_count": 7,
     "metadata": {},
     "output_type": "execute_result"
    }
   ],
   "source": [
    "items = label\n",
    "encoder = LabelEncoder()\n",
    "label = encoder.fit_transform(items)\n",
    "label"
   ]
  },
  {
   "cell_type": "code",
   "execution_count": 8,
   "id": "ffdd994a",
   "metadata": {},
   "outputs": [],
   "source": [
    "data_height = 64\n",
    "data_width = 64\n",
    "channel_n = 3"
   ]
  },
  {
   "cell_type": "code",
   "execution_count": 9,
   "id": "71632bbd",
   "metadata": {},
   "outputs": [],
   "source": [
    "def make_file(dat_height, data_width, channel_n, data_list_len):\n",
    "    label = []\n",
    "    images = np.zeros((data_list_len, dat_height, data_width, channel_n))\n",
    "    \n",
    "    for i, image in enumerate(data_list):\n",
    "        \n",
    "        token = text_to_word_sequence(image)\n",
    "        label.append(token[0])\n",
    "        \n",
    "        image = cv2.imread(image)\n",
    "        image = cv2.resize(image, (dat_height, data_width)) / 255\n",
    "        \n",
    "        images[i, :, :, :] = image\n",
    "    label = np.array(label)\n",
    "    return (label, images) "
   ]
  },
  {
   "cell_type": "code",
   "execution_count": 10,
   "id": "555b962c",
   "metadata": {},
   "outputs": [],
   "source": [
    "label, images = make_file(data_height, data_width, channel_n, len(data_list))"
   ]
  },
  {
   "cell_type": "code",
   "execution_count": 11,
   "id": "b7139cfe",
   "metadata": {},
   "outputs": [
    {
     "data": {
      "text/plain": [
       "(array([ 0,  0,  0, ..., 10, 10, 10], dtype=int64), 2323)"
      ]
     },
     "execution_count": 11,
     "metadata": {},
     "output_type": "execute_result"
    }
   ],
   "source": [
    "items = label\n",
    "encoder = LabelEncoder()\n",
    "label = encoder.fit_transform(items)\n",
    "label, len(label) "
   ]
  },
  {
   "cell_type": "code",
   "execution_count": 12,
   "id": "7f7934ff",
   "metadata": {},
   "outputs": [
    {
     "name": "stdout",
     "output_type": "stream",
     "text": [
      "(1858, 64, 64, 3) (465, 64, 64, 3)\n"
     ]
    }
   ],
   "source": [
    "x = images\n",
    "y = label\n",
    "\n",
    "X_train, X_test, y_train, y_test = train_test_split(x, \n",
    "                                                    y, \n",
    "                                                    test_size= 0.2,\n",
    "                                                    random_state=55\n",
    "                                                   )\n",
    "print(X_train.shape, X_test.shape)"
   ]
  },
  {
   "cell_type": "code",
   "execution_count": 13,
   "id": "6214a338",
   "metadata": {},
   "outputs": [],
   "source": [
    "## 딥러닝 모델을 만들어보자.\n",
    "from tensorflow.keras.layers import *\n",
    "from tensorflow.keras.models import Sequential\n",
    "from tensorflow.keras.callbacks import EarlyStopping, ModelCheckpoint\n",
    "from tensorflow.keras import datasets, layers, models"
   ]
  },
  {
   "cell_type": "code",
   "execution_count": 14,
   "id": "633651f0",
   "metadata": {
    "scrolled": false
   },
   "outputs": [
    {
     "name": "stdout",
     "output_type": "stream",
     "text": [
      "Model: \"sequential\"\n",
      "_________________________________________________________________\n",
      " Layer (type)                Output Shape              Param #   \n",
      "=================================================================\n",
      " conv2d (Conv2D)             (None, 64, 64, 32)        896       \n",
      "                                                                 \n",
      " max_pooling2d (MaxPooling2D  (None, 32, 32, 32)       0         \n",
      " )                                                               \n",
      "                                                                 \n",
      " dropout (Dropout)           (None, 32, 32, 32)        0         \n",
      "                                                                 \n",
      " conv2d_1 (Conv2D)           (None, 32, 32, 64)        18496     \n",
      "                                                                 \n",
      " max_pooling2d_1 (MaxPooling  (None, 16, 16, 64)       0         \n",
      " 2D)                                                             \n",
      "                                                                 \n",
      " dropout_1 (Dropout)         (None, 16, 16, 64)        0         \n",
      "                                                                 \n",
      " flatten (Flatten)           (None, 16384)             0         \n",
      "                                                                 \n",
      " dense (Dense)               (None, 256)               4194560   \n",
      "                                                                 \n",
      " dropout_2 (Dropout)         (None, 256)               0         \n",
      "                                                                 \n",
      " dense_1 (Dense)             (None, 11)                2827      \n",
      "                                                                 \n",
      "=================================================================\n",
      "Total params: 4,216,779\n",
      "Trainable params: 4,216,779\n",
      "Non-trainable params: 0\n",
      "_________________________________________________________________\n"
     ]
    }
   ],
   "source": [
    "model = Sequential() # 모델 선언\n",
    "  \n",
    "model.add(Conv2D(32, (3,3), padding=\"same\", input_shape=X_train.shape[1:], activation=\"relu\")) \n",
    "model.add(MaxPooling2D(pool_size=(2,2)))\n",
    "model.add(Dropout(0.25)) #과적합 방지 \n",
    "\n",
    "model.add(Conv2D(64, (3,3), padding=\"same\", activation=\"relu\"))\n",
    "model.add(MaxPooling2D(pool_size=(2,2)))\n",
    "model.add(Dropout(0.25))\n",
    "\n",
    "#FC layer\n",
    "model.add(Flatten())\n",
    "model.add(Dense(256, activation = 'relu'))\n",
    "model.add(Dropout(0.5))\n",
    "model.add(Dense(11, activation = 'softmax'))\n",
    "\n",
    "model.summary()"
   ]
  },
  {
   "cell_type": "code",
   "execution_count": 15,
   "id": "b7a3cdae",
   "metadata": {},
   "outputs": [],
   "source": [
    "# Compiling the CNN\n",
    "model.compile(optimizer='adam',\n",
    "             loss='sparse_categorical_crossentropy',\n",
    "             metrics=['accuracy'])"
   ]
  },
  {
   "cell_type": "code",
   "execution_count": 16,
   "id": "5b7ed6e9",
   "metadata": {},
   "outputs": [],
   "source": [
    "es = EarlyStopping(monitor = 'val_loss', patience = 6, restore_best_weights=True)\n",
    "cp = ModelCheckpoint('cloud_model.h5', monitor='val_loss', verbose = True)"
   ]
  },
  {
   "cell_type": "code",
   "execution_count": 17,
   "id": "4e6ec865",
   "metadata": {
    "scrolled": false
   },
   "outputs": [
    {
     "name": "stdout",
     "output_type": "stream",
     "text": [
      "Epoch 1/50\n",
      "\n",
      "Epoch 1: saving model to cloud_model.h5\n",
      "38/38 - 3s - loss: 2.5177 - accuracy: 0.1146 - val_loss: 2.3398 - val_accuracy: 0.2194 - 3s/epoch - 89ms/step\n",
      "Epoch 2/50\n",
      "\n",
      "Epoch 2: saving model to cloud_model.h5\n",
      "38/38 - 3s - loss: 2.2683 - accuracy: 0.1884 - val_loss: 2.2145 - val_accuracy: 0.2237 - 3s/epoch - 77ms/step\n",
      "Epoch 3/50\n",
      "\n",
      "Epoch 3: saving model to cloud_model.h5\n",
      "38/38 - 3s - loss: 2.2041 - accuracy: 0.2271 - val_loss: 2.1008 - val_accuracy: 0.2946 - 3s/epoch - 76ms/step\n",
      "Epoch 4/50\n",
      "\n",
      "Epoch 4: saving model to cloud_model.h5\n",
      "38/38 - 3s - loss: 2.1310 - accuracy: 0.2395 - val_loss: 2.0802 - val_accuracy: 0.3484 - 3s/epoch - 76ms/step\n",
      "Epoch 5/50\n",
      "\n",
      "Epoch 5: saving model to cloud_model.h5\n",
      "38/38 - 3s - loss: 2.0773 - accuracy: 0.2632 - val_loss: 2.0488 - val_accuracy: 0.3355 - 3s/epoch - 76ms/step\n",
      "Epoch 6/50\n",
      "\n",
      "Epoch 6: saving model to cloud_model.h5\n",
      "38/38 - 3s - loss: 2.0531 - accuracy: 0.2686 - val_loss: 1.9768 - val_accuracy: 0.3398 - 3s/epoch - 76ms/step\n",
      "Epoch 7/50\n",
      "\n",
      "Epoch 7: saving model to cloud_model.h5\n",
      "38/38 - 3s - loss: 1.9946 - accuracy: 0.2906 - val_loss: 1.9575 - val_accuracy: 0.3376 - 3s/epoch - 76ms/step\n",
      "Epoch 8/50\n",
      "\n",
      "Epoch 8: saving model to cloud_model.h5\n",
      "38/38 - 3s - loss: 1.9378 - accuracy: 0.3315 - val_loss: 1.9394 - val_accuracy: 0.3548 - 3s/epoch - 76ms/step\n",
      "Epoch 9/50\n",
      "\n",
      "Epoch 9: saving model to cloud_model.h5\n",
      "38/38 - 3s - loss: 1.9003 - accuracy: 0.3493 - val_loss: 1.8985 - val_accuracy: 0.3484 - 3s/epoch - 76ms/step\n",
      "Epoch 10/50\n",
      "\n",
      "Epoch 10: saving model to cloud_model.h5\n",
      "38/38 - 3s - loss: 1.8226 - accuracy: 0.3515 - val_loss: 1.8788 - val_accuracy: 0.3677 - 3s/epoch - 77ms/step\n",
      "Epoch 11/50\n",
      "\n",
      "Epoch 11: saving model to cloud_model.h5\n",
      "38/38 - 3s - loss: 1.7397 - accuracy: 0.3956 - val_loss: 1.8775 - val_accuracy: 0.3613 - 3s/epoch - 76ms/step\n",
      "Epoch 12/50\n",
      "\n",
      "Epoch 12: saving model to cloud_model.h5\n",
      "38/38 - 3s - loss: 1.7137 - accuracy: 0.4085 - val_loss: 1.8402 - val_accuracy: 0.3699 - 3s/epoch - 76ms/step\n",
      "Epoch 13/50\n",
      "\n",
      "Epoch 13: saving model to cloud_model.h5\n",
      "38/38 - 3s - loss: 1.6435 - accuracy: 0.4187 - val_loss: 1.8377 - val_accuracy: 0.3763 - 3s/epoch - 76ms/step\n",
      "Epoch 14/50\n",
      "\n",
      "Epoch 14: saving model to cloud_model.h5\n",
      "38/38 - 3s - loss: 1.5946 - accuracy: 0.4327 - val_loss: 1.8066 - val_accuracy: 0.3806 - 3s/epoch - 75ms/step\n",
      "Epoch 15/50\n",
      "\n",
      "Epoch 15: saving model to cloud_model.h5\n",
      "38/38 - 3s - loss: 1.5061 - accuracy: 0.4892 - val_loss: 1.8226 - val_accuracy: 0.3763 - 3s/epoch - 76ms/step\n",
      "Epoch 16/50\n",
      "\n",
      "Epoch 16: saving model to cloud_model.h5\n",
      "38/38 - 3s - loss: 1.4042 - accuracy: 0.5140 - val_loss: 1.8509 - val_accuracy: 0.3785 - 3s/epoch - 75ms/step\n",
      "Epoch 17/50\n",
      "\n",
      "Epoch 17: saving model to cloud_model.h5\n",
      "38/38 - 3s - loss: 1.3336 - accuracy: 0.5323 - val_loss: 1.8868 - val_accuracy: 0.3849 - 3s/epoch - 77ms/step\n",
      "Epoch 18/50\n",
      "\n",
      "Epoch 18: saving model to cloud_model.h5\n",
      "38/38 - 3s - loss: 1.3230 - accuracy: 0.5269 - val_loss: 1.8998 - val_accuracy: 0.3570 - 3s/epoch - 79ms/step\n",
      "Epoch 19/50\n",
      "\n",
      "Epoch 19: saving model to cloud_model.h5\n",
      "38/38 - 3s - loss: 1.1870 - accuracy: 0.5840 - val_loss: 1.9003 - val_accuracy: 0.3591 - 3s/epoch - 79ms/step\n",
      "Epoch 20/50\n",
      "\n",
      "Epoch 20: saving model to cloud_model.h5\n",
      "38/38 - 3s - loss: 1.1833 - accuracy: 0.6001 - val_loss: 1.8727 - val_accuracy: 0.3656 - 3s/epoch - 79ms/step\n",
      "Epoch 21/50\n",
      "\n",
      "Epoch 21: saving model to cloud_model.h5\n",
      "38/38 - 3s - loss: 1.1450 - accuracy: 0.5953 - val_loss: 1.9952 - val_accuracy: 0.3355 - 3s/epoch - 78ms/step\n",
      "Epoch 22/50\n",
      "\n",
      "Epoch 22: saving model to cloud_model.h5\n",
      "38/38 - 3s - loss: 1.0644 - accuracy: 0.6346 - val_loss: 1.9458 - val_accuracy: 0.3763 - 3s/epoch - 75ms/step\n",
      "Epoch 23/50\n",
      "\n",
      "Epoch 23: saving model to cloud_model.h5\n",
      "38/38 - 3s - loss: 0.9895 - accuracy: 0.6625 - val_loss: 1.9848 - val_accuracy: 0.3634 - 3s/epoch - 75ms/step\n",
      "Epoch 24/50\n",
      "\n",
      "Epoch 24: saving model to cloud_model.h5\n",
      "38/38 - 3s - loss: 0.9643 - accuracy: 0.6814 - val_loss: 2.0199 - val_accuracy: 0.3806 - 3s/epoch - 81ms/step\n",
      "Epoch 25/50\n",
      "\n",
      "Epoch 25: saving model to cloud_model.h5\n",
      "38/38 - 3s - loss: 0.9153 - accuracy: 0.6868 - val_loss: 1.9856 - val_accuracy: 0.3785 - 3s/epoch - 76ms/step\n",
      "Epoch 26/50\n",
      "\n",
      "Epoch 26: saving model to cloud_model.h5\n",
      "38/38 - 3s - loss: 0.8464 - accuracy: 0.7083 - val_loss: 2.2352 - val_accuracy: 0.3441 - 3s/epoch - 76ms/step\n",
      "Epoch 27/50\n",
      "\n",
      "Epoch 27: saving model to cloud_model.h5\n",
      "38/38 - 3s - loss: 0.7867 - accuracy: 0.7196 - val_loss: 2.2355 - val_accuracy: 0.3419 - 3s/epoch - 75ms/step\n",
      "Epoch 28/50\n",
      "\n",
      "Epoch 28: saving model to cloud_model.h5\n",
      "38/38 - 3s - loss: 0.7792 - accuracy: 0.7336 - val_loss: 2.1616 - val_accuracy: 0.3849 - 3s/epoch - 75ms/step\n",
      "Epoch 29/50\n",
      "\n",
      "Epoch 29: saving model to cloud_model.h5\n",
      "38/38 - 3s - loss: 0.6847 - accuracy: 0.7659 - val_loss: 2.2845 - val_accuracy: 0.3677 - 3s/epoch - 76ms/step\n",
      "Epoch 30/50\n",
      "\n",
      "Epoch 30: saving model to cloud_model.h5\n",
      "38/38 - 3s - loss: 0.6667 - accuracy: 0.7820 - val_loss: 2.3286 - val_accuracy: 0.3591 - 3s/epoch - 76ms/step\n",
      "Epoch 31/50\n",
      "\n",
      "Epoch 31: saving model to cloud_model.h5\n",
      "38/38 - 3s - loss: 0.6309 - accuracy: 0.7922 - val_loss: 2.3561 - val_accuracy: 0.3656 - 3s/epoch - 76ms/step\n",
      "Epoch 32/50\n",
      "\n",
      "Epoch 32: saving model to cloud_model.h5\n",
      "38/38 - 3s - loss: 0.6060 - accuracy: 0.7874 - val_loss: 2.4615 - val_accuracy: 0.3591 - 3s/epoch - 75ms/step\n",
      "Epoch 33/50\n",
      "\n",
      "Epoch 33: saving model to cloud_model.h5\n",
      "38/38 - 3s - loss: 0.5964 - accuracy: 0.7933 - val_loss: 2.4514 - val_accuracy: 0.3484 - 3s/epoch - 76ms/step\n",
      "Epoch 34/50\n",
      "\n",
      "Epoch 34: saving model to cloud_model.h5\n",
      "38/38 - 3s - loss: 0.5698 - accuracy: 0.8105 - val_loss: 2.5247 - val_accuracy: 0.3484 - 3s/epoch - 75ms/step\n",
      "Epoch 35/50\n",
      "\n",
      "Epoch 35: saving model to cloud_model.h5\n",
      "38/38 - 3s - loss: 0.5743 - accuracy: 0.8105 - val_loss: 2.5667 - val_accuracy: 0.3634 - 3s/epoch - 76ms/step\n",
      "Epoch 36/50\n",
      "\n",
      "Epoch 36: saving model to cloud_model.h5\n",
      "38/38 - 3s - loss: 0.5334 - accuracy: 0.8294 - val_loss: 2.5528 - val_accuracy: 0.3591 - 3s/epoch - 76ms/step\n",
      "Epoch 37/50\n",
      "\n",
      "Epoch 37: saving model to cloud_model.h5\n",
      "38/38 - 3s - loss: 0.4938 - accuracy: 0.8267 - val_loss: 2.4798 - val_accuracy: 0.3656 - 3s/epoch - 76ms/step\n",
      "Epoch 38/50\n",
      "\n",
      "Epoch 38: saving model to cloud_model.h5\n",
      "38/38 - 3s - loss: 0.4673 - accuracy: 0.8482 - val_loss: 2.5996 - val_accuracy: 0.3634 - 3s/epoch - 76ms/step\n",
      "Epoch 39/50\n",
      "\n",
      "Epoch 39: saving model to cloud_model.h5\n",
      "38/38 - 3s - loss: 0.4829 - accuracy: 0.8380 - val_loss: 2.6256 - val_accuracy: 0.3634 - 3s/epoch - 76ms/step\n",
      "Epoch 40/50\n",
      "\n",
      "Epoch 40: saving model to cloud_model.h5\n",
      "38/38 - 3s - loss: 0.4564 - accuracy: 0.8498 - val_loss: 2.7189 - val_accuracy: 0.3677 - 3s/epoch - 78ms/step\n",
      "Epoch 41/50\n",
      "\n",
      "Epoch 41: saving model to cloud_model.h5\n",
      "38/38 - 3s - loss: 0.4302 - accuracy: 0.8617 - val_loss: 2.8363 - val_accuracy: 0.3591 - 3s/epoch - 79ms/step\n",
      "Epoch 42/50\n",
      "\n",
      "Epoch 42: saving model to cloud_model.h5\n",
      "38/38 - 3s - loss: 0.4862 - accuracy: 0.8262 - val_loss: 2.9546 - val_accuracy: 0.3677 - 3s/epoch - 81ms/step\n",
      "Epoch 43/50\n",
      "\n",
      "Epoch 43: saving model to cloud_model.h5\n",
      "38/38 - 3s - loss: 0.4443 - accuracy: 0.8644 - val_loss: 2.8347 - val_accuracy: 0.3591 - 3s/epoch - 76ms/step\n",
      "Epoch 44/50\n",
      "\n",
      "Epoch 44: saving model to cloud_model.h5\n",
      "38/38 - 3s - loss: 0.4122 - accuracy: 0.8746 - val_loss: 2.7039 - val_accuracy: 0.3763 - 3s/epoch - 76ms/step\n",
      "Epoch 45/50\n",
      "\n",
      "Epoch 45: saving model to cloud_model.h5\n",
      "38/38 - 3s - loss: 0.3576 - accuracy: 0.8805 - val_loss: 2.8454 - val_accuracy: 0.3634 - 3s/epoch - 76ms/step\n",
      "Epoch 46/50\n",
      "\n",
      "Epoch 46: saving model to cloud_model.h5\n",
      "38/38 - 3s - loss: 0.3464 - accuracy: 0.8757 - val_loss: 2.9609 - val_accuracy: 0.3613 - 3s/epoch - 75ms/step\n",
      "Epoch 47/50\n",
      "\n",
      "Epoch 47: saving model to cloud_model.h5\n",
      "38/38 - 3s - loss: 0.3649 - accuracy: 0.8724 - val_loss: 2.9589 - val_accuracy: 0.3591 - 3s/epoch - 75ms/step\n",
      "Epoch 48/50\n",
      "\n",
      "Epoch 48: saving model to cloud_model.h5\n",
      "38/38 - 3s - loss: 0.3225 - accuracy: 0.8907 - val_loss: 3.0054 - val_accuracy: 0.3613 - 3s/epoch - 76ms/step\n",
      "Epoch 49/50\n",
      "\n",
      "Epoch 49: saving model to cloud_model.h5\n",
      "38/38 - 3s - loss: 0.3394 - accuracy: 0.8816 - val_loss: 3.0608 - val_accuracy: 0.3441 - 3s/epoch - 76ms/step\n",
      "Epoch 50/50\n",
      "\n",
      "Epoch 50: saving model to cloud_model.h5\n",
      "38/38 - 3s - loss: 0.3551 - accuracy: 0.8837 - val_loss: 3.1660 - val_accuracy: 0.3570 - 3s/epoch - 76ms/step\n"
     ]
    }
   ],
   "source": [
    "cnn_history = model.fit( X_train, \n",
    "                       y_train,                \n",
    "                       batch_size=50,\n",
    "                       epochs=50,\n",
    "                       validation_data = (X_test, y_test),\n",
    "                       callbacks = cp,\n",
    "                       verbose=2\n",
    "                       )"
   ]
  },
  {
   "cell_type": "code",
   "execution_count": 18,
   "id": "d49e48e4",
   "metadata": {},
   "outputs": [
    {
     "name": "stdout",
     "output_type": "stream",
     "text": [
      "15/15 [==============================] - 0s 9ms/step - loss: 3.1660 - accuracy: 0.3570\n"
     ]
    },
    {
     "data": {
      "text/plain": [
       "[3.1659557819366455, 0.3569892346858978]"
      ]
     },
     "execution_count": 18,
     "metadata": {},
     "output_type": "execute_result"
    }
   ],
   "source": [
    "test_result = model.evaluate(X_test, y_test)\n",
    "test_result"
   ]
  },
  {
   "cell_type": "code",
   "execution_count": 19,
   "id": "18a36928",
   "metadata": {},
   "outputs": [
    {
     "data": {
      "text/plain": [
       "<matplotlib.legend.Legend at 0x1a8dcf919e8>"
      ]
     },
     "execution_count": 19,
     "metadata": {},
     "output_type": "execute_result"
    },
    {
     "data": {
      "image/png": "[encoded data removed]",
      "text/plain": [
       "<Figure size 864x288 with 2 Axes>"
      ]
     },
     "metadata": {
      "needs_background": "light"
     },
     "output_type": "display_data"
    }
   ],
   "source": [
    "plt.figure(figsize=(12, 4))\n",
    "\n",
    "plt.subplot(1, 2, 1) ## 1행2열의 도표, 1열\n",
    "plt.plot(cnn_history.history['accuracy'])\n",
    "plt.plot(cnn_history.history['val_accuracy'])\n",
    "plt.title('model acc')\n",
    "plt.xlabel('epoch')\n",
    "plt.ylabel('acc')\n",
    "plt.legend(['train_acc','test_acc'])\n",
    "\n",
    "plt.subplot(1, 2, 2) ## 1행2열의 도표, 2열\n",
    "plt.plot(cnn_history.history['loss'])\n",
    "plt.plot(cnn_history.history['val_loss'])\n",
    "plt.title('model loss')\n",
    "plt.xlabel('epoch')\n",
    "plt.ylabel('loss')\n",
    "plt.legend(['train_loss','test_loss'])"
   ]
  },
  {
   "cell_type": "code",
   "execution_count": 20,
   "id": "de488bd4",
   "metadata": {},
   "outputs": [],
   "source": [
    "from IPython.display import SVG\n",
    "from keras.utils.vis_utils import model_to_dot"
   ]
  },
  {
   "cell_type": "code",
   "execution_count": 21,
   "id": "d3947a83",
   "metadata": {},
   "outputs": [
    {
     "data": {
      "image/svg+xml": [
       "<svg height=\"799pt\" viewBox=\"0.00 0.00 420.00 885.00\" width=\"379pt\" xmlns=\"http://www.w3.org/2000/svg\" xmlns:xlink=\"http://www.w3.org/1999/xlink\">\n",
       "<g class=\"graph\" id=\"graph0\" transform=\"scale(0.902778 0.902778) rotate(0) translate(4 881)\">\n",
       "<title>G</title>\n",
       "<polygon fill=\"white\" points=\"-4,4 -4,-881 416,-881 416,4 -4,4\" stroke=\"none\"/>\n",
       "<!-- 1823921065656 -->\n",
       "<g class=\"node\" id=\"node1\"><title>1823921065656</title>\n",
       "<polygon fill=\"none\" points=\"10,-830.5 10,-876.5 402,-876.5 402,-830.5 10,-830.5\" stroke=\"black\"/>\n",
       "<text font-family=\"Times New Roman,serif\" font-size=\"14.00\" text-anchor=\"middle\" x=\"57\" y=\"-861.3\">conv2d_input</text>\n",
       "<polyline fill=\"none\" points=\"10,-853.5 104,-853.5 \" stroke=\"black\"/>\n",
       "<text font-family=\"Times New Roman,serif\" font-size=\"14.00\" text-anchor=\"middle\" x=\"57\" y=\"-838.3\">InputLayer</text>\n",
       "<polyline fill=\"none\" points=\"104,-830.5 104,-876.5 \" stroke=\"black\"/>\n",
       "<text font-family=\"Times New Roman,serif\" font-size=\"14.00\" text-anchor=\"middle\" x=\"132\" y=\"-861.3\">input:</text>\n",
       "<polyline fill=\"none\" points=\"104,-853.5 160,-853.5 \" stroke=\"black\"/>\n",
       "<text font-family=\"Times New Roman,serif\" font-size=\"14.00\" text-anchor=\"middle\" x=\"132\" y=\"-838.3\">output:</text>\n",
       "<polyline fill=\"none\" points=\"160,-830.5 160,-876.5 \" stroke=\"black\"/>\n",
       "<text font-family=\"Times New Roman,serif\" font-size=\"14.00\" text-anchor=\"middle\" x=\"220.5\" y=\"-849.8\">[(None, 64, 64, 3)]</text>\n",
       "<polyline fill=\"none\" points=\"281,-830.5 281,-876.5 \" stroke=\"black\"/>\n",
       "<text font-family=\"Times New Roman,serif\" font-size=\"14.00\" text-anchor=\"middle\" x=\"341.5\" y=\"-849.8\">[(None, 64, 64, 3)]</text>\n",
       "</g>\n",
       "<!-- 1823920845264 -->\n",
       "<g class=\"node\" id=\"node2\"><title>1823920845264</title>\n",
       "<polygon fill=\"none\" points=\"30.5,-747.5 30.5,-793.5 381.5,-793.5 381.5,-747.5 30.5,-747.5\" stroke=\"black\"/>\n",
       "<text font-family=\"Times New Roman,serif\" font-size=\"14.00\" text-anchor=\"middle\" x=\"62.5\" y=\"-778.3\">conv2d</text>\n",
       "<polyline fill=\"none\" points=\"30.5,-770.5 94.5,-770.5 \" stroke=\"black\"/>\n",
       "<text font-family=\"Times New Roman,serif\" font-size=\"14.00\" text-anchor=\"middle\" x=\"62.5\" y=\"-755.3\">Conv2D</text>\n",
       "<polyline fill=\"none\" points=\"94.5,-747.5 94.5,-793.5 \" stroke=\"black\"/>\n",
       "<text font-family=\"Times New Roman,serif\" font-size=\"14.00\" text-anchor=\"middle\" x=\"122.5\" y=\"-778.3\">input:</text>\n",
       "<polyline fill=\"none\" points=\"94.5,-770.5 150.5,-770.5 \" stroke=\"black\"/>\n",
       "<text font-family=\"Times New Roman,serif\" font-size=\"14.00\" text-anchor=\"middle\" x=\"122.5\" y=\"-755.3\">output:</text>\n",
       "<polyline fill=\"none\" points=\"150.5,-747.5 150.5,-793.5 \" stroke=\"black\"/>\n",
       "<text font-family=\"Times New Roman,serif\" font-size=\"14.00\" text-anchor=\"middle\" x=\"206.5\" y=\"-766.8\">(None, 64, 64, 3)</text>\n",
       "<polyline fill=\"none\" points=\"262.5,-747.5 262.5,-793.5 \" stroke=\"black\"/>\n",
       "<text font-family=\"Times New Roman,serif\" font-size=\"14.00\" text-anchor=\"middle\" x=\"322\" y=\"-766.8\">(None, 64, 64, 32)</text>\n",
       "</g>\n",
       "<!-- 1823921065656&#45;&gt;1823920845264 -->\n",
       "<g class=\"edge\" id=\"edge1\"><title>1823921065656-&gt;1823920845264</title>\n",
       "<path d=\"M206,-830.366C206,-822.152 206,-812.658 206,-803.725\" fill=\"none\" stroke=\"black\"/>\n",
       "<polygon fill=\"black\" points=\"209.5,-803.607 206,-793.607 202.5,-803.607 209.5,-803.607\" stroke=\"black\"/>\n",
       "</g>\n",
       "<!-- 1823921064256 -->\n",
       "<g class=\"node\" id=\"node3\"><title>1823921064256</title>\n",
       "<polygon fill=\"none\" points=\"7,-664.5 7,-710.5 405,-710.5 405,-664.5 7,-664.5\" stroke=\"black\"/>\n",
       "<text font-family=\"Times New Roman,serif\" font-size=\"14.00\" text-anchor=\"middle\" x=\"59\" y=\"-695.3\">max_pooling2d</text>\n",
       "<polyline fill=\"none\" points=\"7,-687.5 111,-687.5 \" stroke=\"black\"/>\n",
       "<text font-family=\"Times New Roman,serif\" font-size=\"14.00\" text-anchor=\"middle\" x=\"59\" y=\"-672.3\">MaxPooling2D</text>\n",
       "<polyline fill=\"none\" points=\"111,-664.5 111,-710.5 \" stroke=\"black\"/>\n",
       "<text font-family=\"Times New Roman,serif\" font-size=\"14.00\" text-anchor=\"middle\" x=\"139\" y=\"-695.3\">input:</text>\n",
       "<polyline fill=\"none\" points=\"111,-687.5 167,-687.5 \" stroke=\"black\"/>\n",
       "<text font-family=\"Times New Roman,serif\" font-size=\"14.00\" text-anchor=\"middle\" x=\"139\" y=\"-672.3\">output:</text>\n",
       "<polyline fill=\"none\" points=\"167,-664.5 167,-710.5 \" stroke=\"black\"/>\n",
       "<text font-family=\"Times New Roman,serif\" font-size=\"14.00\" text-anchor=\"middle\" x=\"226.5\" y=\"-683.8\">(None, 64, 64, 32)</text>\n",
       "<polyline fill=\"none\" points=\"286,-664.5 286,-710.5 \" stroke=\"black\"/>\n",
       "<text font-family=\"Times New Roman,serif\" font-size=\"14.00\" text-anchor=\"middle\" x=\"345.5\" y=\"-683.8\">(None, 32, 32, 32)</text>\n",
       "</g>\n",
       "<!-- 1823920845264&#45;&gt;1823921064256 -->\n",
       "<g class=\"edge\" id=\"edge2\"><title>1823920845264-&gt;1823921064256</title>\n",
       "<path d=\"M206,-747.366C206,-739.152 206,-729.658 206,-720.725\" fill=\"none\" stroke=\"black\"/>\n",
       "<polygon fill=\"black\" points=\"209.5,-720.607 206,-710.607 202.5,-720.607 209.5,-720.607\" stroke=\"black\"/>\n",
       "</g>\n",
       "<!-- 1824378702032 -->\n",
       "<g class=\"node\" id=\"node4\"><title>1824378702032</title>\n",
       "<polygon fill=\"none\" points=\"27,-581.5 27,-627.5 385,-627.5 385,-581.5 27,-581.5\" stroke=\"black\"/>\n",
       "<text font-family=\"Times New Roman,serif\" font-size=\"14.00\" text-anchor=\"middle\" x=\"59\" y=\"-612.3\">dropout</text>\n",
       "<polyline fill=\"none\" points=\"27,-604.5 91,-604.5 \" stroke=\"black\"/>\n",
       "<text font-family=\"Times New Roman,serif\" font-size=\"14.00\" text-anchor=\"middle\" x=\"59\" y=\"-589.3\">Dropout</text>\n",
       "<polyline fill=\"none\" points=\"91,-581.5 91,-627.5 \" stroke=\"black\"/>\n",
       "<text font-family=\"Times New Roman,serif\" font-size=\"14.00\" text-anchor=\"middle\" x=\"119\" y=\"-612.3\">input:</text>\n",
       "<polyline fill=\"none\" points=\"91,-604.5 147,-604.5 \" stroke=\"black\"/>\n",
       "<text font-family=\"Times New Roman,serif\" font-size=\"14.00\" text-anchor=\"middle\" x=\"119\" y=\"-589.3\">output:</text>\n",
       "<polyline fill=\"none\" points=\"147,-581.5 147,-627.5 \" stroke=\"black\"/>\n",
       "<text font-family=\"Times New Roman,serif\" font-size=\"14.00\" text-anchor=\"middle\" x=\"206.5\" y=\"-600.8\">(None, 32, 32, 32)</text>\n",
       "<polyline fill=\"none\" points=\"266,-581.5 266,-627.5 \" stroke=\"black\"/>\n",
       "<text font-family=\"Times New Roman,serif\" font-size=\"14.00\" text-anchor=\"middle\" x=\"325.5\" y=\"-600.8\">(None, 32, 32, 32)</text>\n",
       "</g>\n",
       "<!-- 1823921064256&#45;&gt;1824378702032 -->\n",
       "<g class=\"edge\" id=\"edge3\"><title>1823921064256-&gt;1824378702032</title>\n",
       "<path d=\"M206,-664.366C206,-656.152 206,-646.658 206,-637.725\" fill=\"none\" stroke=\"black\"/>\n",
       "<polygon fill=\"black\" points=\"209.5,-637.607 206,-627.607 202.5,-637.607 209.5,-637.607\" stroke=\"black\"/>\n",
       "</g>\n",
       "<!-- 1824379051088 -->\n",
       "<g class=\"node\" id=\"node5\"><title>1824379051088</title>\n",
       "<polygon fill=\"none\" points=\"22.5,-498.5 22.5,-544.5 389.5,-544.5 389.5,-498.5 22.5,-498.5\" stroke=\"black\"/>\n",
       "<text font-family=\"Times New Roman,serif\" font-size=\"14.00\" text-anchor=\"middle\" x=\"59\" y=\"-529.3\">conv2d_1</text>\n",
       "<polyline fill=\"none\" points=\"22.5,-521.5 95.5,-521.5 \" stroke=\"black\"/>\n",
       "<text font-family=\"Times New Roman,serif\" font-size=\"14.00\" text-anchor=\"middle\" x=\"59\" y=\"-506.3\">Conv2D</text>\n",
       "<polyline fill=\"none\" points=\"95.5,-498.5 95.5,-544.5 \" stroke=\"black\"/>\n",
       "<text font-family=\"Times New Roman,serif\" font-size=\"14.00\" text-anchor=\"middle\" x=\"123.5\" y=\"-529.3\">input:</text>\n",
       "<polyline fill=\"none\" points=\"95.5,-521.5 151.5,-521.5 \" stroke=\"black\"/>\n",
       "<text font-family=\"Times New Roman,serif\" font-size=\"14.00\" text-anchor=\"middle\" x=\"123.5\" y=\"-506.3\">output:</text>\n",
       "<polyline fill=\"none\" points=\"151.5,-498.5 151.5,-544.5 \" stroke=\"black\"/>\n",
       "<text font-family=\"Times New Roman,serif\" font-size=\"14.00\" text-anchor=\"middle\" x=\"211\" y=\"-517.8\">(None, 32, 32, 32)</text>\n",
       "<polyline fill=\"none\" points=\"270.5,-498.5 270.5,-544.5 \" stroke=\"black\"/>\n",
       "<text font-family=\"Times New Roman,serif\" font-size=\"14.00\" text-anchor=\"middle\" x=\"330\" y=\"-517.8\">(None, 32, 32, 64)</text>\n",
       "</g>\n",
       "<!-- 1824378702032&#45;&gt;1824379051088 -->\n",
       "<g class=\"edge\" id=\"edge4\"><title>1824378702032-&gt;1824379051088</title>\n",
       "<path d=\"M206,-581.366C206,-573.152 206,-563.658 206,-554.725\" fill=\"none\" stroke=\"black\"/>\n",
       "<polygon fill=\"black\" points=\"209.5,-554.607 206,-544.607 202.5,-554.607 209.5,-554.607\" stroke=\"black\"/>\n",
       "</g>\n",
       "<!-- 1824379201968 -->\n",
       "<g class=\"node\" id=\"node6\"><title>1824379201968</title>\n",
       "<polygon fill=\"none\" points=\"0,-415.5 0,-461.5 412,-461.5 412,-415.5 0,-415.5\" stroke=\"black\"/>\n",
       "<text font-family=\"Times New Roman,serif\" font-size=\"14.00\" text-anchor=\"middle\" x=\"59\" y=\"-446.3\">max_pooling2d_1</text>\n",
       "<polyline fill=\"none\" points=\"0,-438.5 118,-438.5 \" stroke=\"black\"/>\n",
       "<text font-family=\"Times New Roman,serif\" font-size=\"14.00\" text-anchor=\"middle\" x=\"59\" y=\"-423.3\">MaxPooling2D</text>\n",
       "<polyline fill=\"none\" points=\"118,-415.5 118,-461.5 \" stroke=\"black\"/>\n",
       "<text font-family=\"Times New Roman,serif\" font-size=\"14.00\" text-anchor=\"middle\" x=\"146\" y=\"-446.3\">input:</text>\n",
       "<polyline fill=\"none\" points=\"118,-438.5 174,-438.5 \" stroke=\"black\"/>\n",
       "<text font-family=\"Times New Roman,serif\" font-size=\"14.00\" text-anchor=\"middle\" x=\"146\" y=\"-423.3\">output:</text>\n",
       "<polyline fill=\"none\" points=\"174,-415.5 174,-461.5 \" stroke=\"black\"/>\n",
       "<text font-family=\"Times New Roman,serif\" font-size=\"14.00\" text-anchor=\"middle\" x=\"233.5\" y=\"-434.8\">(None, 32, 32, 64)</text>\n",
       "<polyline fill=\"none\" points=\"293,-415.5 293,-461.5 \" stroke=\"black\"/>\n",
       "<text font-family=\"Times New Roman,serif\" font-size=\"14.00\" text-anchor=\"middle\" x=\"352.5\" y=\"-434.8\">(None, 16, 16, 64)</text>\n",
       "</g>\n",
       "<!-- 1824379051088&#45;&gt;1824379201968 -->\n",
       "<g class=\"edge\" id=\"edge5\"><title>1824379051088-&gt;1824379201968</title>\n",
       "<path d=\"M206,-498.366C206,-490.152 206,-480.658 206,-471.725\" fill=\"none\" stroke=\"black\"/>\n",
       "<polygon fill=\"black\" points=\"209.5,-471.607 206,-461.607 202.5,-471.607 209.5,-471.607\" stroke=\"black\"/>\n",
       "</g>\n",
       "<!-- 1824379273960 -->\n",
       "<g class=\"node\" id=\"node7\"><title>1824379273960</title>\n",
       "<polygon fill=\"none\" points=\"21,-332.5 21,-378.5 391,-378.5 391,-332.5 21,-332.5\" stroke=\"black\"/>\n",
       "<text font-family=\"Times New Roman,serif\" font-size=\"14.00\" text-anchor=\"middle\" x=\"59\" y=\"-363.3\">dropout_1</text>\n",
       "<polyline fill=\"none\" points=\"21,-355.5 97,-355.5 \" stroke=\"black\"/>\n",
       "<text font-family=\"Times New Roman,serif\" font-size=\"14.00\" text-anchor=\"middle\" x=\"59\" y=\"-340.3\">Dropout</text>\n",
       "<polyline fill=\"none\" points=\"97,-332.5 97,-378.5 \" stroke=\"black\"/>\n",
       "<text font-family=\"Times New Roman,serif\" font-size=\"14.00\" text-anchor=\"middle\" x=\"125\" y=\"-363.3\">input:</text>\n",
       "<polyline fill=\"none\" points=\"97,-355.5 153,-355.5 \" stroke=\"black\"/>\n",
       "<text font-family=\"Times New Roman,serif\" font-size=\"14.00\" text-anchor=\"middle\" x=\"125\" y=\"-340.3\">output:</text>\n",
       "<polyline fill=\"none\" points=\"153,-332.5 153,-378.5 \" stroke=\"black\"/>\n",
       "<text font-family=\"Times New Roman,serif\" font-size=\"14.00\" text-anchor=\"middle\" x=\"212.5\" y=\"-351.8\">(None, 16, 16, 64)</text>\n",
       "<polyline fill=\"none\" points=\"272,-332.5 272,-378.5 \" stroke=\"black\"/>\n",
       "<text font-family=\"Times New Roman,serif\" font-size=\"14.00\" text-anchor=\"middle\" x=\"331.5\" y=\"-351.8\">(None, 16, 16, 64)</text>\n",
       "</g>\n",
       "<!-- 1824379201968&#45;&gt;1824379273960 -->\n",
       "<g class=\"edge\" id=\"edge6\"><title>1824379201968-&gt;1824379273960</title>\n",
       "<path d=\"M206,-415.366C206,-407.152 206,-397.658 206,-388.725\" fill=\"none\" stroke=\"black\"/>\n",
       "<polygon fill=\"black\" points=\"209.5,-388.607 206,-378.607 202.5,-388.607 209.5,-388.607\" stroke=\"black\"/>\n",
       "</g>\n",
       "<!-- 1824379275528 -->\n",
       "<g class=\"node\" id=\"node8\"><title>1824379275528</title>\n",
       "<polygon fill=\"none\" points=\"43,-249.5 43,-295.5 369,-295.5 369,-249.5 43,-249.5\" stroke=\"black\"/>\n",
       "<text font-family=\"Times New Roman,serif\" font-size=\"14.00\" text-anchor=\"middle\" x=\"70\" y=\"-280.3\">flatten</text>\n",
       "<polyline fill=\"none\" points=\"43,-272.5 97,-272.5 \" stroke=\"black\"/>\n",
       "<text font-family=\"Times New Roman,serif\" font-size=\"14.00\" text-anchor=\"middle\" x=\"70\" y=\"-257.3\">Flatten</text>\n",
       "<polyline fill=\"none\" points=\"97,-249.5 97,-295.5 \" stroke=\"black\"/>\n",
       "<text font-family=\"Times New Roman,serif\" font-size=\"14.00\" text-anchor=\"middle\" x=\"125\" y=\"-280.3\">input:</text>\n",
       "<polyline fill=\"none\" points=\"97,-272.5 153,-272.5 \" stroke=\"black\"/>\n",
       "<text font-family=\"Times New Roman,serif\" font-size=\"14.00\" text-anchor=\"middle\" x=\"125\" y=\"-257.3\">output:</text>\n",
       "<polyline fill=\"none\" points=\"153,-249.5 153,-295.5 \" stroke=\"black\"/>\n",
       "<text font-family=\"Times New Roman,serif\" font-size=\"14.00\" text-anchor=\"middle\" x=\"212.5\" y=\"-268.8\">(None, 16, 16, 64)</text>\n",
       "<polyline fill=\"none\" points=\"272,-249.5 272,-295.5 \" stroke=\"black\"/>\n",
       "<text font-family=\"Times New Roman,serif\" font-size=\"14.00\" text-anchor=\"middle\" x=\"320.5\" y=\"-268.8\">(None, 16384)</text>\n",
       "</g>\n",
       "<!-- 1824379273960&#45;&gt;1824379275528 -->\n",
       "<g class=\"edge\" id=\"edge7\"><title>1824379273960-&gt;1824379275528</title>\n",
       "<path d=\"M206,-332.366C206,-324.152 206,-314.658 206,-305.725\" fill=\"none\" stroke=\"black\"/>\n",
       "<polygon fill=\"black\" points=\"209.5,-305.607 206,-295.607 202.5,-305.607 209.5,-305.607\" stroke=\"black\"/>\n",
       "</g>\n",
       "<!-- 1824379199728 -->\n",
       "<g class=\"node\" id=\"node9\"><title>1824379199728</title>\n",
       "<polygon fill=\"none\" points=\"62.5,-166.5 62.5,-212.5 349.5,-212.5 349.5,-166.5 62.5,-166.5\" stroke=\"black\"/>\n",
       "<text font-family=\"Times New Roman,serif\" font-size=\"14.00\" text-anchor=\"middle\" x=\"88\" y=\"-197.3\">dense</text>\n",
       "<polyline fill=\"none\" points=\"62.5,-189.5 113.5,-189.5 \" stroke=\"black\"/>\n",
       "<text font-family=\"Times New Roman,serif\" font-size=\"14.00\" text-anchor=\"middle\" x=\"88\" y=\"-174.3\">Dense</text>\n",
       "<polyline fill=\"none\" points=\"113.5,-166.5 113.5,-212.5 \" stroke=\"black\"/>\n",
       "<text font-family=\"Times New Roman,serif\" font-size=\"14.00\" text-anchor=\"middle\" x=\"141.5\" y=\"-197.3\">input:</text>\n",
       "<polyline fill=\"none\" points=\"113.5,-189.5 169.5,-189.5 \" stroke=\"black\"/>\n",
       "<text font-family=\"Times New Roman,serif\" font-size=\"14.00\" text-anchor=\"middle\" x=\"141.5\" y=\"-174.3\">output:</text>\n",
       "<polyline fill=\"none\" points=\"169.5,-166.5 169.5,-212.5 \" stroke=\"black\"/>\n",
       "<text font-family=\"Times New Roman,serif\" font-size=\"14.00\" text-anchor=\"middle\" x=\"218\" y=\"-185.8\">(None, 16384)</text>\n",
       "<polyline fill=\"none\" points=\"266.5,-166.5 266.5,-212.5 \" stroke=\"black\"/>\n",
       "<text font-family=\"Times New Roman,serif\" font-size=\"14.00\" text-anchor=\"middle\" x=\"308\" y=\"-185.8\">(None, 256)</text>\n",
       "</g>\n",
       "<!-- 1824379275528&#45;&gt;1824379199728 -->\n",
       "<g class=\"edge\" id=\"edge8\"><title>1824379275528-&gt;1824379199728</title>\n",
       "<path d=\"M206,-249.366C206,-241.152 206,-231.658 206,-222.725\" fill=\"none\" stroke=\"black\"/>\n",
       "<polygon fill=\"black\" points=\"209.5,-222.607 206,-212.607 202.5,-222.607 209.5,-222.607\" stroke=\"black\"/>\n",
       "</g>\n",
       "<!-- 1824379201800 -->\n",
       "<g class=\"node\" id=\"node10\"><title>1824379201800</title>\n",
       "<polygon fill=\"none\" points=\"57,-83.5 57,-129.5 355,-129.5 355,-83.5 57,-83.5\" stroke=\"black\"/>\n",
       "<text font-family=\"Times New Roman,serif\" font-size=\"14.00\" text-anchor=\"middle\" x=\"95\" y=\"-114.3\">dropout_2</text>\n",
       "<polyline fill=\"none\" points=\"57,-106.5 133,-106.5 \" stroke=\"black\"/>\n",
       "<text font-family=\"Times New Roman,serif\" font-size=\"14.00\" text-anchor=\"middle\" x=\"95\" y=\"-91.3\">Dropout</text>\n",
       "<polyline fill=\"none\" points=\"133,-83.5 133,-129.5 \" stroke=\"black\"/>\n",
       "<text font-family=\"Times New Roman,serif\" font-size=\"14.00\" text-anchor=\"middle\" x=\"161\" y=\"-114.3\">input:</text>\n",
       "<polyline fill=\"none\" points=\"133,-106.5 189,-106.5 \" stroke=\"black\"/>\n",
       "<text font-family=\"Times New Roman,serif\" font-size=\"14.00\" text-anchor=\"middle\" x=\"161\" y=\"-91.3\">output:</text>\n",
       "<polyline fill=\"none\" points=\"189,-83.5 189,-129.5 \" stroke=\"black\"/>\n",
       "<text font-family=\"Times New Roman,serif\" font-size=\"14.00\" text-anchor=\"middle\" x=\"230.5\" y=\"-102.8\">(None, 256)</text>\n",
       "<polyline fill=\"none\" points=\"272,-83.5 272,-129.5 \" stroke=\"black\"/>\n",
       "<text font-family=\"Times New Roman,serif\" font-size=\"14.00\" text-anchor=\"middle\" x=\"313.5\" y=\"-102.8\">(None, 256)</text>\n",
       "</g>\n",
       "<!-- 1824379199728&#45;&gt;1824379201800 -->\n",
       "<g class=\"edge\" id=\"edge9\"><title>1824379199728-&gt;1824379201800</title>\n",
       "<path d=\"M206,-166.366C206,-158.152 206,-148.658 206,-139.725\" fill=\"none\" stroke=\"black\"/>\n",
       "<polygon fill=\"black\" points=\"209.5,-139.607 206,-129.607 202.5,-139.607 209.5,-139.607\" stroke=\"black\"/>\n",
       "</g>\n",
       "<!-- 1824379329112 -->\n",
       "<g class=\"node\" id=\"node11\"><title>1824379329112</title>\n",
       "<polygon fill=\"none\" points=\"66.5,-0.5 66.5,-46.5 345.5,-46.5 345.5,-0.5 66.5,-0.5\" stroke=\"black\"/>\n",
       "<text font-family=\"Times New Roman,serif\" font-size=\"14.00\" text-anchor=\"middle\" x=\"98\" y=\"-31.3\">dense_1</text>\n",
       "<polyline fill=\"none\" points=\"66.5,-23.5 129.5,-23.5 \" stroke=\"black\"/>\n",
       "<text font-family=\"Times New Roman,serif\" font-size=\"14.00\" text-anchor=\"middle\" x=\"98\" y=\"-8.3\">Dense</text>\n",
       "<polyline fill=\"none\" points=\"129.5,-0.5 129.5,-46.5 \" stroke=\"black\"/>\n",
       "<text font-family=\"Times New Roman,serif\" font-size=\"14.00\" text-anchor=\"middle\" x=\"157.5\" y=\"-31.3\">input:</text>\n",
       "<polyline fill=\"none\" points=\"129.5,-23.5 185.5,-23.5 \" stroke=\"black\"/>\n",
       "<text font-family=\"Times New Roman,serif\" font-size=\"14.00\" text-anchor=\"middle\" x=\"157.5\" y=\"-8.3\">output:</text>\n",
       "<polyline fill=\"none\" points=\"185.5,-0.5 185.5,-46.5 \" stroke=\"black\"/>\n",
       "<text font-family=\"Times New Roman,serif\" font-size=\"14.00\" text-anchor=\"middle\" x=\"227\" y=\"-19.8\">(None, 256)</text>\n",
       "<polyline fill=\"none\" points=\"268.5,-0.5 268.5,-46.5 \" stroke=\"black\"/>\n",
       "<text font-family=\"Times New Roman,serif\" font-size=\"14.00\" text-anchor=\"middle\" x=\"307\" y=\"-19.8\">(None, 11)</text>\n",
       "</g>\n",
       "<!-- 1824379201800&#45;&gt;1824379329112 -->\n",
       "<g class=\"edge\" id=\"edge10\"><title>1824379201800-&gt;1824379329112</title>\n",
       "<path d=\"M206,-83.3664C206,-75.1516 206,-65.6579 206,-56.7252\" fill=\"none\" stroke=\"black\"/>\n",
       "<polygon fill=\"black\" points=\"209.5,-56.6068 206,-46.6068 202.5,-56.6069 209.5,-56.6068\" stroke=\"black\"/>\n",
       "</g>\n",
       "</g>\n",
       "</svg>"
      ],
      "text/plain": [
       "<IPython.core.display.SVG object>"
      ]
     },
     "execution_count": 21,
     "metadata": {},
     "output_type": "execute_result"
    }
   ],
   "source": [
    "%matplotlib inline\n",
    "SVG(model_to_dot(model, show_shapes=True, dpi=65).create(prog='dot', format='svg'))"
   ]
  },
  {
   "cell_type": "code",
   "execution_count": 22,
   "id": "1768cfc9",
   "metadata": {},
   "outputs": [],
   "source": [
    "from keras.models import load_model\n",
    "model.save('fashion_model.h5')"
   ]
  },
  {
   "cell_type": "code",
   "execution_count": 23,
   "id": "6c9e516c",
   "metadata": {},
   "outputs": [],
   "source": [
    "from keras.models import load_model\n",
    "model = load_model('fashion_model.h5')"
   ]
  },
  {
   "cell_type": "code",
   "execution_count": 24,
   "id": "c43cfd92",
   "metadata": {},
   "outputs": [
    {
     "data": {
      "text/plain": [
       "array([[6.47217035e-04, 2.04777371e-05, 3.51539456e-05, 7.32855960e-06,\n",
       "        1.98754037e-06, 9.94370043e-01, 2.02920728e-06, 1.34274844e-04,\n",
       "        1.25569606e-03, 7.69829727e-04, 2.75596068e-03],\n",
       "       [1.06453598e-01, 2.36219838e-02, 1.75999103e-05, 3.17087979e-03,\n",
       "        3.39088682e-03, 9.73248109e-02, 1.84392501e-02, 2.26410804e-03,\n",
       "        3.48600582e-03, 7.39591062e-01, 2.23984406e-03],\n",
       "       [1.00518838e-08, 7.31265670e-09, 1.14734334e-07, 9.32868170e-06,\n",
       "        7.76881706e-08, 1.20551722e-05, 3.73715103e-08, 8.03335976e-09,\n",
       "        9.96563733e-01, 3.00791697e-03, 4.06771695e-04],\n",
       "       [9.12422431e-04, 4.58778208e-03, 8.01108312e-04, 8.34972322e-01,\n",
       "        6.71731234e-02, 2.08268482e-02, 4.57579212e-04, 6.44255280e-02,\n",
       "        9.83484555e-04, 1.75472116e-03, 3.10495030e-03],\n",
       "       [5.38782310e-03, 9.87564623e-01, 8.62858069e-05, 8.46920520e-05,\n",
       "        4.19386802e-03, 2.52652360e-04, 5.49526646e-07, 1.60355529e-09,\n",
       "        9.54910138e-05, 1.37225070e-05, 2.32030102e-03],\n",
       "       [8.46427232e-02, 2.76303794e-02, 4.14586067e-03, 9.75148156e-02,\n",
       "        1.14633897e-02, 1.55232877e-01, 1.23992807e-03, 4.01018793e-03,\n",
       "        5.45898616e-01, 4.84215692e-02, 1.97996181e-02],\n",
       "       [1.35928509e-03, 9.73964691e-01, 4.50895141e-06, 8.55836319e-04,\n",
       "        6.37555774e-03, 1.04417680e-02, 6.91115437e-03, 3.49916736e-05,\n",
       "        1.43516681e-05, 3.40286788e-05, 3.74240722e-06],\n",
       "       [3.62933502e-02, 2.86789524e-04, 9.42181051e-01, 1.50703813e-03,\n",
       "        4.65795310e-04, 4.67469217e-04, 2.05499411e-04, 1.71165429e-02,\n",
       "        4.56280977e-04, 1.16776238e-04, 9.03313572e-04],\n",
       "       [1.11409836e-03, 7.51077139e-04, 4.58759040e-01, 1.00652411e-04,\n",
       "        1.08443208e-04, 1.24455057e-02, 2.32246857e-05, 3.19448509e-03,\n",
       "        1.23029158e-01, 3.62132132e-01, 3.83422151e-02],\n",
       "       [8.47298428e-02, 7.99264852e-03, 3.67892176e-01, 9.53592651e-04,\n",
       "        1.13842230e-04, 1.67355372e-03, 1.83790303e-06, 5.34707904e-01,\n",
       "        8.92546159e-05, 1.05070339e-05, 1.83480792e-03],\n",
       "       [1.07475528e-02, 5.06660417e-02, 6.85731545e-02, 3.58299050e-03,\n",
       "        1.11948866e-02, 2.22225171e-02, 1.25497184e-03, 5.95318526e-03,\n",
       "        3.23103577e-01, 4.19783473e-01, 8.29176158e-02]], dtype=float32)"
      ]
     },
     "execution_count": 24,
     "metadata": {},
     "output_type": "execute_result"
    }
   ],
   "source": [
    "final_result = model.predict(X_test)\n",
    "final_result[:11]"
   ]
  },
  {
   "cell_type": "code",
   "execution_count": 25,
   "id": "08f9cd6b",
   "metadata": {},
   "outputs": [],
   "source": [
    "y_list = y_test.tolist()"
   ]
  },
  {
   "cell_type": "code",
   "execution_count": 26,
   "id": "a6ce8b36",
   "metadata": {},
   "outputs": [
    {
     "data": {
      "text/plain": [
       "32"
      ]
     },
     "execution_count": 26,
     "metadata": {},
     "output_type": "execute_result"
    }
   ],
   "source": [
    "y_list_0 = y_list.count(0)\n",
    "y_list_0"
   ]
  },
  {
   "cell_type": "code",
   "execution_count": 27,
   "id": "3d6d98c1",
   "metadata": {},
   "outputs": [],
   "source": [
    "probability_model = tf.keras.Sequential([model, tf.keras.layers.Softmax()])"
   ]
  },
  {
   "cell_type": "code",
   "execution_count": 28,
   "id": "a892aecb",
   "metadata": {},
   "outputs": [],
   "source": [
    "predictions = probability_model.predict(X_test)"
   ]
  },
  {
   "cell_type": "code",
   "execution_count": 29,
   "id": "ebb005d9",
   "metadata": {},
   "outputs": [
    {
     "data": {
      "text/plain": [
       "5"
      ]
     },
     "execution_count": 29,
     "metadata": {},
     "output_type": "execute_result"
    }
   ],
   "source": [
    "np.argmax(predictions[0])"
   ]
  },
  {
   "cell_type": "code",
   "execution_count": 30,
   "id": "097df856",
   "metadata": {},
   "outputs": [
    {
     "data": {
      "text/plain": [
       "9"
      ]
     },
     "execution_count": 30,
     "metadata": {},
     "output_type": "execute_result"
    }
   ],
   "source": [
    "y_test[0]"
   ]
  },
  {
   "cell_type": "code",
   "execution_count": 31,
   "id": "e6aae376",
   "metadata": {},
   "outputs": [],
   "source": [
    "class_names = ['권운(cirrus, Ci)', '권층운(cirrostratus, Cs)', '권적운(cirrocumulus, Cc)', \n",
    "               '고적운(altocumulus, Ac)', '고도층(altostratus, As)', '적운(cumulus, Cu)', \n",
    "               '적란운(cumulonimbus, Cb)', '후광층(nimbostratus, Ns)', '성층적운(stratocumulus, Sc)', \n",
    "               '충운(stratus, St)', '난기류(contrail, Ct)']"
   ]
  },
  {
   "cell_type": "code",
   "execution_count": 32,
   "id": "a7cc1d87",
   "metadata": {},
   "outputs": [],
   "source": [
    "from tkinter import filedialog"
   ]
  },
  {
   "cell_type": "code",
   "execution_count": 33,
   "id": "b40e5cc3",
   "metadata": {},
   "outputs": [
    {
     "name": "stdout",
     "output_type": "stream",
     "text": [
      "Predict : 적란운(cumulonimbus, Cb)\n"
     ]
    }
   ],
   "source": [
    "# 이미지마다 크기가 다 다르다.-> 픽셀 사이즈 동일해게 해주어야 전처리가 가능하다.\n",
    "data_height = 64\n",
    "data_width = 64\n",
    "channel_n = 3\n",
    "images = np.zeros((1, data_height, data_width, channel_n))\n",
    "## 이미지 읽고, 스케일링, 리사이징\n",
    "path = filedialog.askopenfilename(filetypes=[('Image File','jpg'), ('Image File','jpg'), ('Image File','jpg')])\n",
    "path=path.replace('\\\\','/')\n",
    "image = cv2.imread(path)\n",
    "image = cv2.resize(image, (data_height, data_width)) / 255\n",
    "images[0, :, :, :] = image\n",
    "model = load_model('C:/Users/hi/Desktop/DeepLearning/data/chatbot_dataset/cloud_data/cloud_model.h5')\n",
    "\n",
    "# 3. 모델 사용하기\n",
    "yhat = model.predict(images)\n",
    "np.argmax(yhat)\n",
    "class_names[np.argmax(yhat)]\n",
    "\n",
    "yhat = model.predict(images)\n",
    "np.argmax(yhat)\n",
    "class_names[np.argmax(yhat)]\n",
    "\n",
    "print('Predict : ' +  class_names[np.argmax(yhat)])"
   ]
  }
 ],
 "metadata": {
  "kernelspec": {
   "display_name": "Python 3 (ipykernel)",
   "language": "python",
   "name": "python3"
  },
  "language_info": {
   "codemirror_mode": {
    "name": "ipython",
    "version": 3
   },
   "file_extension": ".py",
   "mimetype": "text/x-python",
   "name": "python",
   "nbconvert_exporter": "python",
   "pygments_lexer": "ipython3",
   "version": "3.7.0"
  }
 },
 "nbformat": 4,
 "nbformat_minor": 5
}

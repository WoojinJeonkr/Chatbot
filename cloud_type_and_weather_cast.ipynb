{
 "cells": [
  {
   "cell_type": "code",
   "execution_count": 1,
   "id": "4e4878ec",
   "metadata": {},
   "outputs": [],
   "source": [
    "def classify_cloud(img):\n",
    "    # add library\n",
    "    import os.path\n",
    "    import cv2\n",
    "    import numpy as np\n",
    "    import pandas as pd\n",
    "    import matplotlib.pyplot as plt\n",
    "    import tensorflow as tf\n",
    "    import seaborn as sns\n",
    "    import PIL\n",
    "    import pathlib\n",
    "    \n",
    "    from glob import glob\n",
    "    from tensorflow.keras import layers\n",
    "    from tensorflow import keras\n",
    "    from tensorflow.keras.models import Sequential\n",
    "    from sklearn.model_selection import train_test_split\n",
    "    from sklearn.metrics import classification_report,accuracy_score\n",
    "    from keras.models import load_model\n",
    "    \n",
    "    # 파일 경로 지정\n",
    "    change_dir = os.chdir(\"C:/Users/hi/Desktop/DeepLearning/data/chatbot_dataset/cloud_data\")\n",
    "    test_dir = pathlib.Path(os.getcwd())\n",
    "    real_img = list(test_dir.glob(img))\n",
    "    PIL.Image.open(str(real_img[0]))\n",
    "    \n",
    "    img_height = 180\n",
    "    img_width = 180\n",
    "    \n",
    "    class_names = ['고적운(altocumulus, Ac)', '고층운(altostratus, As)', '적란운(cumulonimbus, Cb)',\n",
    "               '권적운(cirrocumulus, Cc)', '권운(cirrus, Ci)', '권층운(cirrostratus, Cs)', \n",
    "               '비행운(contrail, Ct)', '적운(cumulus, Cu)', '난층운(nimbostratus, Ns)',\n",
    "               '층적운(stratocumulus, Sc)', '충운(stratus, St)'\n",
    "               ]\n",
    "    \n",
    "    img = keras.preprocessing.image.load_img(\n",
    "        real_img[0], target_size=(img_height, img_width)\n",
    "    )\n",
    "    img_array = keras.preprocessing.image.img_to_array(img)\n",
    "    img_array = tf.expand_dims(img_array, 0) # Create a batch\n",
    "\n",
    "    model2 = load_model('C:/Users/hi/Desktop/DeepLearning/data/cloud_model.h5')\n",
    "\n",
    "    predictions = model2.predict(img_array)\n",
    "    score = tf.nn.softmax(predictions[0])\n",
    "    \n",
    "    return class_names[np.argmax(score)]\n",
    "    print(\"{}으로 예측됨\".format(class_names[np.argmax(score)]))"
   ]
  },
  {
   "cell_type": "code",
   "execution_count": 2,
   "id": "08dfe4fb",
   "metadata": {},
   "outputs": [
    {
     "data": {
      "text/plain": [
       "'난층운(nimbostratus, Ns)'"
      ]
     },
     "execution_count": 2,
     "metadata": {},
     "output_type": "execute_result"
    }
   ],
   "source": [
    "classify_cloud('real_img.jpg')"
   ]
  },
  {
   "cell_type": "code",
   "execution_count": 3,
   "id": "d2b38ba0",
   "metadata": {},
   "outputs": [
    {
     "data": {
      "text/plain": [
       "'난층운(nimbostratus, Ns)'"
      ]
     },
     "execution_count": 3,
     "metadata": {},
     "output_type": "execute_result"
    }
   ],
   "source": [
    "cloud = classify_cloud('real_img.jpg')\n",
    "cloud"
   ]
  },
  {
   "cell_type": "code",
   "execution_count": 4,
   "id": "1eaafc98",
   "metadata": {},
   "outputs": [],
   "source": [
    "def find_out_weather(nx, ny):\n",
    "    import requests\n",
    "    import json\n",
    "    import datetime\n",
    "    \n",
    "    vilage_weather_url = \"http://apis.data.go.kr/1360000/VilageFcstInfoService_2.0/getVilageFcst?\"\n",
    "    service_key = \"servicekey\"\n",
    "    \n",
    "    today = datetime.datetime.today()\n",
    "    base_date = today.strftime(\"%Y%m%d\")\n",
    "    base_time = \"0800\"\n",
    "    \n",
    "    payload = \"serviceKey=\" + service_key + \"&\" + \"dataType=json\" + \"&\" + \"base_date=\" + base_date + \"&\" + \"base_time=\" + base_time + \"&\" + \"nx=\" + str(nx) + \"&\" + \"ny=\" + str(ny)\n",
    "    \n",
    "    data = dict()\n",
    "    data['date'] = base_date\n",
    "    \n",
    "    weather_data = dict()\n",
    "    \n",
    "    res = requests.get(vilage_weather_url + payload)\n",
    "    items = res.json().get('response').get('body').get('items')\n",
    "    \n",
    "    for item in items['item']:\n",
    "        \n",
    "        # 기온\n",
    "        if item['category'] == 'TMP':\n",
    "            weather_data['tmp'] = item['fcstValue']\n",
    "\n",
    "        # 기상상태\n",
    "        if item['category'] == 'PTY':\n",
    "\n",
    "            weather_code = item['fcstValue']\n",
    "\n",
    "            if weather_code == '1':\n",
    "                weather_state = '비'\n",
    "            elif weather_code == '2':\n",
    "                weather_state = '비/눈'\n",
    "            elif weather_code == '3':\n",
    "                weather_state = '눈'\n",
    "            elif weather_code == '4':\n",
    "                weather_state = '소나기'\n",
    "            else:\n",
    "                weather_state = '기상 이상 없음'\n",
    "\n",
    "    weather_data['code'] = weather_code\n",
    "    weather_data['state'] = weather_state\n",
    "        \n",
    "    data['weather'] = weather_data\n",
    "    return data['date'], data['weather']['tmp'], data['weather']['state']"
   ]
  },
  {
   "cell_type": "code",
   "execution_count": 5,
   "id": "7457242e",
   "metadata": {},
   "outputs": [
    {
     "name": "stdout",
     "output_type": "stream",
     "text": [
      "20220617 : 현재 기온은 19 도이며 현재 상태는 기상 이상 없음\n"
     ]
    }
   ],
   "source": [
    "weather = find_out_weather(37, 128) # 8시에 측정된 날씨 출력\n",
    "print(weather[0], ': 현재 기온은', weather[1], '도이며 현재 상태는', weather[2])"
   ]
  },
  {
   "cell_type": "code",
   "execution_count": 6,
   "id": "ba66bdbf",
   "metadata": {},
   "outputs": [],
   "source": [
    "def score():\n",
    "    if '권운' in cloud:\n",
    "        c_score = 0\n",
    "    elif '고적운' in cloud:\n",
    "        c_score = 0\n",
    "    elif '적운' in cloud:\n",
    "        c_score = 0\n",
    "    elif '권적운' in cloud:\n",
    "        c_score = 1\n",
    "    elif '층운' in cloud:\n",
    "        c_score = 1\n",
    "    elif '고층운' in cloud:\n",
    "        c_score = 2\n",
    "    elif '난층운' in cloud:\n",
    "        c_score = 2\n",
    "    elif '층적운' in cloud:\n",
    "        c_score = 2\n",
    "    elif '적란운' in cloud:\n",
    "        c_score = 2\n",
    "    elif '권층운' in cloud:\n",
    "        c_score = 3\n",
    "    else:\n",
    "        pass\n",
    "    \n",
    "    if '기상 이상 없음' in weather[2]:\n",
    "        w_score = 0\n",
    "    elif '비' in weather[2]:\n",
    "        w_score = 1\n",
    "    elif '눈' in weather[2]:\n",
    "        w_score = 1\n",
    "    elif '비/눈' in weather[2]:\n",
    "        w_score = 1\n",
    "    elif '소나기' in weather[2]:\n",
    "        w_score = 1\n",
    "    else:\n",
    "        pass\n",
    "    \n",
    "    score = c_score + w_score\n",
    "    \n",
    "    if score == 0:\n",
    "        score = '맑아요'\n",
    "        cloth = ['pants', 'shorts', 'skirt']\n",
    "    elif score == 1:\n",
    "        score = '흐려요'\n",
    "        cloth = ['blouse', 'dress', 'pants', 'shorts', 'skirt', 'Tshirt']\n",
    "    elif score == 2:\n",
    "        score = '비나 눈이 올 수 있어요. 우산을 챙겨 가세요'\n",
    "        cloth = ['jacket', 'pants', 'Tshirt']\n",
    "    elif score == 3:\n",
    "        score = '비/눈이 많이 와요. 미끄러지지 않게 조심하세요'\n",
    "        cloth = ['jacket', 'pants', 'sweater']\n",
    "    else:\n",
    "        score = '태풍이 와요.. 이런 날씨엔 집에 있어요'\n",
    "        cloth = ['pants', 'sweater']\n",
    "    \n",
    "    return score, cloth"
   ]
  },
  {
   "cell_type": "code",
   "execution_count": 7,
   "id": "d433c761",
   "metadata": {},
   "outputs": [
    {
     "data": {
      "text/plain": [
       "('흐려요', ['blouse', 'dress', 'pants', 'shorts', 'skirt', 'Tshirt'])"
      ]
     },
     "execution_count": 7,
     "metadata": {},
     "output_type": "execute_result"
    }
   ],
   "source": [
    "score()[0], score()[1]"
   ]
  },
  {
   "cell_type": "code",
   "execution_count": 8,
   "id": "608efcc3",
   "metadata": {},
   "outputs": [],
   "source": [
    "def recommend_cloth(inputs):\n",
    "    import os\n",
    "    from PIL import Image\n",
    "    import random\n",
    "    path = 'C:/Users/hi/Desktop/DeepLearning/img-fashion/' # 의류 이미지 저장된 경로 입력\n",
    "    fashion = os.listdir(path)\n",
    "    fashion_list = [file for file in fashion if file.endswith('.jpg')]\n",
    "    types = inputs\n",
    "    kind = [s for s in fashion_list if types in s]\n",
    "    random_img = random.sample(kind, 3)\n",
    "    rand_img1 = Image.open(path+random_img[0])\n",
    "    rand_img2 = Image.open(path+random_img[1])\n",
    "    rand_img3 = Image.open(path+random_img[2])\n",
    "    rand_img1 = rand_img1.resize((300, 400))\n",
    "    rand_img2 = rand_img2.resize((300, 400))\n",
    "    rand_img3 = rand_img3.resize((300, 400))\n",
    "    rand_img1_size = rand_img1.size\n",
    "    rand_img2_size = rand_img2.size\n",
    "    rand_img3_size = rand_img3.size\n",
    "    new_image = Image.new('RGB',(3*rand_img1_size[0], rand_img1_size[1]), (250,250,250))\n",
    "    new_image.paste(rand_img1,(0,0))\n",
    "    new_image.paste(rand_img2,(rand_img1_size[0],0))\n",
    "    new_image.paste(rand_img3,(2*rand_img1_size[0],0))\n",
    "    new_image.show() # 새 창에서 이미지 띄우기\n",
    "    print('결과를 확인해주세요')"
   ]
  },
  {
   "cell_type": "code",
   "execution_count": 9,
   "id": "8b61fd37",
   "metadata": {},
   "outputs": [
    {
     "data": {
      "text/plain": [
       "'blouse'"
      ]
     },
     "execution_count": 9,
     "metadata": {},
     "output_type": "execute_result"
    }
   ],
   "source": [
    "cloth_list = score()[1]\n",
    "cloth_list[0]"
   ]
  },
  {
   "cell_type": "code",
   "execution_count": 10,
   "id": "de27b6a5",
   "metadata": {},
   "outputs": [
    {
     "name": "stdout",
     "output_type": "stream",
     "text": [
      "결과를 확인해주세요\n",
      "결과를 확인해주세요\n",
      "결과를 확인해주세요\n",
      "결과를 확인해주세요\n",
      "결과를 확인해주세요\n",
      "결과를 확인해주세요\n"
     ]
    }
   ],
   "source": [
    "for rc_cloth in cloth_list:\n",
    "    recommend_cloth(rc_cloth)"
   ]
  }
 ],
 "metadata": {
  "kernelspec": {
   "display_name": "Python 3 (ipykernel)",
   "language": "python",
   "name": "python3"
  },
  "language_info": {
   "codemirror_mode": {
    "name": "ipython",
    "version": 3
   },
   "file_extension": ".py",
   "mimetype": "text/x-python",
   "name": "python",
   "nbconvert_exporter": "python",
   "pygments_lexer": "ipython3",
   "version": "3.7.0"
  }
 },
 "nbformat": 4,
 "nbformat_minor": 5
}

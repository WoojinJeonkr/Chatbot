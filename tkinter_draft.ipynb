{
 "cells": [
  {
   "cell_type": "code",
   "execution_count": 1,
   "metadata": {},
   "outputs": [],
   "source": [
    "import os\n",
    "import sys\n",
    "import urllib\n",
    "from functools import partial\n",
    "from tkinter import *\n",
    "import tkinter.filedialog as tkfd\n",
    "import requests\n",
    "from PIL import Image, ImageTk"
   ]
  },
  {
   "cell_type": "code",
   "execution_count": 2,
   "metadata": {},
   "outputs": [],
   "source": [
    "import numpy as np\n",
    "import os\n",
    "import PIL\n",
    "import PIL.Image\n",
    "import tensorflow as tf\n",
    "import tensorflow_datasets as tfds\n",
    "from glob import glob\n",
    "from tensorflow.keras.preprocessing.text import text_to_word_sequence\n",
    "import cv2\n",
    "import matplotlib.pyplot as plt\n",
    "from sklearn.model_selection import train_test_split\n",
    "from tensorflow.keras.layers import *\n",
    "from tensorflow.keras.models import Sequential\n",
    "from tensorflow.keras.callbacks import EarlyStopping, ModelCheckpoint\n",
    "from sklearn.preprocessing import LabelEncoder\n",
    "import tensorflow as tf\n",
    "from tensorflow.keras.layers import *\n",
    "from tensorflow.keras.models import *"
   ]
  },
  {
   "cell_type": "code",
   "execution_count": 3,
   "metadata": {},
   "outputs": [],
   "source": [
    "class Fullscreen_Window(Tk):\n",
    "\n",
    "    # Tkinter 창 구성\n",
    "    def __init__(self):\n",
    "        self.tk = Tk()\n",
    "        self.tk.geometry(\"1000x1000\")\n",
    "        self.tk.title('Image Classification')\n",
    "        self.top = Frame(self.tk)\n",
    "        self.top.pack(side=TOP)\n",
    "        self.top2 = Frame(self.tk)\n",
    "        self.top2.pack(side=TOP)\n",
    "        self.bottom_left = Frame(self.tk)\n",
    "        self.bottom_left.pack(side=LEFT, fill=BOTH, expand=True)\n",
    "        self.bottom_right = Frame(self.tk)\n",
    "        self.bottom_right.pack(side=RIGHT, fill=BOTH, expand=True)\n",
    "        self.state = False\n",
    "        self.tk.bind(\"f\", self.toggle_fullscreen)\n",
    "        self.tk.bind(\"e\", self.end_fullscreen)\n",
    "\n",
    "    # 전체 화면 설정\n",
    "    def toggle_fullscreen(self, event=None):\n",
    "        self.state = not self.state  # Just toggling the boolean\n",
    "        self.tk.attributes(\"-fullscreen\", self.state)\n",
    "        return \"break\"\n",
    "\n",
    "    # 전체 화면 해제\n",
    "    def end_fullscreen(self, event=None):\n",
    "        self.state = False\n",
    "        self.tk.attributes(\"-fullscreen\", False)\n",
    "        return \"break\""
   ]
  },
  {
   "cell_type": "code",
   "execution_count": 4,
   "metadata": {},
   "outputs": [],
   "source": [
    "# 이미지 설정\n",
    "def set_img():\n",
    "    global entered_img\n",
    "    my_img = Label(w,\n",
    "          text='내 이미지',\n",
    "          font=('comic sans', 10)\n",
    "          )\n",
    "    my_img.pack(in_=w.bottom_left, side=TOP)\n",
    "    entered_img = Image.open(entry.get())\n",
    "    user_img = ImageTk.PhotoImage(entered_img)\n",
    "    user_label = Label(w, image=user_img)\n",
    "    user_label.image = user_img\n",
    "    user_label.pack(in_=w.bottom_left, side=LEFT)"
   ]
  },
  {
   "cell_type": "code",
   "execution_count": 12,
   "metadata": {},
   "outputs": [],
   "source": [
    "def showimg(number):\n",
    "    print(\"showimg: 받은 number=\", number)\n",
    "    global entered_img\n",
    "    global my_img\n",
    "    global img_label\n",
    "    try:\n",
    "        my_img.destroy()\n",
    "        img_label.destroy()\n",
    "    except Exception as e:\n",
    "        print(str(e))\n",
    "    my_img = Label(w,\n",
    "          text='결과 이미지',\n",
    "          font=('comic sans', 10)\n",
    "          )\n",
    "    data = \"C://Users/hi/Desktop/DeepLearning/img-fashion/\" + str(number-1) + \".jpg\"\n",
    "    entered_img = Image.open(data)\n",
    "    result_img = ImageTk.PhotoImage(entered_img)\n",
    "    img_label = Label(w)\n",
    "    img_label.configure(image=result_img)\n",
    "    img_label.image = result_img\n",
    "    img_label.pack(in_=w.bottom_right, side=RIGHT)"
   ]
  },
  {
   "cell_type": "code",
   "execution_count": 13,
   "metadata": {},
   "outputs": [],
   "source": [
    "# 이미지 탐색\n",
    "def find_img():\n",
    "    path = tkfd.askopenfilename(initialdir=\"/\", title=\"Select file\", filetypes=((\"jpeg files\", \"*.jpg\"), (\"all files\", \"*.*\"), ))\n",
    "    entry.insert('0', path)\n",
    "\n",
    "# 폴더 탐색\n",
    "def find_folder():\n",
    "    path = tkfd.askdirectory(initialdir=\"/\",title='Please select a directory')\n",
    "    entry.insert('0', path)"
   ]
  },
  {
   "cell_type": "code",
   "execution_count": 14,
   "metadata": {},
   "outputs": [],
   "source": [
    "user_tag=[]\n",
    "w = Fullscreen_Window()\n",
    "entry_guide = Label(w,\n",
    "           text='사진 선택: ',\n",
    "           font=('comic sans', 10)\n",
    "           )\n",
    "entry_guide.pack(in_=w.top, side=LEFT)  # id라는 라벨을 w에 넣어줌\n",
    "entry = Entry(w)\n",
    "entry.pack(in_=w.top, side=LEFT)\n",
    "\n",
    "s = Button(w, text='폴더 찾아보기', command=find_folder)\n",
    "s.pack(in_=w.top, side=LEFT)\n",
    "s = Button(w, text='이미지 찾아보기', command=find_img)\n",
    "s.pack(in_=w.top, side=LEFT)\n",
    "s = Button(w, text='입력', command=set_img)\n",
    "s.pack(in_=w.top, side=LEFT)\n",
    "b = Button(w, text='분류 시작', command=lambda : [find_user_tag(), search(), read()])\n",
    "b.pack(in_=w.top, side=LEFT)\n",
    "\n",
    "w.tk.mainloop()"
   ]
  }
 ],
 "metadata": {
  "kernelspec": {
   "display_name": "Python 3 (ipykernel)",
   "language": "python",
   "name": "python3"
  },
  "language_info": {
   "codemirror_mode": {
    "name": "ipython",
    "version": 3
   },
   "file_extension": ".py",
   "mimetype": "text/x-python",
   "name": "python",
   "nbconvert_exporter": "python",
   "pygments_lexer": "ipython3",
   "version": "3.7.0"
  }
 },
 "nbformat": 4,
 "nbformat_minor": 2
}

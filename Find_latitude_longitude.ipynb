{
 "cells": [
  {
   "cell_type": "code",
   "execution_count": 1,
   "id": "50ec8dc9",
   "metadata": {},
   "outputs": [],
   "source": [
    "# kakao open api에서 키워드 검색을 통해 주소와 위도 경도를 찾을 수 있으나\n",
    "# 키워드와 관련된 장소가 모두 검색되어 위도 경도를 분류하는 작업을 1번 더 해야 하므로\n",
    "# 도로명 주소를 입력받아 위도 경도를 구하도록 한다"
   ]
  },
  {
   "cell_type": "code",
   "execution_count": 2,
   "id": "57dd6999",
   "metadata": {},
   "outputs": [],
   "source": [
    "def search_road_addr():\n",
    "    # 네이버 openAPI 검색 > 지역 활용\n",
    "    # 키워드를 통해 도로명 주소를 얻음\n",
    "    \n",
    "    import urllib.request\n",
    "    import json\n",
    "    from urllib import parse\n",
    "    \n",
    "    #애플리케이션 클라이언트 id 및 secret\n",
    "    client_id = \"your_naver_application_client_id\" # 네이버 developers에서 발급받은 client_id\n",
    "    client_secret = \"your_naver_application_client_secret\" # 네이버 developers에서 발급받은 client_secret\n",
    "    \n",
    "    #지역검색 url\n",
    "    url = \"https://openapi.naver.com/v1/search/local.json\"\n",
    "    option = \"&display=1&start=1&sort=random\" # sort: random(유사도 순), comment(카페/블로그 리뷰 개수 순)\n",
    "    keyword = input(\"키워드: \")\n",
    "    q_keyword = urllib.parse.quote(keyword)\n",
    "    query = \"?query=\"+q_keyword\n",
    "    url_query = url + query + option\n",
    "    \n",
    "    #Open API 검색 요청 개체 설정\n",
    "    request = urllib.request.Request(url_query)\n",
    "    request.add_header(\"X-Naver-Client-Id\",client_id)\n",
    "    request.add_header(\"X-Naver-Client-Secret\",client_secret)\n",
    "    \n",
    "    #검색 요청 및 처리\n",
    "    response = urllib.request.urlopen(request)\n",
    "    rescode = response.getcode()\n",
    "    if(rescode == 200):\n",
    "        response_body = response.read()\n",
    "        content = response_body.decode('utf-8')\n",
    "        words = content.replace(\"\\n\\t\\t\\t\", '').split(',') # 내용을 ,로 분류\n",
    "        words_index = [i for i in range(len(words)) if 'roadAddress' in words[i]][0] # 도로명 주소에 해당하는 인덱스 검색\n",
    "        word = words[words_index].replace('\"','') # 내용에서 도로명 주소에 해당하는 키와 값 가져오기\n",
    "        roadaddr = word.strip('roadAddress:')\n",
    "        search_addr = [keyword, roadaddr]\n",
    "        return search_addr\n",
    "    else:\n",
    "        return None"
   ]
  },
  {
   "cell_type": "code",
   "execution_count": 3,
   "id": "9fec9c2f",
   "metadata": {},
   "outputs": [],
   "source": [
    "def road_addr(): # 위도 경도 구하기\n",
    "    # kakao api에서 키워드 검색을 통해 주소와 위도 경도를 찾을 수 있으나\n",
    "    # 키워드와 관련된 장소가 모두 검색되어 위도 경도를 분류하는 작업을 1번 더 해야 하므로\n",
    "    # 도로명 주소를 입력받아 위도 경도를 구하도록 한다\n",
    "    \n",
    "    import json\n",
    "    import requests\n",
    "    import math\n",
    "    from bs4 import BeautifulSoup as bs\n",
    "    \n",
    "    # 도로명 주소 함수 호출\n",
    "    s_addr =  search_road_addr()\n",
    "    \n",
    "    # 키워드 추출\n",
    "    keyword = s_addr[0]\n",
    "    \n",
    "    # 도로명 주소 구하기\n",
    "    addr = s_addr[1]\n",
    "    \n",
    "    # 카카오 map api 주소?query=도로명 주소\n",
    "    url = 'https://dapi.kakao.com/v2/local/search/address.json?query='+addr\n",
    "    \n",
    "    # api 신청 시 발급받은 RestAPI 키\n",
    "    API_key = 'RestAPI_key'\n",
    "    headers = {\"Authorization\": \"KakaoAK \" + API_key}\n",
    "    \n",
    "    # api를 통해 가져온 결과\n",
    "    result = json.loads(str(requests.get(url,headers=headers).text))\n",
    "    \n",
    "    # 결과에서 도로명 주소가 담긴 인덱스 값 추출\n",
    "    road_addr = result['documents'][0]['road_address']\n",
    "    \n",
    "    # road_addr['x']는 소수점을 포함한 문자열이므로 숫자로 변환하기 위해서는 int가 아닌 float로 변환해야 한다\n",
    "    # latitude: 위도\n",
    "    # longitude: 경도\n",
    "    latitude = math.trunc(float(road_addr['x']))\n",
    "    longitude = math.trunc(float(road_addr['y']))\n",
    "    \n",
    "    # 검색 결과를 리스트에 담아줌\n",
    "    keyword_result = [keyword, addr, latitude, longitude]\n",
    "    \n",
    "    return keyword_result"
   ]
  },
  {
   "cell_type": "code",
   "execution_count": 4,
   "id": "28d1e364",
   "metadata": {
    "scrolled": true
   },
   "outputs": [
    {
     "name": "stdout",
     "output_type": "stream",
     "text": [
      "키워드:하이미디어 종로\n",
      "하이미디어 종로으로 입력하신 결과 도로명 주소: 서울특별시 종로구 인사동길 12 대일빌딩 7층, 위도: 126, 경도: 37\n"
     ]
    }
   ],
   "source": [
    "results = road_addr()\n",
    "print(results[0] + \n",
    "      '으로 입력하신 결과 도로명 주소: ' + results[1] + \n",
    "      ', 위도: ' + str(results[2]) + \n",
    "      ', 경도: ' + str(results[3])\n",
    ")"
   ]
  }
 ],
 "metadata": {
  "kernelspec": {
   "display_name": "Python 3 (ipykernel)",
   "language": "python",
   "name": "python3"
  },
  "language_info": {
   "codemirror_mode": {
    "name": "ipython",
    "version": 3
   },
   "file_extension": ".py",
   "mimetype": "text/x-python",
   "name": "python",
   "nbconvert_exporter": "python",
   "pygments_lexer": "ipython3",
   "version": "3.7.13"
  }
 },
 "nbformat": 4,
 "nbformat_minor": 5
}
